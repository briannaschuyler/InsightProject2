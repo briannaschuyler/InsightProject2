{
 "cells": [
  {
   "cell_type": "code",
   "execution_count": 1,
   "metadata": {
    "collapsed": true
   },
   "outputs": [],
   "source": [
    "import pandas as pd\n",
    "from datetime import date, datetime, timedelta # to manipulate dates\n",
    "\n",
    "import matplotlib.pyplot as plt\n",
    "% matplotlib inline\n",
    "\n",
    "from makeWeekList import makeWeekList\n",
    "\n",
    "path='/Users/brianna/Documents/WL_DBdeets/'"
   ]
  },
  {
   "cell_type": "code",
   "execution_count": 2,
   "metadata": {
    "collapsed": false
   },
   "outputs": [],
   "source": [
    "# Add a column for how many weeks out of the 12 we're looking at did the person use the product\n",
    "# We can use this later as an alternate metric of 'retention'.\n",
    "def calculateWeeksVisitedOutOf12(df):\n",
    "    df['WeeksVisitedOutOf12'] = 0 \n",
    "  \n",
    "    # Number of weeks visited out of 12\n",
    "    for w in range(12):\n",
    "        df['WeeksVisitedOutOf12'] += df['VisitedWeek'+str(w)]\n",
    "\n",
    "    return df"
   ]
  },
  {
   "cell_type": "code",
   "execution_count": 3,
   "metadata": {
    "collapsed": true
   },
   "outputs": [],
   "source": [
    "def calculateRetentionStatus(df):\n",
    "\n",
    "    # 0 means churned after Week0 (or didn't even make it to Week0)\n",
    "    # 1 means churned after first week\n",
    "    # 2 means churned after first month\n",
    "    # 3 means still around at month 3\n",
    " \n",
    "    # If users stick around through Week0, assign 1\n",
    "    df['RetentionStatus4Levels'] = df.VisitedWeek0[:]\n",
    "     \n",
    "    # If users stick around in the last 3 weeks of the first month, assign 1\n",
    "    df['RetentionStatusRetainedMth0'] = 0\n",
    "    for w in range(3):\n",
    "        w = w + 1\n",
    "        df['RetentionStatusRetainedMth0'] += df['VisitedWeek'+str(w)]\n",
    "    mth0retain = df.RetentionStatusRetainedMth0 > 0\n",
    "    df.loc[mth0retain,'RetentionStatusRetainedMth0'] = 1\n",
    "    df.loc[mth0retain,'RetentionStatus4Levels'] = 2\n",
    "\n",
    "    # If users stick around in the last month, assign 1\n",
    "    df['RetentionStatusRetainedMth2'] = 0\n",
    "    for w in range(4):\n",
    "        w = w + 8\n",
    "        df['RetentionStatusRetainedMth2'] += df['VisitedWeek'+str(w)]\n",
    "    mth2retain = df.RetentionStatusRetainedMth2 > 0\n",
    "    df.loc[mth2retain,'RetentionStatusRetainedMth2'] = 1\n",
    "    df.loc[mth2retain,'RetentionStatus4Levels'] = 3\n",
    "\n",
    "    df['RetentionStatus2Levels'] = df.RetentionStatus4Levels[:]\n",
    "    df.loc[df.RetentionStatus2Levels == 1, 'RetentionStatus2Levels'] = 0\n",
    "    df.loc[df.RetentionStatus2Levels == 2, 'RetentionStatus2Levels'] = 0\n",
    "    df.loc[df.RetentionStatus2Levels == 3, 'RetentionStatus2Levels'] = 1\n",
    "\n",
    "    return df"
   ]
  },
  {
   "cell_type": "code",
   "execution_count": 4,
   "metadata": {
    "collapsed": false
   },
   "outputs": [],
   "source": [
    "def addNewColumns(df, variableList):\n",
    "    for v in variableList:\n",
    "        df[v] = None\n",
    "        df[v+'Bin'] = None\n",
    "    return df"
   ]
  },
  {
   "cell_type": "code",
   "execution_count": 5,
   "metadata": {
    "collapsed": false,
    "scrolled": true
   },
   "outputs": [],
   "source": [
    "# Read in the dataframe with meetings data and assign the correct information\n",
    "# to each person's Week0\n",
    "def calculateWeekXMeetingsInfo(df, weekList, weekStringList, X):\n",
    "    for w in range(len(weekList)-X-1):\n",
    "        week0 = weekStringList[w]\n",
    "        date_start=weekStringList[w+X]\n",
    "        date_end=weekStringList[w+X+1]\n",
    "        #print(date_start)\n",
    "\n",
    "        # Load the file with meeting information for that week\n",
    "        meetings = pd.read_csv(path+date_start+'to'+date_end+'EvntsCollapsedByUser.csv')\n",
    "        # Tack it on to the retention dataframe (lining up by user)\n",
    "        df = pd.DataFrame.merge(df, meetings, on = 'user_id', how = 'left')\n",
    "\n",
    "        # For the participants whose Week0 was that week, copy over the info to their Week0 columns\n",
    "        # Make a boolean array of whether user is in the cohort that started at Week0 or not\n",
    "        condition = df.loc[:, \"registrationWeek\"] == week0\n",
    "\n",
    "        df.loc[condition, 'MeetingsTotalWeek'+str(X)] = df.loc[condition, 'MeetingsTotal']\n",
    "        df.loc[condition, 'organizerTotalWeek'+str(X)] = df.loc[condition, 'organizerTotal']\n",
    "        df.loc[condition, 'PortionOfOrganizerWeek'+str(X)] = df.loc[condition, 'PortionOfOrganizer']\n",
    "        df.loc[condition, 'num_attendeesWeek'+str(X)] = df.loc[condition, 'num_attendees']\n",
    "        df.loc[condition, 'AveNumAttendeesWeek'+str(X)] = df.loc[condition, 'AveNumAttendees'] \n",
    "\n",
    "        numCohort = len(df.MeetingsTotalWeek0[df.registrationWeek == week0])\n",
    "\n",
    "        # Dropthe columns you created in the retention dataframe so they can get made again \n",
    "        # for the next week in the list.\n",
    "        df = df.drop(['MeetingsTotal', 'organizerTotal', 'PortionOfOrganizer', 'num_attendees','AveNumAttendees'], axis = 1)\n",
    "        \n",
    "    return df"
   ]
  },
  {
   "cell_type": "code",
   "execution_count": 6,
   "metadata": {
    "collapsed": true
   },
   "outputs": [],
   "source": [
    "# Loop through weeks and fill in information on when people completed the following activities\n",
    "# during their Week0 and Week1.  The variable x here is which week you want this info for.\n",
    "def calculateWeekXEventsInfo(df, weekList, weekStringList, X):\n",
    "    for w in range(len(weekList)-1-X):\n",
    "        # Make a new Week0 for each week. Make a second variable called week_0 which is the \n",
    "        # same thing except that the dashes are underscores (since columns can't have dashes.)\n",
    "        week0=weekStringList[w]\n",
    "        weekX=weekStringList[w+X]\n",
    "        week_X = weekX.replace('-','_')\n",
    " \n",
    "        # Make a boolean array of whether user is in the cohort that started at Week0 or not\n",
    "        condition = df.loc[:, 'registrationWeek'] == week0\n",
    "\n",
    "        # For each user in the current cohort (ie. started this week, replace their Week0 data.)\n",
    "        df.loc[condition, 'added_meetingWeek'+str(X)] = df.loc[condition, 'added_meeting'+week_X]\n",
    "        df.loc[condition, 'added_agenda_itemWeek'+str(X)] = df.loc[condition, 'added_agenda_item'+week_X]\n",
    "        #df.loc[condition, 'added_noteWeek'+str(X)] = df.loc[condition, 'added_note'+week_X]\n",
    "        df.loc[condition, 'assigned_action_itemWeek'+str(X)] = df.loc[condition, 'assigned_action_item'+week_X]\n",
    "        #df.loc[condition, 'viewed_onboarding__tour_4_pageWeek'+str(X)] = df.loc[condition, 'viewed_onboarding__tour_4_page'+week_X]\n",
    "    \n",
    "    # Where there are no entries, fill in zeroes\n",
    "    zeroValues=df['added_meetingWeek'+str(X)].isnull()\n",
    "    df.loc[zeroValues,'added_meetingWeek'+str(X)]=0\n",
    "    zeroValues=df['added_agenda_itemWeek'+str(X)].isnull()\n",
    "    df.loc[zeroValues,'added_agenda_itemWeek'+str(X)]=0\n",
    "    zeroValues=df['assigned_action_itemWeek'+str(X)].isnull()\n",
    "    df.loc[zeroValues,'assigned_action_itemWeek'+str(X)]=0\n",
    "    \n",
    "    return df"
   ]
  },
  {
   "cell_type": "code",
   "execution_count": 7,
   "metadata": {
    "collapsed": true
   },
   "outputs": [],
   "source": [
    "# Create a binary variable for each of the variables we're interested in.  (This\n",
    "# will come in handy later when we want to plot counts of each variable.)\n",
    "def createBinaryVariable(df, variableList, wk):\n",
    "\n",
    "    for variableName in variableList:\n",
    "        df.loc[df[variableName+str(wk)].isnull(), variableName+str(wk)+'Bin'] = 0\n",
    "        df.loc[df[variableName+str(wk)].notnull(), variableName+str(wk)+'Bin'] = 1\n",
    "    \n",
    "    return df"
   ]
  },
  {
   "cell_type": "code",
   "execution_count": 8,
   "metadata": {
    "collapsed": false
   },
   "outputs": [],
   "source": [
    "# Calculate the difference in events from week X to week Y\n",
    "def calculateWeekX_YDiff(df, variableList, X, Y):\n",
    "    for v in variableList:\n",
    "        df[v+str(Y)+'_'+str(X)+'diff']=df[v+str(Y)]-df[v+str(X)] \n",
    "    return df"
   ]
  },
  {
   "cell_type": "code",
   "execution_count": 9,
   "metadata": {
    "collapsed": true
   },
   "outputs": [],
   "source": [
    "def deleteUnnamedCols(df):\n",
    "    df=df.drop('Unnamed: 0_x', axis=1)\n",
    "    df=df.drop('Unnamed: 0_y', axis=1)\n",
    "    for col in df.columns:\n",
    "        if 'Unnamed' in col:\n",
    "            #df = df.drop(col, axis=1)\n",
    "            print(col)\n",
    "    \n",
    "    return df"
   ]
  },
  {
   "cell_type": "markdown",
   "metadata": {},
   "source": [
    "# Main Function\n",
    "\n",
    "Run through each function to manipulate the retention dataframe to include the variables you want."
   ]
  },
  {
   "cell_type": "code",
   "execution_count": 10,
   "metadata": {
    "collapsed": false
   },
   "outputs": [],
   "source": [
    "# Main function.\n",
    "# Read in the dataframe and go through each function to populate it.\n",
    "\n",
    "# Read in the dataframe that has retention information for each user.\n",
    "#retention = pd.read_csv(path+'Retention.csv')\n",
    "retention = pd.read_csv(path+'04_UserRegistrationDateMoreDetailsRetention.csv')\n",
    "\n",
    "# Add a variable for weeks visited out of 12\n",
    "retention =  calculateWeeksVisitedOutOf12(retention)\n",
    "\n",
    "retention = calculateRetentionStatus(retention)\n",
    "\n",
    "# Add new columns for meeting data and events data in Week 0.\n",
    "# We'll fill these columns in later.\n",
    "# Add columns for information on user meetings and user intereaction with product at Week0\n",
    "# variableList = ['MeetingsTotalWeek', 'organizerTotalWeek','PortionOfOrganizerWeek','num_attendeesWeek',\n",
    "#                 'AveNumAttendeesWeek', 'added_meetingWeek', 'added_agenda_itemWeek', 'added_noteWeek',\n",
    "#                 'assigned_action_itemWeek', 'viewed_onboarding__tour_4_pageWeek']\n",
    "variableList = ['MeetingsTotalWeek', 'organizerTotalWeek','PortionOfOrganizerWeek','num_attendeesWeek',\n",
    "                'AveNumAttendeesWeek', 'added_meetingWeek', 'added_agenda_itemWeek',\n",
    "                'assigned_action_itemWeek']\n",
    "\n",
    "retention = addNewColumns(retention, variableList)\n",
    "\n",
    "# Make a list of weeks that people started (cohorts)\n",
    "start_date = '2015-05-24'; end_date = '2016-01-26'\n",
    "weekList, weekStringList = makeWeekList(start_date, end_date)\n",
    "\n",
    "# Fill in weekly meetings info for each cohort's Week0 and Week1\n",
    "retention = calculateWeekXMeetingsInfo(retention, weekList, weekStringList, 0)\n",
    "retention = calculateWeekXMeetingsInfo(retention, weekList, weekStringList, 1)\n",
    "\n",
    "# Fill in weekly events info for each cohort's Week0\n",
    "#eventsInfo = pd.read_csv(path+'UserRegistrationDateMoreDetails.csv')\n",
    "retention = calculateWeekXEventsInfo(retention, weekList, weekStringList,0)\n",
    "retention = calculateWeekXEventsInfo(retention, weekList, weekStringList,1)\n",
    "retention = createBinaryVariable(retention, variableList, 0)\n",
    "retention = createBinaryVariable(retention, variableList, 1)\n",
    "\n",
    "# Calculate the events velocity (difference in events from Week0 to Week1)\n",
    "retention = calculateWeekX_YDiff(retention, variableList, 0, 1)\n",
    "\n",
    "retention = deleteUnnamedCols(retention)"
   ]
  },
  {
   "cell_type": "code",
   "execution_count": 11,
   "metadata": {
    "collapsed": false
   },
   "outputs": [],
   "source": [
    "retention.to_csv(path+'05_RetentionMeetingsBehaviorFull.csv')"
   ]
  },
  {
   "cell_type": "code",
   "execution_count": null,
   "metadata": {
    "collapsed": false
   },
   "outputs": [],
   "source": [
    "retention.head()"
   ]
  },
  {
   "cell_type": "code",
   "execution_count": null,
   "metadata": {
    "collapsed": true
   },
   "outputs": [],
   "source": []
  }
 ],
 "metadata": {
  "kernelspec": {
   "display_name": "Python 2",
   "language": "python",
   "name": "python2"
  },
  "language_info": {
   "codemirror_mode": {
    "name": "ipython",
    "version": 2
   },
   "file_extension": ".py",
   "mimetype": "text/x-python",
   "name": "python",
   "nbconvert_exporter": "python",
   "pygments_lexer": "ipython2",
   "version": "2.7.11"
  }
 },
 "nbformat": 4,
 "nbformat_minor": 0
}
