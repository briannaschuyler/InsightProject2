{
 "cells": [
  {
   "cell_type": "markdown",
   "metadata": {},
   "source": [
    "# Script to calculate Meetings Per Week"
   ]
  },
  {
   "cell_type": "markdown",
   "metadata": {
    "collapsed": true
   },
   "source": [
    "This code will access data for my company from their space on a RedShift cluster so that I can analyze it and look for patterns to predict both retention (who sticks around) and virality (who is more likely to get other people to use the program)."
   ]
  },
  {
   "cell_type": "code",
   "execution_count": 23,
   "metadata": {
    "collapsed": true
   },
   "outputs": [],
   "source": [
    "## Python packages - you may have to pip install sqlalchemy, sqlalchemy_utils, and psycopg2.\n",
    "import sys # To input the date you want to start with\n",
    "\n",
    "from sqlalchemy import create_engine\n",
    "from sqlalchemy_utils import database_exists, create_database\n",
    "import psycopg2\n",
    "import pandas as pd\n",
    "\n",
    "import re # to access database details in a file\n",
    "import time # to time how long queries and processes take\n",
    "from datetime import datetime, timedelta # to manipulate dates\n",
    "\n",
    "#import matplotlib.pyplot as plt\n",
    "#% matplotlib inline"
   ]
  },
  {
   "cell_type": "code",
   "execution_count": 2,
   "metadata": {
    "collapsed": true
   },
   "outputs": [],
   "source": [
    "path='/Users/brianna/Documents/WL_DBdeets/'"
   ]
  },
  {
   "cell_type": "markdown",
   "metadata": {},
   "source": [
    "### Make a function to access each database"
   ]
  },
  {
   "cell_type": "markdown",
   "metadata": {},
   "source": [
    "To keep the access details secure, keep them in a separate file that will remain private, even when the code is shared."
   ]
  },
  {
   "cell_type": "code",
   "execution_count": 3,
   "metadata": {
    "collapsed": false
   },
   "outputs": [],
   "source": [
    "def connect_db(which_db):\n",
    "    # Grab the details from a text file for how to access the database\n",
    "    db_file = open(path+which_db+'DBdeets.txt','r')\n",
    "    db_deets = db_file.read()\n",
    "\n",
    "    dbname=re.findall('dbname=(\\S+)',db_deets)\n",
    "    username=re.findall('username=(\\S+)',db_deets)\n",
    "    hostname=re.findall('hostname=(\\S+)',db_deets)\n",
    "    portname=re.findall('portname=(\\S+)',db_deets)\n",
    "    pw=re.findall('pw=(\\S+)',db_deets)\n",
    "    \n",
    "    # Connect to the database.  (If you can't, jump out and give a polite notice!)\n",
    "    con = None\n",
    "    try:\n",
    "        con = psycopg2.connect(database = dbname[0], \n",
    "                               user = username[0], \n",
    "                               host = hostname[0], \n",
    "                               port = portname[0], \n",
    "                               password = pw[0])\n",
    "        # Set up a cursor.  (Anytime you get an error with the cursor, you have to reset the \n",
    "        # connection with it)\n",
    "        cur=con.cursor()\n",
    "        print('I connected to the '+which_db+' database!!')\n",
    "    except:\n",
    "        print('Unable to connect to '+which_db+' database :(')\n",
    "    \n",
    "    db_file.close()\n",
    "    \n",
    "    return  con, cur"
   ]
  },
  {
   "cell_type": "markdown",
   "metadata": {},
   "source": [
    "### Open the two databases where data are stored."
   ]
  },
  {
   "cell_type": "markdown",
   "metadata": {},
   "source": [
    "The 'events' database has a main table called 'events131567', which has a bunch of sub-tables with information on the events completed by the user.\n",
    "\n",
    "The 'transactions' database has a bunch of tables with data about the user:\n",
    "pg_stat_statements,\n",
    "activities,\n",
    "agenda_templates,\n",
    "calendar_webhooks,\n",
    "calendars,\n",
    "contacts,\n",
    "integration_authorizations,\n",
    "integration_providers,\n",
    "integrations,\n",
    "meeting_seeds,\n",
    "migrations,\n",
    "notifications,\n",
    "password_reset_tokens,\n",
    "meetings,\n",
    "short_urls,\n",
    "team_invitations,\n",
    "team_memberships,\n",
    "teams,\n",
    "users,\n",
    "events,\n",
    "items,\n",
    "recurring_event_rules,\n",
    "meeting_invitations\n"
   ]
  },
  {
   "cell_type": "code",
   "execution_count": 4,
   "metadata": {
    "collapsed": false
   },
   "outputs": [
    {
     "name": "stdout",
     "output_type": "stream",
     "text": [
      "I connected to the evnt database!!\n",
      "I connected to the trns database!!\n"
     ]
    }
   ],
   "source": [
    "# Access the 'events' database.\n",
    "conE, curE = connect_db('evnt')\n",
    "\n",
    "# Access the 'transactions' database.\n",
    "conT, curT = connect_db('trns')\n"
   ]
  },
  {
   "cell_type": "markdown",
   "metadata": {},
   "source": [
    "### Look at the number of meetings (and total events) stored on a user's calendar in a certain week."
   ]
  },
  {
   "cell_type": "code",
   "execution_count": 30,
   "metadata": {
    "collapsed": false
   },
   "outputs": [
    {
     "name": "stdout",
     "output_type": "stream",
     "text": [
      "2015-05-24 00:00:00\n",
      "2015-05-31 00:00:00\n"
     ]
    }
   ],
   "source": [
    "# Let's look at how many events on the calendar of each user.  We can't just pull a count of all of the\n",
    "# events since some of these events aren't actually meetings (ie. blocked off time for other things.) To \n",
    "# figure out which events are actually meetings, let's pull all of the events, then go through and make \n",
    "# a subset of events where there is more than one attendee.\n",
    "\n",
    "# Start the week before Sunday, 2015-05-31 when the first data are recorded.\n",
    "#start_date='2015-05-24 00:00:00+00:00'\n",
    "#end_date='2015-05-31 00:00:00+00:00'\n",
    "start_date_input='2015-05-24'\n",
    "\n",
    "start_date = datetime.strptime(start_date_input, \"%Y-%m-%d\")\n",
    "\n",
    "end_date = start_date + timedelta(days=7)\n",
    "\n",
    "print('Start on '+str(start_date))\n",
    "print('End on '+str(end_date))"
   ]
  },
  {
   "cell_type": "code",
   "execution_count": 31,
   "metadata": {
    "collapsed": false
   },
   "outputs": [
    {
     "name": "stdout",
     "output_type": "stream",
     "text": [
      "\n",
      "select c.user_id, u.primary_email, e.title, \n",
      "       lower(e.time_range) meeting_start, upper(e.time_range) meeting_end, \n",
      "       e.attendees\n",
      "from users u\n",
      "join \n",
      "    calendars c\n",
      "on\n",
      "    u.id = c.user_id\n",
      "left outer join \n",
      "    events e \n",
      "on \n",
      "    e.calendar_id = c.id\n",
      "where lower(e.time_range) between \n",
      "'2015-05-24 00:00:00' and '2015-05-31 00:00:00'\n",
      "28.8962919712\n"
     ]
    }
   ],
   "source": [
    "sql_string1 = \"\"\"\n",
    "select c.user_id, u.primary_email, e.title, \n",
    "       lower(e.time_range) meeting_start, upper(e.time_range) meeting_end, \n",
    "       e.attendees\n",
    "from users u\n",
    "join \n",
    "    calendars c\n",
    "on\n",
    "    u.id = c.user_id\n",
    "left outer join \n",
    "    events e \n",
    "on \n",
    "    e.calendar_id = c.id\n",
    "where lower(e.time_range) between \n",
    "\"\"\"\n",
    "\n",
    "#sql_string2 = \"({date} - INTERVAL '7 days') and {date}\".format(date = start_date)\n",
    "sql_string2 = \"'{start_date}' and '{end_date}'\".format(start_date = start_date, end_date = end_date)\n",
    "\n",
    "sql_query = sql_string1 + sql_string2\n",
    "\n",
    "print(sql_query)\n",
    "\n",
    "starttime=time.time()\n",
    "\n",
    "query_result = pd.read_sql_query(sql_query,conT)\n",
    "\n",
    "print(time.time()-starttime)"
   ]
  },
  {
   "cell_type": "code",
   "execution_count": 32,
   "metadata": {
    "collapsed": false
   },
   "outputs": [
    {
     "data": {
      "text/plain": [
       "Index([u'user_id', u'primary_email', u'title', u'meeting_start',\n",
       "       u'meeting_end', u'attendees'],\n",
       "      dtype='object')"
      ]
     },
     "execution_count": 32,
     "metadata": {},
     "output_type": "execute_result"
    }
   ],
   "source": [
    "# Make a temporary dataframe of all of the events in this date range\n",
    "df_allevts=query_result.iloc[:]\n",
    "df_allevts.columns"
   ]
  },
  {
   "cell_type": "code",
   "execution_count": 33,
   "metadata": {
    "collapsed": false
   },
   "outputs": [
    {
     "name": "stdout",
     "output_type": "stream",
     "text": [
      "15517\n",
      "233605\n",
      "2\n",
      "1\n",
      "20\n",
      "20\n",
      "20\n",
      "2\n",
      "3\n",
      "25\n",
      "3\n",
      "2\n"
     ]
    }
   ],
   "source": [
    "# Sanity check: Only a subset of the user_id's should be unique since many users have more than \n",
    "# one event in a week.\n",
    "print(len(df_allevts[:]['user_id'].unique()))\n",
    "print(len(df_allevts[:]['user_id']))\n",
    "\n",
    "for i in range(10):\n",
    "    print(len(df_allevts.attendees[i]))"
   ]
  },
  {
   "cell_type": "code",
   "execution_count": 34,
   "metadata": {
    "collapsed": false
   },
   "outputs": [
    {
     "name": "stderr",
     "output_type": "stream",
     "text": [
      "/anaconda/lib/python2.7/site-packages/ipykernel/__main__.py:7: SettingWithCopyWarning: \n",
      "A value is trying to be set on a copy of a slice from a DataFrame.\n",
      "Try using .loc[row_indexer,col_indexer] = value instead\n",
      "\n",
      "See the caveats in the documentation: http://pandas.pydata.org/pandas-docs/stable/indexing.html#indexing-view-versus-copy\n"
     ]
    }
   ],
   "source": [
    "# First make sure there are no meetings with missing information (this should be\n",
    "# less than 1% of the meetings).  Then add a column that lists the number of\n",
    "# attendees at the meeting.\n",
    "\n",
    "df_allevts=df_allevts[pd.isnull(df_allevts.attendees)==False]\n",
    "\n",
    "df_allevts['num_attendees'] = df_allevts.attendees.apply(lambda x : len(x))"
   ]
  },
  {
   "cell_type": "code",
   "execution_count": 35,
   "metadata": {
    "collapsed": false
   },
   "outputs": [],
   "source": [
    "#df_allevts.head()"
   ]
  },
  {
   "cell_type": "code",
   "execution_count": 36,
   "metadata": {
    "collapsed": false
   },
   "outputs": [
    {
     "name": "stdout",
     "output_type": "stream",
     "text": [
      "13146\n",
      "149364\n"
     ]
    }
   ],
   "source": [
    "# Make a dataframe that's a subset of the original, with only the rows where the event is a meeting\n",
    "# (Meeting is defined as an event with more than one person attending)\n",
    "df_allmtngs = df_allevts[df_allevts.num_attendees > 1]\n",
    "\n",
    "print(len(df_allmtngs[:]['user_id'].unique()))\n",
    "print(len(df_allmtngs[:]['user_id']))\n",
    "#df_allmtngs.head()"
   ]
  },
  {
   "cell_type": "code",
   "execution_count": 37,
   "metadata": {
    "collapsed": false
   },
   "outputs": [],
   "source": [
    "# This function takes a dataframe and finds whether the organizer of an event is the same as \n",
    "# the user who has this event in their calendar\n",
    "def find_organizer(df):\n",
    "    try:\n",
    "        for a in range(len(df['attendees'])):\n",
    "            try:\n",
    "                # If this list contains the 'organizer' key, continue to find out who it is.\n",
    "                if df['attendees'][a]['organizer'] == True:\n",
    "                    #print(df_allmtngs.attendees[x][a]['email'])\n",
    "                    #print(df_allmtngs.primary_email[x])\n",
    "                    \n",
    "                    # If the organizer is the same as the user, change the value in the 'organizer'\n",
    "                    # column to True (ie. this person organized this meeting.)\n",
    "                    if df['attendees'][a]['email'] == df['primary_email']:\n",
    "                        return True\n",
    "                        #return df['attendees'][a]['email']\n",
    "            except:\n",
    "                continue\n",
    "        #print(str(x)+' '+str(a)+' '+organizer)\n",
    "    except:\n",
    "        return False"
   ]
  },
  {
   "cell_type": "code",
   "execution_count": 38,
   "metadata": {
    "collapsed": false
   },
   "outputs": [
    {
     "name": "stderr",
     "output_type": "stream",
     "text": [
      "/anaconda/lib/python2.7/site-packages/ipykernel/__main__.py:4: SettingWithCopyWarning: \n",
      "A value is trying to be set on a copy of a slice from a DataFrame.\n",
      "Try using .loc[row_indexer,col_indexer] = value instead\n",
      "\n",
      "See the caveats in the documentation: http://pandas.pydata.org/pandas-docs/stable/indexing.html#indexing-view-versus-copy\n"
     ]
    }
   ],
   "source": [
    "# Create a column that checks whether the user was the organizer of the event.\n",
    "organizer_column = df_allmtngs.apply(lambda x : find_organizer(x), axis=1)\n",
    "\n",
    "df_allmtngs['organizer'] = organizer_column"
   ]
  },
  {
   "cell_type": "code",
   "execution_count": 39,
   "metadata": {
    "collapsed": false
   },
   "outputs": [
    {
     "data": {
      "text/plain": [
       "Index([u'user_id', u'primary_email', u'title', u'meeting_start',\n",
       "       u'meeting_end', u'attendees', u'num_attendees', u'organizer'],\n",
       "      dtype='object')"
      ]
     },
     "execution_count": 39,
     "metadata": {},
     "output_type": "execute_result"
    }
   ],
   "source": [
    "df_allmtngs.columns\n"
   ]
  },
  {
   "cell_type": "markdown",
   "metadata": {},
   "source": [
    "### Now make a de-identified dataframe we can actually save.  \n"
   ]
  },
  {
   "cell_type": "code",
   "execution_count": 40,
   "metadata": {
    "collapsed": true
   },
   "outputs": [],
   "source": [
    "# The first will have a row for each event in the calendar and the following columns:\n",
    "# user_id, start time of each meeting, number of attendees in the meeting, organizer status\n",
    "\n",
    "del df_allmtngs['primary_email']; del df_allmtngs['title' ]; del df_allmtngs['attendees' ]\n",
    "\n",
    "#start_date = min(df_allmtngs.meeting_start)\n",
    "#end_date = max(df_allmtngs.meeting_start)\n",
    "df_allmtngs.to_csv(path+str(start_date)+'to'+str(end_date)+'Evnts_byEvnt.csv')"
   ]
  }
 ],
 "metadata": {
  "kernelspec": {
   "display_name": "Python 2",
   "language": "python",
   "name": "python2"
  },
  "language_info": {
   "codemirror_mode": {
    "name": "ipython",
    "version": 2
   },
   "file_extension": ".py",
   "mimetype": "text/x-python",
   "name": "python",
   "nbconvert_exporter": "python",
   "pygments_lexer": "ipython2",
   "version": "2.7.11"
  }
 },
 "nbformat": 4,
 "nbformat_minor": 0
}
