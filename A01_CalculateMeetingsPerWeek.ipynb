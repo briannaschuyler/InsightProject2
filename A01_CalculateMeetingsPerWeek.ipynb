{
 "cells": [
  {
   "cell_type": "markdown",
   "metadata": {},
   "source": [
    "# Script to calculate Meetings Per Week"
   ]
  },
  {
   "cell_type": "markdown",
   "metadata": {
    "collapsed": true
   },
   "source": [
    "This code will access data for my company from their space on a RedShift cluster so that I can analyze it and look for patterns to predict both retention (who sticks around) and virality (who is more likely to get other people to use the program)."
   ]
  },
  {
   "cell_type": "code",
   "execution_count": null,
   "metadata": {
    "collapsed": true
   },
   "outputs": [],
   "source": [
    "## Python packages - you may have to pip install sqlalchemy, sqlalchemy_utils, and psycopg2.\n",
    "import sys # To input the date you want to start with\n",
    "\n",
    "from sqlalchemy import create_engine\n",
    "from sqlalchemy_utils import database_exists, create_database\n",
    "import psycopg2\n",
    "import pandas as pd\n",
    "\n",
    "import re # to access database details in a file\n",
    "import time # to time how long queries and processes take\n",
    "from datetime import datetime, timedelta # to manipulate dates\n",
    "\n",
    "from connect_db import connect_db # function I wrote to connect to the database.\n",
    "\n",
    "#import matplotlib.pyplot as plt\n",
    "#% matplotlib inline"
   ]
  },
  {
   "cell_type": "code",
   "execution_count": null,
   "metadata": {
    "collapsed": true
   },
   "outputs": [],
   "source": [
    "path='/Users/brianna/Documents/WL_DBdeets/'"
   ]
  },
  {
   "cell_type": "markdown",
   "metadata": {},
   "source": [
    "### Open the two databases where data are stored."
   ]
  },
  {
   "cell_type": "markdown",
   "metadata": {},
   "source": [
    "The 'events' database has a main table called 'events131567', which has a bunch of sub-tables with information on the events completed by the user.\n",
    "\n",
    "The 'transactions' database has a bunch of tables with data about the user:\n",
    "pg_stat_statements,\n",
    "activities,\n",
    "agenda_templates,\n",
    "calendar_webhooks,\n",
    "calendars,\n",
    "contacts,\n",
    "integration_authorizations,\n",
    "integration_providers,\n",
    "integrations,\n",
    "meeting_seeds,\n",
    "migrations,\n",
    "notifications,\n",
    "password_reset_tokens,\n",
    "meetings,\n",
    "short_urls,\n",
    "team_invitations,\n",
    "team_memberships,\n",
    "teams,\n",
    "users,\n",
    "events,\n",
    "items,\n",
    "recurring_event_rules,\n",
    "meeting_invitations\n"
   ]
  },
  {
   "cell_type": "code",
   "execution_count": null,
   "metadata": {
    "collapsed": false
   },
   "outputs": [],
   "source": [
    "# Access the 'events' database.\n",
    "conE, curE = connect_db('evnt', path)\n",
    "\n",
    "# Access the 'transactions' database.\n",
    "conT, curT = connect_db('trns', path)\n"
   ]
  },
  {
   "cell_type": "markdown",
   "metadata": {},
   "source": [
    "### Look at the number of meetings (and total events) stored on a user's calendar in a certain week."
   ]
  },
  {
   "cell_type": "code",
   "execution_count": null,
   "metadata": {
    "collapsed": false
   },
   "outputs": [],
   "source": [
    "def query_db(start_date, end_date):\n",
    "\n",
    "    #print('Start on '+str(start_date))\n",
    "    #print('End on '+str(end_date))\n",
    "\n",
    "    # Construct the SQL query to get user_id, email, title of meeting, etc.\n",
    "    sql_string1 = \"\"\"\n",
    "    select c.user_id, u.primary_email, e.title, \n",
    "           lower(e.time_range) meeting_start, upper(e.time_range) meeting_end, \n",
    "           e.attendees\n",
    "    from users u\n",
    "    join \n",
    "        calendars c\n",
    "    on\n",
    "        u.id = c.user_id\n",
    "    left outer join \n",
    "        events e \n",
    "    on \n",
    "        e.calendar_id = c.id\n",
    "    where lower(e.time_range) between \n",
    "    \"\"\"\n",
    "\n",
    "    sql_string2 = \"'{start_date}' and '{end_date}'\".format(start_date = start_date, end_date = end_date)\n",
    "\n",
    "    sql_query = sql_string1 + sql_string2\n",
    "\n",
    "    #print(sql_query)\n",
    "\n",
    "    query_result = pd.read_sql_query(sql_query,conT)\n",
    "    return query_result"
   ]
  },
  {
   "cell_type": "code",
   "execution_count": null,
   "metadata": {
    "collapsed": false
   },
   "outputs": [],
   "source": [
    "def make_df(query_result):\n",
    "    # Make a temporary dataframe of all of the events in this date range\n",
    "    df=query_result.iloc[:]\n",
    "    df.columns\n",
    "    \n",
    "    # Sanity check: Only a subset of the user_id's should be unique since many users have more than \n",
    "    # one event in a week.\n",
    "    #print(len(df_allevts[:]['user_id'].unique()))\n",
    "    #print(len(df_allevts[:]['user_id']))\n",
    "\n",
    "    #for i in range(10):\n",
    "    #    print(len(df_allevts.attendees[i]))\n",
    "    return df"
   ]
  },
  {
   "cell_type": "code",
   "execution_count": null,
   "metadata": {
    "collapsed": false
   },
   "outputs": [],
   "source": [
    "# First make sure there are no meetings with missing information (this should be\n",
    "# less than 1% of the meetings).  Then add a column that lists the number of\n",
    "# attendees at the meeting.\n",
    "def calculateNumAttendees(df):\n",
    "    df=df[pd.isnull(df.attendees)==False]\n",
    "    df['num_attendees'] = df.attendees.apply(lambda x : len(x))\n",
    "    return df"
   ]
  },
  {
   "cell_type": "code",
   "execution_count": null,
   "metadata": {
    "collapsed": false
   },
   "outputs": [],
   "source": [
    "# Make a dataframe that's a subset of the original, with only the rows where the event is a meeting\n",
    "# (Meeting is defined as an event with more than one person attending)\n",
    "def makeMeetingsDF(df):\n",
    "    df_allmtngs = df[df.num_attendees > 1]\n",
    "\n",
    "    print(len(df_allmtngs[:]['user_id'].unique()))\n",
    "    print(len(df_allmtngs[:]['user_id']))\n",
    "    #df_allmtngs.head()\n",
    "    return df_allmtngs"
   ]
  },
  {
   "cell_type": "code",
   "execution_count": null,
   "metadata": {
    "collapsed": false
   },
   "outputs": [],
   "source": [
    "# This function takes a dataframe and finds whether the organizer of an event is the same as \n",
    "# the user who has this event in their calendar\n",
    "def find_organizer(df):\n",
    "    try:\n",
    "        for a in range(len(df['attendees'])):\n",
    "            try:\n",
    "                # If this list contains the 'organizer' key, continue to find out who it is.\n",
    "                if df['attendees'][a]['organizer'] == True:\n",
    "                    #print(df_allmtngs.attendees[x][a]['email'])\n",
    "                    #print(df_allmtngs.primary_email[x])\n",
    "                    \n",
    "                    # If the organizer is the same as the user, change the value in the 'organizer'\n",
    "                    # column to True (ie. this person organized this meeting.)\n",
    "                    if df['attendees'][a]['email'] == df['primary_email']:\n",
    "                        return True\n",
    "                        #return df['attendees'][a]['email']\n",
    "            except:\n",
    "                continue\n",
    "        #print(str(x)+' '+str(a)+' '+organizer)\n",
    "    except:\n",
    "        return False"
   ]
  },
  {
   "cell_type": "code",
   "execution_count": null,
   "metadata": {
    "collapsed": false
   },
   "outputs": [],
   "source": [
    "# Create a column that checks whether the user was the organizer of the event.\n",
    "def createOrganizerColumn(df_allmtngs):\n",
    "    organizer_column = df_allmtngs.apply(lambda x : find_organizer(x), axis=1)\n",
    "    df_allmtngs['organizer'] = organizer_column\n",
    "    #print(df_allmtngs.columns)\n",
    "    return df_allmtngs"
   ]
  },
  {
   "cell_type": "code",
   "execution_count": null,
   "metadata": {
    "collapsed": true
   },
   "outputs": [],
   "source": [
    "def deleteExtraColumns(df_allmtngs):\n",
    "    del df_allmtngs['primary_email']; del df_allmtngs['title' ]; del df_allmtngs['attendees' ]\n",
    "    return df_allmtngs"
   ]
  },
  {
   "cell_type": "markdown",
   "metadata": {},
   "source": [
    "# For each week, make a dataframe of de-identified information we can save."
   ]
  },
  {
   "cell_type": "code",
   "execution_count": null,
   "metadata": {
    "collapsed": true
   },
   "outputs": [],
   "source": [
    "# Make a list of the weeks between 2015-05-24 and now.\n",
    "weekList = []\n",
    "date_start = datetime.strptime('2015-05-24', \"%Y-%m-%d\")\n",
    "current_date = datetime.now()\n",
    "\n",
    "while date_start < current_date + timedelta(days=7):\n",
    "    weekList.append(date_start)\n",
    "    date_start += timedelta(days=7)\n",
    "\n",
    "# Make an identical list but filled with the string version of the variable instead of the \n",
    "# datetime version.  (We have to use the [:] notation or else both variable names point to\n",
    "# the same object.)\n",
    "\n",
    "weekStringList=weekList[:]\n",
    "for w in range(len(weekStringList)):\n",
    "    weekStringList[w]=str(weekStringList[w]).split(' ')[0]"
   ]
  },
  {
   "cell_type": "code",
   "execution_count": null,
   "metadata": {
    "collapsed": false
   },
   "outputs": [],
   "source": [
    "# Let's look at how many events on the calendar of each user.  We can't just pull a count of all of the\n",
    "# events since some of these events aren't actually meetings (ie. blocked off time for other things.) To \n",
    "# figure out which events are actually meetings, let's pull all of the events, then go through and make \n",
    "# a subset of events where there is more than one attendee.\n",
    "\n",
    "for w in WeekStringList:\n",
    "    start_date = datetime.strptime(w, \"%Y-%m-%d\")\n",
    "    end_date = start_date + timedelta(days=7)\n",
    "\n",
    "    query_result = query_db(start_date, end_date)\n",
    "    df_allevts = make_df(query_result)\n",
    "    df_allevts = calculateNumAttendees(df_allevts)\n",
    "\n",
    "    df_allmtngs = makeMeetingsDF(df_allevts)\n",
    "    df_allmtngs = createOrganizerColumn(df_allmtngs)\n",
    "    df_allmtngs = deleteExtraColumns(df_allmtngs)\n",
    "\n",
    "    # The final dataframe will have a row for each event in the calendar and the following columns:\n",
    "    # user_id, start time of each meeting, number of attendees in the meeting, organizer status\n",
    "\n",
    "    #start_date = min(df_allmtngs.meeting_start)\n",
    "    #end_date = max(df_allmtngs.meeting_start)\n",
    "    df_allmtngs.to_csv(path+str(start_date)+'to'+str(end_date)+'Evnts_byEvnt.csv')"
   ]
  },
  {
   "cell_type": "code",
   "execution_count": null,
   "metadata": {
    "collapsed": true
   },
   "outputs": [],
   "source": []
  }
 ],
 "metadata": {
  "kernelspec": {
   "display_name": "Python 2",
   "language": "python",
   "name": "python2"
  },
  "language_info": {
   "codemirror_mode": {
    "name": "ipython",
    "version": 2
   },
   "file_extension": ".py",
   "mimetype": "text/x-python",
   "name": "python",
   "nbconvert_exporter": "python",
   "pygments_lexer": "ipython2",
   "version": "2.7.11"
  }
 },
 "nbformat": 4,
 "nbformat_minor": 0
}
