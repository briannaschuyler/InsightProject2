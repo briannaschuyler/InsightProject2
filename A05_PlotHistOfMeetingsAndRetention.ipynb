{
 "cells": [
  {
   "cell_type": "code",
   "execution_count": null,
   "metadata": {
    "collapsed": true
   },
   "outputs": [],
   "source": [
    "import pandas as pd\n",
    "import matplotlib.pyplot as plt\n",
    "% matplotlib inline\n",
    "\n",
    "path='/Users/brianna/Documents/WL_DBdeets/'"
   ]
  },
  {
   "cell_type": "code",
   "execution_count": null,
   "metadata": {
    "collapsed": false
   },
   "outputs": [],
   "source": [
    "# Read in the dataframe that has retention information for each user.\n",
    "retention = pd.read_csv(path+'RetentionTemp.csv')\n",
    "print(retention.columns)\n",
    "print(len(retention.index))\n",
    "\n",
    "\n",
    "# Read in the dataframe with meetings data for one of the weeks\n",
    "# This needs to get fixed later to refer to meetings at Week0\n",
    "meetings = pd.read_csv(path+'2016-01-10 00:00:00to2016-01-17 00:00:00EvntsCollapsedByUser.csv')\n",
    "print(meetings.columns)\n",
    "print(len(meetings.index))\n",
    "\n",
    "\n",
    "df = pd.DataFrame.merge(retention, meetings, on='user_id', how='outer')\n",
    "\n",
    "df[df.MeetingsTotal.isnull()]=0"
   ]
  },
  {
   "cell_type": "code",
   "execution_count": null,
   "metadata": {
    "collapsed": false
   },
   "outputs": [],
   "source": [
    "df.head(5)"
   ]
  },
  {
   "cell_type": "code",
   "execution_count": null,
   "metadata": {
    "collapsed": false
   },
   "outputs": [],
   "source": [
    "# Plot number of meetings in a given week\n",
    "plt.figure(figsize=(20,10))\n",
    "n, bins, patches = plt.hist(df.MeetingsTotal[df.MeetingsTotal<100], 50, facecolor='green', alpha=0.75)\n",
    "\n",
    "plt.xlabel('Number of Meetings Per Week (Week of 2016-01-10)', size=20)"
   ]
  },
  {
   "cell_type": "code",
   "execution_count": null,
   "metadata": {
    "collapsed": false
   },
   "outputs": [],
   "source": [
    "# Make a function to calculate percentage of users active in each week\n",
    "def calculateStats(df):\n",
    "    # Plot the retention curve of all of the people.\n",
    "    # Find the number of people who went to the website on WeekX and \n",
    "    # divide by the total number of entries in WeekX.\n",
    "    # (You can't just divide by total number of entries because people that\n",
    "    # joined fewer than 8 weeks ago don't have entries for all of the weeks.)\n",
    "    sumDF=df.sum()\n",
    "\n",
    "    # Make a tiny dataframe with a row for every week (0,1,2,etc)\n",
    "    # And columns for numActive, totalActive, and percentActive\n",
    "    retenStats = pd.DataFrame(columns=['Week','numActive', 'numTotal','percentActive'])\n",
    "\n",
    "    for x in range(8):  \n",
    "        Week = x\n",
    "        numActive = sumDF['VisitedWeek'+str(x)]\n",
    "        numTotal = df['VisitedWeek'+str(x)].count()\n",
    "        percentActive = numActive/numTotal\n",
    "        retenStats.loc[x] = [Week,numActive,numTotal,percentActive]\n",
    "\n",
    "    return retenStats\n",
    "    #percentActive=numActive/numTotal"
   ]
  },
  {
   "cell_type": "code",
   "execution_count": null,
   "metadata": {
    "collapsed": false
   },
   "outputs": [],
   "source": [
    "all = calculateStats(df)\n",
    "meet0 = calculateStats(df[df.MeetingsTotal==0])\n",
    "meet1to4 = calculateStats(df[(df.MeetingsTotal>0) & (df.MeetingsTotal<5)])\n",
    "meet5to8 = calculateStats(df[(df.MeetingsTotal>4) & (df.MeetingsTotal<9)])\n",
    "meet9to12 = calculateStats(df[(df.MeetingsTotal>8) & (df.MeetingsTotal<12)])\n",
    "meet12plus = calculateStats(df[df.MeetingsTotal>12])"
   ]
  },
  {
   "cell_type": "code",
   "execution_count": null,
   "metadata": {
    "collapsed": false
   },
   "outputs": [],
   "source": [
    "print(all.head())\n",
    "print(meet0.head())\n",
    "print(meet1to4.head())"
   ]
  },
  {
   "cell_type": "code",
   "execution_count": null,
   "metadata": {
    "collapsed": false
   },
   "outputs": [],
   "source": [
    "plt.figure(figsize=(20,10))\n",
    "\n",
    "#plt.plot(all.Week, all.percentActive, label=\"All Users\")\n",
    "plt.plot(meet0.Week, meet0.percentActive, label=\"0 Meetings/Wk\")\n",
    "plt.plot(meet1to4.Week, meet1to4.percentActive, label=\"1-4 Meetings/Wk\")\n",
    "plt.plot(meet5to8.Week, meet5to8.percentActive, label=\"5-8 Meetings/Wk\")\n",
    "plt.plot(meet9to12.Week, meet9to12.percentActive, label=\"9-12 Meetings/Wk\")\n",
    "plt.plot(meet12plus.Week, meet12plus.percentActive, label=\"12+ Meetings/Wk\")\n",
    "\n",
    "plt.ylim([0, 1])\n",
    "\n",
    "plt.xlabel('Weeks from Sign-up', size=20)\n",
    "plt.ylabel('Percentage of Users', size=20)\n",
    "plt.legend(loc = 'upper center', fontsize=20)\n",
    "# plt.legend(')"
   ]
  },
  {
   "cell_type": "code",
   "execution_count": null,
   "metadata": {
    "collapsed": true
   },
   "outputs": [],
   "source": []
  }
 ],
 "metadata": {
  "kernelspec": {
   "display_name": "Python 2",
   "language": "python",
   "name": "python2"
  },
  "language_info": {
   "codemirror_mode": {
    "name": "ipython",
    "version": 2
   },
   "file_extension": ".py",
   "mimetype": "text/x-python",
   "name": "python",
   "nbconvert_exporter": "python",
   "pygments_lexer": "ipython2",
   "version": "2.7.11"
  }
 },
 "nbformat": 4,
 "nbformat_minor": 0
}
