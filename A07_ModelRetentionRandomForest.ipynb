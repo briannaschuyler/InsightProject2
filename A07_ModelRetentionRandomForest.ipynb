{
 "cells": [
  {
   "cell_type": "markdown",
   "metadata": {},
   "source": [
    "# Model the data"
   ]
  },
  {
   "cell_type": "code",
   "execution_count": 1,
   "metadata": {
    "collapsed": true
   },
   "outputs": [],
   "source": [
    "import matplotlib.patches as patches\n",
    "import matplotlib.pyplot as plt\n",
    "from matplotlib.ticker import FuncFormatter\n",
    "import matplotlib as mpl\n",
    "import matplotlib.pyplot as plt\n",
    "import seaborn as sns\n",
    "sns.set(style=\"whitegrid\", color_codes=True)\n",
    "\n",
    "from mpl_toolkits.axes_grid1 import make_axes_locatable\n",
    "import numpy as np\n",
    "import os\n",
    "import pandas as pd\n",
    "from sklearn import svm\n",
    "from sklearn.cross_validation import train_test_split\n",
    "from sklearn.ensemble import RandomForestClassifier\n",
    "from sklearn.grid_search import GridSearchCV\n",
    "from sklearn.metrics import accuracy_score\n",
    "from sklearn.metrics import classification_report\n",
    "from sklearn.metrics import confusion_matrix\n",
    "from sklearn.metrics import f1_score\n",
    "from sklearn.metrics import precision_score\n",
    "from sklearn.metrics import recall_score\n",
    "\n",
    "import math"
   ]
  },
  {
   "cell_type": "code",
   "execution_count": 2,
   "metadata": {
    "collapsed": true
   },
   "outputs": [],
   "source": [
    "%matplotlib inline\n",
    "\n",
    "path='/Users/brianna/Documents/WL_DBdeets/'"
   ]
  },
  {
   "cell_type": "markdown",
   "metadata": {},
   "source": [
    "## Build a model and study the results"
   ]
  },
  {
   "cell_type": "code",
   "execution_count": 3,
   "metadata": {
    "collapsed": true
   },
   "outputs": [],
   "source": [
    "# This example is written for a generic classifier model (here, using a RandomForestClassifier)"
   ]
  },
  {
   "cell_type": "markdown",
   "metadata": {},
   "source": [
    "### Classifier"
   ]
  },
  {
   "cell_type": "code",
   "execution_count": 4,
   "metadata": {
    "collapsed": false
   },
   "outputs": [],
   "source": [
    "features = ['NumberSignedUpFromCompany_i_log',\n",
    "          'MeetingsTotalWeek0_i_log',\n",
    "          'PortionOfOrganizerWeek0_i_log',\n",
    "          'added_meetingWeek0_i_log',\n",
    "          'added_agenda_itemWeek0_i_log',\n",
    "          'assigned_action_itemWeek0_i_log']\n",
    "prediction = 'RetentionStatus2Levels'\n",
    "#prediction = 'RetentionStatus'\n",
    "classifier = RandomForestClassifier(n_estimators=1000, max_depth=20, min_samples_leaf=5)"
   ]
  },
  {
   "cell_type": "markdown",
   "metadata": {},
   "source": [
    "# Read the data"
   ]
  },
  {
   "cell_type": "code",
   "execution_count": 5,
   "metadata": {
    "collapsed": false
   },
   "outputs": [],
   "source": [
    "modelData = pd.read_csv(path+'06_DataFinal.csv')\n",
    "\n",
    "# Remove the upper numbers for these two variables where the slope starts to flatten out.\n",
    "modelData.loc[modelData.NumberSignedUpFromCompany_i_log>math.log(30),'NumberSignedUpFromCompany_i_log']=None\n",
    "modelData.loc[modelData.MeetingsTotalWeek0_i_log>math.log(20),'MeetingsTotalWeek0_i_log']=None\n"
   ]
  },
  {
   "cell_type": "code",
   "execution_count": 6,
   "metadata": {
    "collapsed": false
   },
   "outputs": [
    {
     "name": "stdout",
     "output_type": "stream",
     "text": [
      "Columns remaining after rows with NA's removed: 6792\n"
     ]
    },
    {
     "data": {
      "text/html": [
       "<div>\n",
       "<table border=\"1\" class=\"dataframe\">\n",
       "  <thead>\n",
       "    <tr style=\"text-align: right;\">\n",
       "      <th></th>\n",
       "      <th>NumberSignedUpFromCompany_i_log</th>\n",
       "      <th>MeetingsTotalWeek0_i_log</th>\n",
       "      <th>PortionOfOrganizerWeek0_i_log</th>\n",
       "      <th>added_meetingWeek0_i_log</th>\n",
       "      <th>added_agenda_itemWeek0_i_log</th>\n",
       "      <th>assigned_action_itemWeek0_i_log</th>\n",
       "      <th>RetentionStatus2Levels</th>\n",
       "    </tr>\n",
       "  </thead>\n",
       "  <tbody>\n",
       "    <tr>\n",
       "      <th>0</th>\n",
       "      <td>2.197225</td>\n",
       "      <td>1.609438</td>\n",
       "      <td>0.000000</td>\n",
       "      <td>0.000000</td>\n",
       "      <td>0.000000</td>\n",
       "      <td>0.000000</td>\n",
       "      <td>1</td>\n",
       "    </tr>\n",
       "    <tr>\n",
       "      <th>1</th>\n",
       "      <td>2.197225</td>\n",
       "      <td>1.945910</td>\n",
       "      <td>0.154151</td>\n",
       "      <td>0.000000</td>\n",
       "      <td>0.000000</td>\n",
       "      <td>0.000000</td>\n",
       "      <td>0</td>\n",
       "    </tr>\n",
       "    <tr>\n",
       "      <th>2</th>\n",
       "      <td>2.197225</td>\n",
       "      <td>1.098612</td>\n",
       "      <td>0.000000</td>\n",
       "      <td>0.693147</td>\n",
       "      <td>1.386294</td>\n",
       "      <td>0.000000</td>\n",
       "      <td>0</td>\n",
       "    </tr>\n",
       "    <tr>\n",
       "      <th>3</th>\n",
       "      <td>2.197225</td>\n",
       "      <td>2.397895</td>\n",
       "      <td>0.000000</td>\n",
       "      <td>0.693147</td>\n",
       "      <td>2.564949</td>\n",
       "      <td>1.851915</td>\n",
       "      <td>1</td>\n",
       "    </tr>\n",
       "    <tr>\n",
       "      <th>5</th>\n",
       "      <td>2.197225</td>\n",
       "      <td>1.098612</td>\n",
       "      <td>0.000000</td>\n",
       "      <td>0.000000</td>\n",
       "      <td>0.000000</td>\n",
       "      <td>1.851915</td>\n",
       "      <td>0</td>\n",
       "    </tr>\n",
       "  </tbody>\n",
       "</table>\n",
       "</div>"
      ],
      "text/plain": [
       "   NumberSignedUpFromCompany_i_log  MeetingsTotalWeek0_i_log  \\\n",
       "0                         2.197225                  1.609438   \n",
       "1                         2.197225                  1.945910   \n",
       "2                         2.197225                  1.098612   \n",
       "3                         2.197225                  2.397895   \n",
       "5                         2.197225                  1.098612   \n",
       "\n",
       "   PortionOfOrganizerWeek0_i_log  added_meetingWeek0_i_log  \\\n",
       "0                       0.000000                  0.000000   \n",
       "1                       0.154151                  0.000000   \n",
       "2                       0.000000                  0.693147   \n",
       "3                       0.000000                  0.693147   \n",
       "5                       0.000000                  0.000000   \n",
       "\n",
       "   added_agenda_itemWeek0_i_log  assigned_action_itemWeek0_i_log  \\\n",
       "0                      0.000000                         0.000000   \n",
       "1                      0.000000                         0.000000   \n",
       "2                      1.386294                         0.000000   \n",
       "3                      2.564949                         1.851915   \n",
       "5                      0.000000                         1.851915   \n",
       "\n",
       "   RetentionStatus2Levels  \n",
       "0                       1  \n",
       "1                       0  \n",
       "2                       0  \n",
       "3                       1  \n",
       "5                       0  "
      ]
     },
     "execution_count": 6,
     "metadata": {},
     "output_type": "execute_result"
    }
   ],
   "source": [
    "# Remove all rows with null values and see how many rows you have left.\n",
    "columns = features[:]\n",
    "columns.append(prediction)\n",
    "print('Columns remaining after rows with NA\\'s removed: '+str(len(modelData.dropna(subset=columns))))\n",
    "modelData=modelData.dropna(subset=columns)\n",
    "modelData[columns].head()"
   ]
  },
  {
   "cell_type": "code",
   "execution_count": 7,
   "metadata": {
    "collapsed": false
   },
   "outputs": [
    {
     "name": "stdout",
     "output_type": "stream",
     "text": [
      "The model data have been split into train data (79.99%) and test data (20.01%)\n"
     ]
    }
   ],
   "source": [
    "# test_size = 20% of data for testing\n",
    "X_train, X_test, Y_train, Y_test = train_test_split(modelData[features], modelData[prediction].values, test_size=0.20)\n",
    "train = len(X_train)/float(len(modelData))\n",
    "test = len(X_test)/float(len(modelData))\n",
    "print \"The model data have been split into train data ({train:.2%}) and test data ({test:.2%})\".format(train=train, test=test)"
   ]
  },
  {
   "cell_type": "code",
   "execution_count": 8,
   "metadata": {
    "collapsed": false
   },
   "outputs": [
    {
     "name": "stderr",
     "output_type": "stream",
     "text": [
      "[Parallel(n_jobs=-1)]: Done  42 tasks      | elapsed:    0.1s\n",
      "[Parallel(n_jobs=-1)]: Done 192 tasks      | elapsed:    0.3s\n",
      "[Parallel(n_jobs=-1)]: Done 442 tasks      | elapsed:    0.7s\n",
      "[Parallel(n_jobs=-1)]: Done 792 tasks      | elapsed:    1.3s\n",
      "[Parallel(n_jobs=-1)]: Done 1000 out of 1000 | elapsed:    1.7s finished\n"
     ]
    },
    {
     "data": {
      "text/plain": [
       "RandomForestClassifier(bootstrap=True, class_weight=None, criterion='gini',\n",
       "            max_depth=20, max_features='auto', max_leaf_nodes=None,\n",
       "            min_samples_leaf=5, min_samples_split=2,\n",
       "            min_weight_fraction_leaf=0.0, n_estimators=1000, n_jobs=-1,\n",
       "            oob_score=False, random_state=None, verbose=True,\n",
       "            warm_start=False)"
      ]
     },
     "execution_count": 8,
     "metadata": {},
     "output_type": "execute_result"
    }
   ],
   "source": [
    "classifier.verbose = True\n",
    "classifier.n_jobs = -1 # do as many jobs as there's room for on the computer\n",
    "classifier.fit(X_train, Y_train)"
   ]
  },
  {
   "cell_type": "code",
   "execution_count": 9,
   "metadata": {
    "collapsed": false
   },
   "outputs": [
    {
     "name": "stderr",
     "output_type": "stream",
     "text": [
      "[Parallel(n_jobs=4)]: Done  42 tasks      | elapsed:    0.0s\n",
      "[Parallel(n_jobs=4)]: Done 192 tasks      | elapsed:    0.1s\n",
      "[Parallel(n_jobs=4)]: Done 442 tasks      | elapsed:    0.3s\n",
      "[Parallel(n_jobs=4)]: Done 792 tasks      | elapsed:    0.5s\n",
      "[Parallel(n_jobs=4)]: Done 1000 out of 1000 | elapsed:    0.6s finished\n"
     ]
    }
   ],
   "source": [
    "# Predictions:\n",
    "Y_pred = classifier.predict(X_test)"
   ]
  },
  {
   "cell_type": "code",
   "execution_count": 10,
   "metadata": {
    "collapsed": false
   },
   "outputs": [
    {
     "name": "stderr",
     "output_type": "stream",
     "text": [
      "[Parallel(n_jobs=4)]: Done  42 tasks      | elapsed:    0.0s\n",
      "[Parallel(n_jobs=4)]: Done 192 tasks      | elapsed:    0.1s\n",
      "[Parallel(n_jobs=4)]: Done 442 tasks      | elapsed:    0.3s\n",
      "[Parallel(n_jobs=4)]: Done 792 tasks      | elapsed:    0.4s\n",
      "[Parallel(n_jobs=4)]: Done 1000 out of 1000 | elapsed:    0.6s finished\n"
     ]
    }
   ],
   "source": [
    "# Probabilities:\n",
    "Y_proba = classifier.predict_proba(X_test)"
   ]
  },
  {
   "cell_type": "markdown",
   "metadata": {},
   "source": [
    "### Scores"
   ]
  },
  {
   "cell_type": "markdown",
   "metadata": {},
   "source": [
    "Definitions:\n",
    "\n",
    "- *True Positives* are those which are labeled ``1`` which are actually ``1``\n",
    "- *False Positives* are those which are labeled ``1`` which are actually ``0``\n",
    "- *True Negatives* are those which are labeled ``0`` which are actually ``0``\n",
    "- *False Negatives* are those which are labeled ``0`` which are actually ``1``\n",
    "\n",
    "\n",
    "Meaning of the different scores:\n",
    "\n",
    "$$ {\\rm accuracy} \\equiv \\frac{\\rm correct~labels}{\\rm total~samples} $$\n",
    "\n",
    "$$ {\\rm precision} \\equiv \\frac{\\rm true~positives}{\\rm true~positives + false~positives} $$\n",
    "\n",
    "$$ {\\rm recall} \\equiv \\frac{\\rm true~positives}{\\rm true~positives + false~negatives} $$\n",
    "\n",
    "$$ F_1 \\equiv 2 \\frac{\\rm precision \\cdot recall}{\\rm precision + recall} $$\n",
    "\n",
    "The **accuracy**, **precision**, **recall**, and **f1-score** all range from 0 to 1, with 1 being optimal."
   ]
  },
  {
   "cell_type": "code",
   "execution_count": 11,
   "metadata": {
    "collapsed": false
   },
   "outputs": [
    {
     "name": "stderr",
     "output_type": "stream",
     "text": [
      "[Parallel(n_jobs=4)]: Done  42 tasks      | elapsed:    0.0s\n",
      "[Parallel(n_jobs=4)]: Done 192 tasks      | elapsed:    0.1s\n",
      "[Parallel(n_jobs=4)]: Done 442 tasks      | elapsed:    0.2s\n",
      "[Parallel(n_jobs=4)]: Done 792 tasks      | elapsed:    0.4s\n",
      "[Parallel(n_jobs=4)]: Done 1000 out of 1000 | elapsed:    0.5s finished\n"
     ]
    },
    {
     "name": "stdout",
     "output_type": "stream",
     "text": [
      "0.76821192053\n"
     ]
    }
   ],
   "source": [
    "classifier_score = classifier.score(X_test, Y_test) # same as accuracy in random forest\n",
    "print classifier_score"
   ]
  },
  {
   "cell_type": "code",
   "execution_count": 12,
   "metadata": {
    "collapsed": false
   },
   "outputs": [
    {
     "name": "stdout",
     "output_type": "stream",
     "text": [
      "0.76821192053\n"
     ]
    }
   ],
   "source": [
    "classifier_accuracy_score = accuracy_score(Y_test, Y_pred)\n",
    "print classifier_accuracy_score"
   ]
  },
  {
   "cell_type": "code",
   "execution_count": 13,
   "metadata": {
    "collapsed": false
   },
   "outputs": [
    {
     "name": "stdout",
     "output_type": "stream",
     "text": [
      "0.4\n"
     ]
    },
    {
     "name": "stderr",
     "output_type": "stream",
     "text": [
      "//anaconda/lib/python2.7/site-packages/sklearn/metrics/classification.py:976: DeprecationWarning: From version 0.18, binary input will not be handled specially when using averaged precision/recall/F-score. Please use average='binary' to report only the positive class performance.\n",
      "  'positive class performance.', DeprecationWarning)\n"
     ]
    }
   ],
   "source": [
    "classifier_precision_score = precision_score(Y_test, Y_pred, average=\"weighted\")\n",
    "print classifier_precision_score"
   ]
  },
  {
   "cell_type": "code",
   "execution_count": 14,
   "metadata": {
    "collapsed": false
   },
   "outputs": [
    {
     "name": "stdout",
     "output_type": "stream",
     "text": [
      "0.0588235294118\n"
     ]
    },
    {
     "name": "stderr",
     "output_type": "stream",
     "text": [
      "//anaconda/lib/python2.7/site-packages/sklearn/metrics/classification.py:976: DeprecationWarning: From version 0.18, binary input will not be handled specially when using averaged precision/recall/F-score. Please use average='binary' to report only the positive class performance.\n",
      "  'positive class performance.', DeprecationWarning)\n"
     ]
    }
   ],
   "source": [
    "classifier_recall_score = recall_score(Y_test, Y_pred, average=\"weighted\")\n",
    "print classifier_recall_score"
   ]
  },
  {
   "cell_type": "code",
   "execution_count": 15,
   "metadata": {
    "collapsed": false
   },
   "outputs": [
    {
     "name": "stdout",
     "output_type": "stream",
     "text": [
      "0.102564102564\n"
     ]
    },
    {
     "name": "stderr",
     "output_type": "stream",
     "text": [
      "//anaconda/lib/python2.7/site-packages/sklearn/metrics/classification.py:976: DeprecationWarning: From version 0.18, binary input will not be handled specially when using averaged precision/recall/F-score. Please use average='binary' to report only the positive class performance.\n",
      "  'positive class performance.', DeprecationWarning)\n"
     ]
    }
   ],
   "source": [
    "classifier_f1_score = f1_score(Y_test, Y_pred, average=\"weighted\")\n",
    "print classifier_f1_score"
   ]
  },
  {
   "cell_type": "code",
   "execution_count": 16,
   "metadata": {
    "collapsed": false
   },
   "outputs": [
    {
     "name": "stdout",
     "output_type": "stream",
     "text": [
      "             precision    recall  f1-score   support\n",
      "\n",
      "          0       0.78      0.97      0.87      1053\n",
      "          1       0.40      0.06      0.10       306\n",
      "\n",
      "avg / total       0.70      0.77      0.69      1359\n",
      "\n"
     ]
    }
   ],
   "source": [
    "#classifier_classification_report = classification_report(Y_test, Y_pred, target_names=classifierLabels.values())\n",
    "classifier_classification_report = classification_report(Y_test, Y_pred)\n",
    "print(classifier_classification_report)"
   ]
  },
  {
   "cell_type": "markdown",
   "metadata": {},
   "source": [
    "### Feature importance"
   ]
  },
  {
   "cell_type": "code",
   "execution_count": 17,
   "metadata": {
    "collapsed": false
   },
   "outputs": [
    {
     "name": "stdout",
     "output_type": "stream",
     "text": [
      "NumberSignedUpFromCompany_i_log 0.262624456054\n",
      "MeetingsTotalWeek0_i_log 0.199377908595\n",
      "PortionOfOrganizerWeek0_i_log 0.168216385102\n",
      "added_meetingWeek0_i_log 0.125714448737\n",
      "added_agenda_itemWeek0_i_log 0.177800813713\n",
      "assigned_action_itemWeek0_i_log 0.0662659877993\n"
     ]
    },
    {
     "name": "stderr",
     "output_type": "stream",
     "text": [
      "/anaconda/lib/python2.7/site-packages/ipykernel/__main__.py:10: FutureWarning: sort(columns=....) is deprecated, use sort_values(by=.....)\n"
     ]
    }
   ],
   "source": [
    "df = pd.DataFrame(columns = ['feature','importance'], index=range(len(features)))\n",
    "if isinstance(classifier, RandomForestClassifier):\n",
    "    i=0\n",
    "    for (feature, importance) in zip(features, classifier.feature_importances_):\n",
    "        print feature, importance\n",
    "        df.feature[i] = feature\n",
    "        df.importance[i] = importance\n",
    "        i+=1\n",
    "\n",
    "dfsort = df.sort(columns = ['importance'], ascending = False)\n",
    "dfsort.head(10)\n",
    "\n",
    "dfsort.to_csv(path+'RandomForestFeatureImportance.csv')"
   ]
  },
  {
   "cell_type": "markdown",
   "metadata": {},
   "source": [
    "### Plot Feature Importance"
   ]
  },
  {
   "cell_type": "code",
   "execution_count": 18,
   "metadata": {
    "collapsed": false,
    "scrolled": true
   },
   "outputs": [
    {
     "data": {
      "image/png": "[encoded data removed]",
      "text/plain": [
       "<matplotlib.figure.Figure at 0x103c92550>"
      ]
     },
     "metadata": {},
     "output_type": "display_data"
    }
   ],
   "source": [
    "plt.figure(figsize=(10,6))\n",
    "\n",
    "ax = sns.barplot(x='feature', y='importance', data=dfsort);\n",
    "ax.set(xlabel='Feature', ylabel='Importance of each Feature')\n",
    "\n",
    "for item in ax.get_xticklabels():\n",
    "    item.set_rotation(90)"
   ]
  },
  {
   "cell_type": "markdown",
   "metadata": {},
   "source": [
    "### Save information into a text file"
   ]
  },
  {
   "cell_type": "code",
   "execution_count": 20,
   "metadata": {
    "collapsed": false
   },
   "outputs": [],
   "source": [
    "fileName = \"model.txt\"\n",
    "outputDirectory = path+\"model_images\"\n",
    "outputPath = os.path.join(outputDirectory, fileName)\n",
    "with open(outputPath, \"w\") as f:\n",
    "    f.write(\"Classifier: {score:.2f}\\n\".format(score=classifier_score))\n",
    "    f.write(\"Accuracy:   {score:.2f}\\n\".format(score=classifier_accuracy_score))\n",
    "    f.write(\"Precision:  {score:.2f}\\n\".format(score=classifier_precision_score))\n",
    "    f.write(\"Recall:     {score:.2f}\\n\".format(score=classifier_recall_score))\n",
    "    f.write(\"F1:         {score:.2f}\\n\".format(score=classifier_f1_score))\n",
    "    f.write(\"\\n\")\n",
    "    f.write(\"Score {score}\\n\".format(score=classifier_classification_report))\n",
    "    f.write(\"\\n\")\n",
    "    if isinstance(classifier, RandomForestClassifier):\n",
    "        f.write(\"Feature importance\\n\")\n",
    "        for (feature, importance) in zip(features, classifier.feature_importances_):\n",
    "            f.write(\"{feature}\\t {importance:.2f}\\n\".format(feature=feature, importance=importance))\n",
    "        f.write(\"\\n\")"
   ]
  },
  {
   "cell_type": "markdown",
   "metadata": {},
   "source": [
    "### Confusion matrix"
   ]
  },
  {
   "cell_type": "code",
   "execution_count": null,
   "metadata": {
    "collapsed": true
   },
   "outputs": [],
   "source": [
    "# Make classifier labels\n",
    "classifierLabels={0:'Churned', 1:'Retained for 3 Months'}"
   ]
  },
  {
   "cell_type": "code",
   "execution_count": 21,
   "metadata": {
    "collapsed": false
   },
   "outputs": [
    {
     "name": "stdout",
     "output_type": "stream",
     "text": [
      "Confusion matrix, without normalization\n",
      "[[1026   27]\n",
      " [ 288   18]]\n",
      "Normalized confusion matrix\n",
      "[[ 0.97  0.03]\n",
      " [ 0.94  0.06]]\n"
     ]
    }
   ],
   "source": [
    "# Compute confusion matrix\n",
    "cm = confusion_matrix(Y_test, Y_pred)\n",
    "np.set_printoptions(precision=2)\n",
    "print('Confusion matrix, without normalization')\n",
    "print(cm)\n",
    "\n",
    "# Normalize the confusion matrix by row (i.e by the number of samples in each class)\n",
    "cm_normalized = cm.astype('float') / cm.sum(axis=1)[:, np.newaxis]\n",
    "print('Normalized confusion matrix')\n",
    "print(cm_normalized)"
   ]
  },
  {
   "cell_type": "code",
   "execution_count": 25,
   "metadata": {
    "collapsed": false
   },
   "outputs": [
    {
     "data": {
      "image/png": "[encoded data removed]",
      "text/plain": [
       "<matplotlib.figure.Figure at 0x113b81550>"
      ]
     },
     "metadata": {},
     "output_type": "display_data"
    }
   ],
   "source": [
    "# Define a function to plot the confusion matrix:\n",
    "def plot_confusion_matrix(ax, cm, title='Confusion matrix', cmap=plt.cm.Blues):\n",
    "    # Plot the confusion matrix:\n",
    "    image = ax.imshow(cm, interpolation='nearest', cmap=cmap)\n",
    "    ax.set_title(title)\n",
    "    ax.set_ylabel('True label')\n",
    "    ax.set_xlabel('Predicted label')\n",
    "    # Plot the label on the ticks:\n",
    "#     tick_marks = np.arange(len(classifierLabels))\n",
    "#     ax.set_xticks(tick_marks, list(classifierLabels.values()))\n",
    "#     ax.set_yticks(tick_marks, list(classifierLabels.values()))\n",
    "#     locations = ax.set_xticks(tick_marks)\n",
    "#     labels = ax.set_xticklabels(list(classifierLabels.values()))\n",
    "#     for label in labels:\n",
    "#         label.update({'rotation':90})\n",
    "#     locations = ax.set_yticks(tick_marks)\n",
    "# #     labels = ax.set_yticklabels(list(classifierLabels.values()))\n",
    "    # Add colorbars:\n",
    "    divider = make_axes_locatable(ax)\n",
    "    colorbar_ax = divider.append_axes(\"right\", size=\"10%\", pad=0.05)\n",
    "    colorbar = ax.figure.colorbar(image, cax=colorbar_ax)\n",
    "\n",
    "# Create the figure:\n",
    "fig, axes = plt.subplots(1, 2, figsize=(16, 5))\n",
    "# fig.suptitle(\"Model: {version}, {model}\".format(version=versionLabel, model=modelLabel), fontsize=12)\n",
    "for ax in axes:\n",
    "    ax.set_aspect(1)\n",
    "\n",
    "plot_confusion_matrix(axes[0], cm)\n",
    "plot_confusion_matrix(axes[1], cm_normalized, title='Normalized confusion matrix')\n",
    "\n",
    "# Save the figure:\n",
    "# prefix = \"-{version}\".format(version=versionLabel)\n",
    "fileName = \"confusion-matrices.pdf\"\n",
    "outputDirectory = path+\"model_images\"\n",
    "outputPath = os.path.join(outputDirectory, fileName)\n",
    "fig.savefig(outputPath, bbox_inches=\"tight\")"
   ]
  },
  {
   "cell_type": "code",
   "execution_count": null,
   "metadata": {
    "collapsed": true
   },
   "outputs": [],
   "source": []
  }
 ],
 "metadata": {
  "kernelspec": {
   "display_name": "Python 2",
   "language": "python",
   "name": "python2"
  },
  "language_info": {
   "codemirror_mode": {
    "name": "ipython",
    "version": 2
   },
   "file_extension": ".py",
   "mimetype": "text/x-python",
   "name": "python",
   "nbconvert_exporter": "python",
   "pygments_lexer": "ipython2",
   "version": "2.7.11"
  }
 },
 "nbformat": 4,
 "nbformat_minor": 0
}
