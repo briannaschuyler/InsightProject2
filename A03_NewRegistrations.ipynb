{
 "cells": [
  {
   "cell_type": "code",
   "execution_count": 16,
   "metadata": {
    "collapsed": true,
    "scrolled": true
   },
   "outputs": [],
   "source": [
    "## Python packages - you may have to pip install sqlalchemy, sqlalchemy_utils, and psycopg2.\n",
    "from sqlalchemy import create_engine\n",
    "from sqlalchemy_utils import database_exists, create_database\n",
    "import psycopg2\n",
    "import pandas as pd\n",
    "\n",
    "import re # to access database details in a file\n",
    "import time # to time how long queries and processes take\n",
    "import matplotlib.pyplot as plt\n",
    "from datetime import date, datetime, timedelta # to manipulate dates\n",
    "\n",
    "\n",
    "% matplotlib inline"
   ]
  },
  {
   "cell_type": "code",
   "execution_count": 17,
   "metadata": {
    "collapsed": true,
    "scrolled": true
   },
   "outputs": [],
   "source": [
    "path='/Users/brianna/Documents/WL_DBdeets/'"
   ]
  },
  {
   "cell_type": "code",
   "execution_count": 18,
   "metadata": {
    "collapsed": true,
    "scrolled": true
   },
   "outputs": [],
   "source": [
    "def connect_db(which_db):\n",
    "    # Grab the details from a text file for how to access the database\n",
    "    db_file = open(path+which_db+'DBdeets.txt','r')\n",
    "    db_deets = db_file.read()\n",
    "\n",
    "    dbname=re.findall('dbname=(\\S+)',db_deets)\n",
    "    username=re.findall('username=(\\S+)',db_deets)\n",
    "    hostname=re.findall('hostname=(\\S+)',db_deets)\n",
    "    portname=re.findall('portname=(\\S+)',db_deets)\n",
    "    pw=re.findall('pw=(\\S+)',db_deets)\n",
    "    \n",
    "    # Connect to the database.  (If you can't, jump out and give a polite notice!)\n",
    "    con = None\n",
    "    try:\n",
    "        con = psycopg2.connect(database = dbname[0], \n",
    "                               user = username[0], \n",
    "                               host = hostname[0], \n",
    "                               port = portname[0], \n",
    "                               password = pw[0])\n",
    "        # Set up a cursor.  (Anytime you get an error with the cursor, you have to reset the \n",
    "        # connection with it)\n",
    "        cur=con.cursor()\n",
    "        print('I connected to the '+which_db+' database!!')\n",
    "    except:\n",
    "        print('Unable to connect to '+which_db+' database :(')\n",
    "    \n",
    "    db_file.close()\n",
    "    \n",
    "    return  con, cur"
   ]
  },
  {
   "cell_type": "code",
   "execution_count": 19,
   "metadata": {
    "collapsed": false,
    "scrolled": true
   },
   "outputs": [
    {
     "name": "stdout",
     "output_type": "stream",
     "text": [
      "I connected to the evnt database!!\n",
      "I connected to the trns database!!\n"
     ]
    }
   ],
   "source": [
    "# Access the 'events' database.\n",
    "conE, curE = connect_db('evnt')\n",
    "\n",
    "# Access the 'transactions' database.\n",
    "conT, curT = connect_db('trns')"
   ]
  },
  {
   "cell_type": "markdown",
   "metadata": {},
   "source": [
    "# Snippets of code are below..."
   ]
  },
  {
   "cell_type": "markdown",
   "metadata": {},
   "source": [
    "- date joined\n",
    "- active each week (went to website at least once)"
   ]
  },
  {
   "cell_type": "code",
   "execution_count": 20,
   "metadata": {
    "collapsed": false,
    "scrolled": true
   },
   "outputs": [
    {
     "name": "stdout",
     "output_type": "stream",
     "text": [
      "events131567\n"
     ]
    }
   ],
   "source": [
    "# List tables in the Transactional (Production) database 'dd8dik067j3tun'\n",
    "\n",
    "# All tables are prefixed with app131567\n",
    "# To break out events by type of person, look at user properties\n",
    "\n",
    "# Retention analysis: cohort retention analysis, look for sql examples online\n",
    "# Define a cohort as people who did a certain action or behavior\n",
    "# 90%  of people that signed up viewed internal page in the first week\n",
    "# Look at weekly retention (how many people viewed an internal page in the following weeks after signing up)\n",
    "# 30% is good for growing company, facebook has 50%, WL wants at least 20%\n",
    "# Group by user property (like browser) then look at retention by browser\n",
    "\n",
    "# How many meetings in a given week?  (Event on calendar with 2+ people)\n",
    "\n",
    "curE.execute(\"\"\"SELECT table_name FROM information_schema.tables\n",
    "       WHERE table_schema = 'public'\"\"\")\n",
    "\n",
    "for table in curE.fetchall():\n",
    "    print(table[0])"
   ]
  },
  {
   "cell_type": "code",
   "execution_count": 21,
   "metadata": {
    "collapsed": false,
    "scrolled": true
   },
   "outputs": [
    {
     "name": "stdout",
     "output_type": "stream",
     "text": [
      "0.535091876984\n"
     ]
    }
   ],
   "source": [
    "# Make a list of everyone who's signed up (AKA had a sign-up event)\n",
    "\n",
    "starttime=time.time()\n",
    "\n",
    "sql_query=\"\"\"\n",
    "    select user_id, date_trunc('day',event_time)::DATE as reg_date\n",
    "    from app131567.signed_up\n",
    "\"\"\"\n",
    "\n",
    "query_result = pd.read_sql_query(sql_query,conE)\n",
    "\n",
    "print(time.time()-starttime)"
   ]
  },
  {
   "cell_type": "code",
   "execution_count": 22,
   "metadata": {
    "collapsed": false,
    "scrolled": true
   },
   "outputs": [
    {
     "name": "stdout",
     "output_type": "stream",
     "text": [
      "18222\n"
     ]
    },
    {
     "data": {
      "text/html": [
       "<div>\n",
       "<table border=\"1\" class=\"dataframe\">\n",
       "  <thead>\n",
       "    <tr style=\"text-align: right;\">\n",
       "      <th></th>\n",
       "      <th>user_id</th>\n",
       "      <th>reg_date</th>\n",
       "    </tr>\n",
       "  </thead>\n",
       "  <tbody>\n",
       "    <tr>\n",
       "      <th>0</th>\n",
       "      <td>556ce8dc1407c9df346e54dc</td>\n",
       "      <td>2015-06-01</td>\n",
       "    </tr>\n",
       "    <tr>\n",
       "      <th>1</th>\n",
       "      <td>556cf3dfb78b730beae27960</td>\n",
       "      <td>2015-06-02</td>\n",
       "    </tr>\n",
       "    <tr>\n",
       "      <th>2</th>\n",
       "      <td>556cf8fa913df923867886bd</td>\n",
       "      <td>2015-06-02</td>\n",
       "    </tr>\n",
       "    <tr>\n",
       "      <th>3</th>\n",
       "      <td>556d11ac6e81ef883374705b</td>\n",
       "      <td>2015-06-02</td>\n",
       "    </tr>\n",
       "    <tr>\n",
       "      <th>4</th>\n",
       "      <td>556d397dc23812601a3bbcdf</td>\n",
       "      <td>2015-06-02</td>\n",
       "    </tr>\n",
       "    <tr>\n",
       "      <th>5</th>\n",
       "      <td>556d461aa5c38aa5376721ad</td>\n",
       "      <td>2015-06-02</td>\n",
       "    </tr>\n",
       "    <tr>\n",
       "      <th>6</th>\n",
       "      <td>556d4980760bdfb3fec1f557</td>\n",
       "      <td>2015-06-02</td>\n",
       "    </tr>\n",
       "    <tr>\n",
       "      <th>7</th>\n",
       "      <td>556d4b7d3366d9c5c4387d4b</td>\n",
       "      <td>2015-06-02</td>\n",
       "    </tr>\n",
       "    <tr>\n",
       "      <th>8</th>\n",
       "      <td>556d4f3bdec804de5243c71e</td>\n",
       "      <td>2015-06-02</td>\n",
       "    </tr>\n",
       "    <tr>\n",
       "      <th>9</th>\n",
       "      <td>556d589b80e12813f3871cf0</td>\n",
       "      <td>2015-06-02</td>\n",
       "    </tr>\n",
       "  </tbody>\n",
       "</table>\n",
       "</div>"
      ],
      "text/plain": [
       "                    user_id    reg_date\n",
       "0  556ce8dc1407c9df346e54dc  2015-06-01\n",
       "1  556cf3dfb78b730beae27960  2015-06-02\n",
       "2  556cf8fa913df923867886bd  2015-06-02\n",
       "3  556d11ac6e81ef883374705b  2015-06-02\n",
       "4  556d397dc23812601a3bbcdf  2015-06-02\n",
       "5  556d461aa5c38aa5376721ad  2015-06-02\n",
       "6  556d4980760bdfb3fec1f557  2015-06-02\n",
       "7  556d4b7d3366d9c5c4387d4b  2015-06-02\n",
       "8  556d4f3bdec804de5243c71e  2015-06-02\n",
       "9  556d589b80e12813f3871cf0  2015-06-02"
      ]
     },
     "execution_count": 22,
     "metadata": {},
     "output_type": "execute_result"
    }
   ],
   "source": [
    "df_signups=query_result.iloc[:]\n",
    "\n",
    "#df_signups.head\n",
    "print(len(df_signups[:]['user_id']))\n",
    "len(df_signups[:]['user_id'].unique())\n",
    "\n",
    "df_signups.head(10)"
   ]
  },
  {
   "cell_type": "code",
   "execution_count": 23,
   "metadata": {
    "collapsed": true
   },
   "outputs": [],
   "source": [
    "# Convert the registration date to a datetime object so that it can be binned by week.\n",
    "def convert_to_datetime(x):\n",
    "    return datetime.combine(x, datetime.min.time())\n",
    "\n",
    "df_signups.reg_date = df_signups.reg_date.apply(lambda x: convert_to_datetime(x))"
   ]
  },
  {
   "cell_type": "code",
   "execution_count": 24,
   "metadata": {
    "collapsed": false
   },
   "outputs": [
    {
     "name": "stdout",
     "output_type": "stream",
     "text": [
      "2015-05-24 00:00:00 2015-05-31 00:00:00\n",
      "2015-05-31 00:00:00 2015-06-07 00:00:00\n",
      "2015-06-07 00:00:00 2015-06-14 00:00:00\n",
      "2015-06-14 00:00:00 2015-06-21 00:00:00\n",
      "2015-06-21 00:00:00 2015-06-28 00:00:00\n",
      "2015-06-28 00:00:00 2015-07-05 00:00:00\n",
      "2015-07-05 00:00:00 2015-07-12 00:00:00\n",
      "2015-07-12 00:00:00 2015-07-19 00:00:00\n",
      "2015-07-19 00:00:00 2015-07-26 00:00:00\n",
      "2015-07-26 00:00:00 2015-08-02 00:00:00\n",
      "2015-08-02 00:00:00 2015-08-09 00:00:00\n",
      "2015-08-09 00:00:00 2015-08-16 00:00:00\n",
      "2015-08-16 00:00:00 2015-08-23 00:00:00\n",
      "2015-08-23 00:00:00 2015-08-30 00:00:00\n",
      "2015-08-30 00:00:00 2015-09-06 00:00:00\n",
      "2015-09-06 00:00:00 2015-09-13 00:00:00\n",
      "2015-09-13 00:00:00 2015-09-20 00:00:00\n",
      "2015-09-20 00:00:00 2015-09-27 00:00:00\n",
      "2015-09-27 00:00:00 2015-10-04 00:00:00\n",
      "2015-10-04 00:00:00 2015-10-11 00:00:00\n",
      "2015-10-11 00:00:00 2015-10-18 00:00:00\n",
      "2015-10-18 00:00:00 2015-10-25 00:00:00\n",
      "2015-10-25 00:00:00 2015-11-01 00:00:00\n",
      "2015-11-01 00:00:00 2015-11-08 00:00:00\n",
      "2015-11-08 00:00:00 2015-11-15 00:00:00\n",
      "2015-11-15 00:00:00 2015-11-22 00:00:00\n",
      "2015-11-22 00:00:00 2015-11-29 00:00:00\n",
      "2015-11-29 00:00:00 2015-12-06 00:00:00\n",
      "2015-12-06 00:00:00 2015-12-13 00:00:00\n",
      "2015-12-13 00:00:00 2015-12-20 00:00:00\n",
      "2015-12-20 00:00:00 2015-12-27 00:00:00\n",
      "2015-12-27 00:00:00 2016-01-03 00:00:00\n",
      "2016-01-03 00:00:00 2016-01-10 00:00:00\n",
      "2016-01-10 00:00:00 2016-01-17 00:00:00\n",
      "2016-01-17 00:00:00 2016-01-24 00:00:00\n",
      "2016-01-24 00:00:00 2016-01-31 00:00:00\n"
     ]
    },
    {
     "name": "stderr",
     "output_type": "stream",
     "text": [
      "/anaconda/lib/python2.7/site-packages/ipykernel/__main__.py:12: SettingWithCopyWarning: \n",
      "A value is trying to be set on a copy of a slice from a DataFrame\n",
      "\n",
      "See the caveats in the documentation: http://pandas.pydata.org/pandas-docs/stable/indexing.html#indexing-view-versus-copy\n"
     ]
    }
   ],
   "source": [
    "# Make a column of the week they signed up (to get a metric that's the same as the transactional \n",
    "# data that I have collapsed into weekly bins)\n",
    "\n",
    "date_start = datetime.strptime('2015-05-24', \"%Y-%m-%d\")\n",
    "current_date = datetime.now()\n",
    "\n",
    "df_signups['reg_week'] = current_date\n",
    "\n",
    "while date_start < current_date:\n",
    "    date_end = date_start + timedelta(days=7)\n",
    "    print(str(date_start)+' '+str(date_end))\n",
    "    df_signups.reg_week[(df_signups.reg_date>date_start) & (df_signups.reg_date<date_end)]=date_start\n",
    "    date_start += timedelta(days=7)\n"
   ]
  },
  {
   "cell_type": "code",
   "execution_count": 30,
   "metadata": {
    "collapsed": false
   },
   "outputs": [
    {
     "data": {
      "text/html": [
       "<div>\n",
       "<table border=\"1\" class=\"dataframe\">\n",
       "  <thead>\n",
       "    <tr style=\"text-align: right;\">\n",
       "      <th></th>\n",
       "      <th>user_id</th>\n",
       "      <th>reg_date</th>\n",
       "      <th>reg_week</th>\n",
       "    </tr>\n",
       "  </thead>\n",
       "  <tbody>\n",
       "    <tr>\n",
       "      <th>0</th>\n",
       "      <td>556ce8dc1407c9df346e54dc</td>\n",
       "      <td>2015-06-01</td>\n",
       "      <td>2015-05-31</td>\n",
       "    </tr>\n",
       "    <tr>\n",
       "      <th>1</th>\n",
       "      <td>556cf3dfb78b730beae27960</td>\n",
       "      <td>2015-06-02</td>\n",
       "      <td>2015-05-31</td>\n",
       "    </tr>\n",
       "    <tr>\n",
       "      <th>2</th>\n",
       "      <td>556cf8fa913df923867886bd</td>\n",
       "      <td>2015-06-02</td>\n",
       "      <td>2015-05-31</td>\n",
       "    </tr>\n",
       "    <tr>\n",
       "      <th>3</th>\n",
       "      <td>556d11ac6e81ef883374705b</td>\n",
       "      <td>2015-06-02</td>\n",
       "      <td>2015-05-31</td>\n",
       "    </tr>\n",
       "    <tr>\n",
       "      <th>4</th>\n",
       "      <td>556d397dc23812601a3bbcdf</td>\n",
       "      <td>2015-06-02</td>\n",
       "      <td>2015-05-31</td>\n",
       "    </tr>\n",
       "    <tr>\n",
       "      <th>5</th>\n",
       "      <td>556d461aa5c38aa5376721ad</td>\n",
       "      <td>2015-06-02</td>\n",
       "      <td>2015-05-31</td>\n",
       "    </tr>\n",
       "    <tr>\n",
       "      <th>6</th>\n",
       "      <td>556d4980760bdfb3fec1f557</td>\n",
       "      <td>2015-06-02</td>\n",
       "      <td>2015-05-31</td>\n",
       "    </tr>\n",
       "    <tr>\n",
       "      <th>7</th>\n",
       "      <td>556d4b7d3366d9c5c4387d4b</td>\n",
       "      <td>2015-06-02</td>\n",
       "      <td>2015-05-31</td>\n",
       "    </tr>\n",
       "    <tr>\n",
       "      <th>8</th>\n",
       "      <td>556d4f3bdec804de5243c71e</td>\n",
       "      <td>2015-06-02</td>\n",
       "      <td>2015-05-31</td>\n",
       "    </tr>\n",
       "    <tr>\n",
       "      <th>9</th>\n",
       "      <td>556d589b80e12813f3871cf0</td>\n",
       "      <td>2015-06-02</td>\n",
       "      <td>2015-05-31</td>\n",
       "    </tr>\n",
       "  </tbody>\n",
       "</table>\n",
       "</div>"
      ],
      "text/plain": [
       "                    user_id   reg_date   reg_week\n",
       "0  556ce8dc1407c9df346e54dc 2015-06-01 2015-05-31\n",
       "1  556cf3dfb78b730beae27960 2015-06-02 2015-05-31\n",
       "2  556cf8fa913df923867886bd 2015-06-02 2015-05-31\n",
       "3  556d11ac6e81ef883374705b 2015-06-02 2015-05-31\n",
       "4  556d397dc23812601a3bbcdf 2015-06-02 2015-05-31\n",
       "5  556d461aa5c38aa5376721ad 2015-06-02 2015-05-31\n",
       "6  556d4980760bdfb3fec1f557 2015-06-02 2015-05-31\n",
       "7  556d4b7d3366d9c5c4387d4b 2015-06-02 2015-05-31\n",
       "8  556d4f3bdec804de5243c71e 2015-06-02 2015-05-31\n",
       "9  556d589b80e12813f3871cf0 2015-06-02 2015-05-31"
      ]
     },
     "execution_count": 30,
     "metadata": {},
     "output_type": "execute_result"
    }
   ],
   "source": [
    "df_signups.head(10)"
   ]
  },
  {
   "cell_type": "code",
   "execution_count": 27,
   "metadata": {
    "collapsed": false,
    "scrolled": false
   },
   "outputs": [
    {
     "data": {
      "text/plain": [
       "<matplotlib.text.Text at 0x10afd0890>"
      ]
     },
     "execution_count": 27,
     "metadata": {},
     "output_type": "execute_result"
    },
    {
     "data": {
      "image/png": "[encoded data removed]",
      "text/plain": [
       "<matplotlib.figure.Figure at 0x10aad0490>"
      ]
     },
     "metadata": {},
     "output_type": "display_data"
    }
   ],
   "source": [
    "plt.figure(figsize=(20,10))\n",
    "df_signups['reg_week'].hist(bins = len(df_signups['reg_week'].unique()))\n",
    "\n",
    "plt.xlabel('Number of New Registrations Per Week \\n (\\'reg_date\\' from app131567.signed_up)', size=20)"
   ]
  },
  {
   "cell_type": "code",
   "execution_count": 31,
   "metadata": {
    "collapsed": true
   },
   "outputs": [],
   "source": [
    "df_signups.to_csv(path+'UserRegistrationDate.csv')"
   ]
  },
  {
   "cell_type": "code",
   "execution_count": null,
   "metadata": {
    "collapsed": true
   },
   "outputs": [],
   "source": []
  }
 ],
 "metadata": {
  "kernelspec": {
   "display_name": "Python 2",
   "language": "python",
   "name": "python2"
  },
  "language_info": {
   "codemirror_mode": {
    "name": "ipython",
    "version": 2
   },
   "file_extension": ".py",
   "mimetype": "text/x-python",
   "name": "python",
   "nbconvert_exporter": "python",
   "pygments_lexer": "ipython2",
   "version": "2.7.11"
  }
 },
 "nbformat": 4,
 "nbformat_minor": 0
}
