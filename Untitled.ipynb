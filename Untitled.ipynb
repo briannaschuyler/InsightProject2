{
 "cells": [
  {
   "cell_type": "code",
   "execution_count": null,
   "metadata": {
    "collapsed": true
   },
   "outputs": [],
   "source": [
    "# Go 8 weeks out from registration week (don't worry about anything after that.)\n",
    "\n",
    "# Query from  2015-05-31, fill it in as Week 0 for people who registered that week.\n",
    "# Query from  2015-06-07, fill it in as Week 0 for people who registered that week \n",
    "#                                   and Week 1 for people that registered the week before.\n",
    "# Etc.\n",
    "# Loop through all of the users and record which weeks they visited the site.\n",
    "start_time = time.time()\n",
    "for i in range(100):\n",
    "    # Find which week this person started (as indexed in the weekStringList), then\n",
    "    # walk from that week to 8 weeks out (if the data exist that far)\n",
    "    weekIndex = weekStringList.index(retention.registrationWeek[i])\n",
    "    #print('Week Index: '+str(weekIndex))\n",
    "    for x in range(8):\n",
    "        w = weekStringList[weekIndex+x]\n",
    "        if retention.user_id[i] in UniqueUserByWeek[w]:\n",
    "            #print(retention.user_id[i]+' visited week '+w)\n",
    "            retention['VisitedWeek'+str(x)][i] = 1\n",
    "    if i%50 == 0:\n",
    "        print(i)\n",
    "        \n",
    "total_time =  time.time() - start_time\n",
    "print('Total time for queries: '+str(total_time))\n",
    "\n",
    "retention.head(5)"
   ]
  }
 ],
 "metadata": {
  "kernelspec": {
   "display_name": "Python 2",
   "language": "python",
   "name": "python2"
  },
  "language_info": {
   "codemirror_mode": {
    "name": "ipython",
    "version": 2
   },
   "file_extension": ".py",
   "mimetype": "text/x-python",
   "name": "python",
   "nbconvert_exporter": "python",
   "pygments_lexer": "ipython2",
   "version": "2.7.11"
  }
 },
 "nbformat": 4,
 "nbformat_minor": 0
}
