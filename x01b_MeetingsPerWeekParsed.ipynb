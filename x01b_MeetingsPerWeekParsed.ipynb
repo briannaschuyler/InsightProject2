{
 "cells": [
  {
   "cell_type": "markdown",
   "metadata": {},
   "source": [
    "# Script to calculate Meetings Per Week in Different Ways"
   ]
  },
  {
   "cell_type": "markdown",
   "metadata": {
    "collapsed": true
   },
   "source": [
    "This code will look at and parse the meetings data in different ways (like by number of attendees.)"
   ]
  },
  {
   "cell_type": "code",
   "execution_count": 20,
   "metadata": {
    "collapsed": true
   },
   "outputs": [],
   "source": [
    "import pandas as pd\n",
    "from datetime import datetime, timedelta # to manipulate dates\n",
    "import time # to deal with meeting times\n",
    "import matplotlib.pyplot as plt\n",
    "% matplotlib inline\n",
    "\n",
    "path='/Users/brianna/Documents/WL_DBdeets/'"
   ]
  },
  {
   "cell_type": "code",
   "execution_count": 21,
   "metadata": {
    "collapsed": false
   },
   "outputs": [
    {
     "name": "stdout",
     "output_type": "stream",
     "text": [
      "2016-01-10 00:00:00to2016-01-17 00:00:00\n"
     ]
    }
   ],
   "source": [
    "start_date_input='2016-01-10'\n",
    "\n",
    "start_date = datetime.strptime(start_date_input, \"%Y-%m-%d\")\n",
    "end_date = start_date + timedelta(days=7)\n",
    "print(str(start_date)+'to'+str(end_date))"
   ]
  },
  {
   "cell_type": "code",
   "execution_count": 22,
   "metadata": {
    "collapsed": false
   },
   "outputs": [
    {
     "data": {
      "text/html": [
       "<div>\n",
       "<table border=\"1\" class=\"dataframe\">\n",
       "  <thead>\n",
       "    <tr style=\"text-align: right;\">\n",
       "      <th></th>\n",
       "      <th>Unnamed: 0</th>\n",
       "      <th>user_id</th>\n",
       "      <th>meeting_start</th>\n",
       "      <th>meeting_end</th>\n",
       "      <th>num_attendees</th>\n",
       "      <th>organizer</th>\n",
       "    </tr>\n",
       "  </thead>\n",
       "  <tbody>\n",
       "    <tr>\n",
       "      <th>0</th>\n",
       "      <td>2</td>\n",
       "      <td>55d685ea057a9604ef0f7ab4</td>\n",
       "      <td>2016-01-14 06:30:00+00:00</td>\n",
       "      <td>2016-01-14 07:30:00+00:00</td>\n",
       "      <td>5</td>\n",
       "      <td>NaN</td>\n",
       "    </tr>\n",
       "    <tr>\n",
       "      <th>1</th>\n",
       "      <td>3</td>\n",
       "      <td>5509d31febd88bed11bfd19f</td>\n",
       "      <td>2016-01-13 18:00:00+00:00</td>\n",
       "      <td>2016-01-13 18:10:00+00:00</td>\n",
       "      <td>3</td>\n",
       "      <td>NaN</td>\n",
       "    </tr>\n",
       "    <tr>\n",
       "      <th>2</th>\n",
       "      <td>7</td>\n",
       "      <td>569504b17ceba51ecc5a3a75</td>\n",
       "      <td>2016-01-15 17:00:00+00:00</td>\n",
       "      <td>2016-01-15 18:00:00+00:00</td>\n",
       "      <td>3</td>\n",
       "      <td>NaN</td>\n",
       "    </tr>\n",
       "    <tr>\n",
       "      <th>3</th>\n",
       "      <td>8</td>\n",
       "      <td>55f03cdb8e41046db9c9c60d</td>\n",
       "      <td>2016-01-15 16:00:00+00:00</td>\n",
       "      <td>2016-01-15 16:30:00+00:00</td>\n",
       "      <td>28</td>\n",
       "      <td>NaN</td>\n",
       "    </tr>\n",
       "    <tr>\n",
       "      <th>4</th>\n",
       "      <td>9</td>\n",
       "      <td>5548e3eaf6fadaadbab084f6</td>\n",
       "      <td>2016-01-15 18:00:00+00:00</td>\n",
       "      <td>2016-01-15 18:10:00+00:00</td>\n",
       "      <td>5</td>\n",
       "      <td>True</td>\n",
       "    </tr>\n",
       "  </tbody>\n",
       "</table>\n",
       "</div>"
      ],
      "text/plain": [
       "   Unnamed: 0                   user_id              meeting_start  \\\n",
       "0           2  55d685ea057a9604ef0f7ab4  2016-01-14 06:30:00+00:00   \n",
       "1           3  5509d31febd88bed11bfd19f  2016-01-13 18:00:00+00:00   \n",
       "2           7  569504b17ceba51ecc5a3a75  2016-01-15 17:00:00+00:00   \n",
       "3           8  55f03cdb8e41046db9c9c60d  2016-01-15 16:00:00+00:00   \n",
       "4           9  5548e3eaf6fadaadbab084f6  2016-01-15 18:00:00+00:00   \n",
       "\n",
       "                 meeting_end  num_attendees organizer  \n",
       "0  2016-01-14 07:30:00+00:00              5       NaN  \n",
       "1  2016-01-13 18:10:00+00:00              3       NaN  \n",
       "2  2016-01-15 18:00:00+00:00              3       NaN  \n",
       "3  2016-01-15 16:30:00+00:00             28       NaN  \n",
       "4  2016-01-15 18:10:00+00:00              5      True  "
      ]
     },
     "execution_count": 22,
     "metadata": {},
     "output_type": "execute_result"
    }
   ],
   "source": [
    "# Read in the dataframe for all of the events in one of the weeks\n",
    "#dateRange='2016-01-10 00:00:00to2016-01-17 00:00:00'\n",
    "allEvts = pd.read_csv(path+str(start_date)+'to'+str(end_date)+'Evnts_byEvnt.csv')\n",
    "\n",
    "allEvts.head()"
   ]
  },
  {
   "cell_type": "markdown",
   "metadata": {},
   "source": [
    "# Make a new dataframe with summary statistics for each unique user.\n"
   ]
  },
  {
   "cell_type": "raw",
   "metadata": {},
   "source": [
    "New Variables:\n",
    " - number of meetings\n",
    " - average number of attendees per meeting\n",
    " - proportion meetings where user is the organizer, \n",
    " - total number of meetings where user is the organizer\n",
    "Calculate the variables above for both all meetings and only meetings with 3+ attendees."
   ]
  },
  {
   "cell_type": "code",
   "execution_count": 3,
   "metadata": {
    "collapsed": false
   },
   "outputs": [],
   "source": [
    "# Remove last 6 characters from date strings so we can use strptime() and calculate \n",
    "# meeting lengths\n",
    "def split_string(date_string):\n",
    "    return date_string.split('+')[0]\n",
    "\n",
    "allEvts['meeting_start'] = allEvts.meeting_start.apply(lambda x : split_string(x))\n",
    "allEvts['meeting_end'] = allEvts.meeting_end.apply(lambda x : split_string(x))\n",
    "\n",
    "#allEvts.head(10)"
   ]
  },
  {
   "cell_type": "code",
   "execution_count": 11,
   "metadata": {
    "collapsed": false
   },
   "outputs": [
    {
     "name": "stderr",
     "output_type": "stream",
     "text": [
      "/anaconda/lib/python2.7/site-packages/ipykernel/__main__.py:6: SettingWithCopyWarning: \n",
      "A value is trying to be set on a copy of a slice from a DataFrame\n",
      "\n",
      "See the caveats in the documentation: http://pandas.pydata.org/pandas-docs/stable/indexing.html#indexing-view-versus-copy\n"
     ]
    }
   ],
   "source": [
    "# Make a column of ones that you can use to sum the number of different types of meetings.\n",
    "allEvts['MeetingsTotal']=1\n",
    "allEvts['organizerTotal']=0\n",
    "\n",
    "# Binarize the organizer variable to count how often the person organizes\n",
    "allEvts.organizerTotal[allEvts.organizer == True]= 1\n",
    "\n",
    "# Calculate the length of each meeting\n",
    "allEvts['meetingLength'] = 'PLACEHOLDER'"
   ]
  },
  {
   "cell_type": "code",
   "execution_count": 12,
   "metadata": {
    "collapsed": false
   },
   "outputs": [],
   "source": [
    "def subtract_dates(df):\n",
    "    print(time.strptime(df.meeting_end, \"%Y-%m-%d %H:%M:%S\"))\n",
    "    meetingLength = time.strptime(df.meeting_end, \"%Y-%m-%d %H:%M:%S\") - time.strptime(df.meeting_start, \"%Y-%m-%d %H:%M:%S\")\n",
    "    #return meetingLength\n",
    "\n",
    "#print(allEvts.meeting_end[0])\n",
    "#print(time.strptime(allEvts.meeting_end[0], \"%Y-%m-%d %H:%M:%S\"))\n",
    "#start = time.strptime(allEvts.meeting_start[0], \"%Y-%m-%d %H:%M:%S\")\n",
    "#end = time.strptime(allEvts.meeting_end[0], \"%Y-%m-%d %H:%M:%S\")\n",
    "#start = datetime.datetime(allEvts.meeting_start[0]).to_seconds()\n",
    "#end = datetime.datetime(allEvts.meeting_end[0]).to_seconds()\n",
    "#x = end - start \n",
    "\n",
    "#subtract_dates(df[0])\n",
    "#allEvts['meetingLength'] = allEvts.apply(lambda x : subtract_dates(x), axis=1)"
   ]
  },
  {
   "cell_type": "markdown",
   "metadata": {},
   "source": [
    "### Add columns to numMeetings with different variables about the meetings for each user"
   ]
  },
  {
   "cell_type": "code",
   "execution_count": 15,
   "metadata": {
    "collapsed": false
   },
   "outputs": [],
   "source": [
    "allEvts.columns\n",
    "\n",
    "del allEvts['MeetingsBinary']\n",
    "del allEvts['organizerBinary']"
   ]
  },
  {
   "cell_type": "code",
   "execution_count": 18,
   "metadata": {
    "collapsed": false
   },
   "outputs": [
    {
     "data": {
      "text/html": [
       "<div>\n",
       "<table border=\"1\" class=\"dataframe\">\n",
       "  <thead>\n",
       "    <tr style=\"text-align: right;\">\n",
       "      <th></th>\n",
       "      <th>Unnamed: 0</th>\n",
       "      <th>num_attendees</th>\n",
       "      <th>MeetingsTotal</th>\n",
       "      <th>organizerTotal</th>\n",
       "      <th>AveNumAttendees</th>\n",
       "      <th>PortionOfOrganizer</th>\n",
       "    </tr>\n",
       "    <tr>\n",
       "      <th>user_id</th>\n",
       "      <th></th>\n",
       "      <th></th>\n",
       "      <th></th>\n",
       "      <th></th>\n",
       "      <th></th>\n",
       "      <th></th>\n",
       "    </tr>\n",
       "  </thead>\n",
       "  <tbody>\n",
       "    <tr>\n",
       "      <th>22kwMh5aTdMJAFG9K</th>\n",
       "      <td>6999123</td>\n",
       "      <td>504</td>\n",
       "      <td>34</td>\n",
       "      <td>10</td>\n",
       "      <td>14.823529</td>\n",
       "      <td>0.294118</td>\n",
       "    </tr>\n",
       "    <tr>\n",
       "      <th>24HEFwdd5SLZtLJEE</th>\n",
       "      <td>2072140</td>\n",
       "      <td>65</td>\n",
       "      <td>10</td>\n",
       "      <td>3</td>\n",
       "      <td>6.500000</td>\n",
       "      <td>0.300000</td>\n",
       "    </tr>\n",
       "    <tr>\n",
       "      <th>24RYdjagZrRmyfP2Q</th>\n",
       "      <td>3374019</td>\n",
       "      <td>66</td>\n",
       "      <td>12</td>\n",
       "      <td>5</td>\n",
       "      <td>5.500000</td>\n",
       "      <td>0.416667</td>\n",
       "    </tr>\n",
       "    <tr>\n",
       "      <th>24h2QKgdzY2meH9xE</th>\n",
       "      <td>1214012</td>\n",
       "      <td>32</td>\n",
       "      <td>9</td>\n",
       "      <td>0</td>\n",
       "      <td>3.555556</td>\n",
       "      <td>0.000000</td>\n",
       "    </tr>\n",
       "    <tr>\n",
       "      <th>278eKoZSE3yvB3Mnh</th>\n",
       "      <td>181966</td>\n",
       "      <td>11</td>\n",
       "      <td>3</td>\n",
       "      <td>0</td>\n",
       "      <td>3.666667</td>\n",
       "      <td>0.000000</td>\n",
       "    </tr>\n",
       "    <tr>\n",
       "      <th>27ysK5XXM4SXHWsFA</th>\n",
       "      <td>318643</td>\n",
       "      <td>3</td>\n",
       "      <td>1</td>\n",
       "      <td>0</td>\n",
       "      <td>3.000000</td>\n",
       "      <td>0.000000</td>\n",
       "    </tr>\n",
       "    <tr>\n",
       "      <th>28Juv9dw43veL562e</th>\n",
       "      <td>2135368</td>\n",
       "      <td>100</td>\n",
       "      <td>49</td>\n",
       "      <td>0</td>\n",
       "      <td>2.040816</td>\n",
       "      <td>0.000000</td>\n",
       "    </tr>\n",
       "    <tr>\n",
       "      <th>2Apu9eH56MZPrxGKi</th>\n",
       "      <td>229535</td>\n",
       "      <td>8</td>\n",
       "      <td>4</td>\n",
       "      <td>0</td>\n",
       "      <td>2.000000</td>\n",
       "      <td>0.000000</td>\n",
       "    </tr>\n",
       "    <tr>\n",
       "      <th>2BdMvcFwRa47BfbeL</th>\n",
       "      <td>1246186</td>\n",
       "      <td>230</td>\n",
       "      <td>31</td>\n",
       "      <td>12</td>\n",
       "      <td>7.419355</td>\n",
       "      <td>0.387097</td>\n",
       "    </tr>\n",
       "    <tr>\n",
       "      <th>2EmpRGxXtpukftcXe</th>\n",
       "      <td>897417</td>\n",
       "      <td>99</td>\n",
       "      <td>18</td>\n",
       "      <td>0</td>\n",
       "      <td>5.500000</td>\n",
       "      <td>0.000000</td>\n",
       "    </tr>\n",
       "  </tbody>\n",
       "</table>\n",
       "</div>"
      ],
      "text/plain": [
       "                   Unnamed: 0  num_attendees  MeetingsTotal  organizerTotal  \\\n",
       "user_id                                                                       \n",
       "22kwMh5aTdMJAFG9K     6999123            504             34              10   \n",
       "24HEFwdd5SLZtLJEE     2072140             65             10               3   \n",
       "24RYdjagZrRmyfP2Q     3374019             66             12               5   \n",
       "24h2QKgdzY2meH9xE     1214012             32              9               0   \n",
       "278eKoZSE3yvB3Mnh      181966             11              3               0   \n",
       "27ysK5XXM4SXHWsFA      318643              3              1               0   \n",
       "28Juv9dw43veL562e     2135368            100             49               0   \n",
       "2Apu9eH56MZPrxGKi      229535              8              4               0   \n",
       "2BdMvcFwRa47BfbeL     1246186            230             31              12   \n",
       "2EmpRGxXtpukftcXe      897417             99             18               0   \n",
       "\n",
       "                   AveNumAttendees  PortionOfOrganizer  \n",
       "user_id                                                 \n",
       "22kwMh5aTdMJAFG9K        14.823529            0.294118  \n",
       "24HEFwdd5SLZtLJEE         6.500000            0.300000  \n",
       "24RYdjagZrRmyfP2Q         5.500000            0.416667  \n",
       "24h2QKgdzY2meH9xE         3.555556            0.000000  \n",
       "278eKoZSE3yvB3Mnh         3.666667            0.000000  \n",
       "27ysK5XXM4SXHWsFA         3.000000            0.000000  \n",
       "28Juv9dw43veL562e         2.040816            0.000000  \n",
       "2Apu9eH56MZPrxGKi         2.000000            0.000000  \n",
       "2BdMvcFwRa47BfbeL         7.419355            0.387097  \n",
       "2EmpRGxXtpukftcXe         5.500000            0.000000  "
      ]
     },
     "execution_count": 18,
     "metadata": {},
     "output_type": "execute_result"
    }
   ],
   "source": [
    "# Sum together rows grouped by user_id (will give how many rows of each user there are)\n",
    "byUser = allEvts.groupby(['user_id']).sum()\n",
    "byUser['AveNumAttendees']=byUser.num_attendees/byUser.MeetingsTotal\n",
    "byUser['PortionOfOrganizer']=byUser.organizerTotal/byUser.MeetingsTotal\n",
    "df_allmtngs.to_csv(path+str(start_date)+'to'+str(end_date)+'Evnts_byEvnt.csv')byUser.head(10)"
   ]
  },
  {
   "cell_type": "code",
   "execution_count": 23,
   "metadata": {
    "collapsed": false
   },
   "outputs": [],
   "source": [
    "# Save the meetings data for this week as a csv file\n",
    "byUser.to_csv(path+str(start_date)+'to'+str(end_date)+'EvntsCollapsedByUser.csv')"
   ]
  },
  {
   "cell_type": "code",
   "execution_count": null,
   "metadata": {
    "collapsed": true
   },
   "outputs": [],
   "source": []
  }
 ],
 "metadata": {
  "kernelspec": {
   "display_name": "Python 2",
   "language": "python",
   "name": "python2"
  },
  "language_info": {
   "codemirror_mode": {
    "name": "ipython",
    "version": 2
   },
   "file_extension": ".py",
   "mimetype": "text/x-python",
   "name": "python",
   "nbconvert_exporter": "python",
   "pygments_lexer": "ipython2",
   "version": "2.7.11"
  }
 },
 "nbformat": 4,
 "nbformat_minor": 0
}
