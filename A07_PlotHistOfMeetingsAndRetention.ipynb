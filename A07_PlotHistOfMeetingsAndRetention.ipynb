{
 "cells": [
  {
   "cell_type": "code",
   "execution_count": null,
   "metadata": {
    "collapsed": true
   },
   "outputs": [],
   "source": [
    "import pandas as pd\n",
    "import matplotlib.pyplot as plt\n",
    "% matplotlib inline\n",
    "\n",
    "path='/Users/brianna/Documents/WL_DBdeets/'"
   ]
  },
  {
   "cell_type": "code",
   "execution_count": null,
   "metadata": {
    "collapsed": false
   },
   "outputs": [],
   "source": [
    "# Read in the dataframe that has retention information for each user.\n",
    "df = pd.read_csv(path+'RetentionMeetingsBehaviorFull.csv')\n",
    "#df[df.MeetingsTotalWeek0.isnull()]=0"
   ]
  },
  {
   "cell_type": "code",
   "execution_count": null,
   "metadata": {
    "collapsed": false
   },
   "outputs": [],
   "source": [
    "df.head(5)"
   ]
  },
  {
   "cell_type": "code",
   "execution_count": null,
   "metadata": {
    "collapsed": false
   },
   "outputs": [],
   "source": [
    "# Plot number of meetings in a given week\n",
    "plt.figure(figsize=(20,10))\n",
    "n, bins, patches = plt.hist(df.MeetingsTotalWeek0[df.MeetingsTotalWeek0<100], 50, facecolor='green', alpha=0.75)\n",
    "\n",
    "plt.xlabel('Number of Meetings Per Week (Week of 2016-01-10)', size=20)"
   ]
  },
  {
   "cell_type": "code",
   "execution_count": null,
   "metadata": {
    "collapsed": false
   },
   "outputs": [],
   "source": [
    "# Make a function to calculate percentage of users active in each week\n",
    "def calculateStats(df):\n",
    "    # Plot the retention curve of all of the people.\n",
    "    # Find the number of people who went to the website on WeekX and \n",
    "    # divide by the total number of entries in WeekX.\n",
    "    # (You can't just divide by total number of entries because people that\n",
    "    # joined fewer than 8 weeks ago don't have entries for all of the weeks.)\n",
    "    sumDF=df.sum()\n",
    "\n",
    "    # Make a tiny dataframe with a row for every week (0,1,2,etc)\n",
    "    # And columns for numActive, totalActive, and percentActive\n",
    "    retenStats = pd.DataFrame(columns=['Week','numActive', 'numTotal','percentActive'])\n",
    "\n",
    "    for x in range(8):  \n",
    "        Week = x\n",
    "        numActive = sumDF['VisitedWeek'+str(x)]\n",
    "        numTotal = df['VisitedWeek'+str(x)].count()\n",
    "        percentActive = numActive/numTotal\n",
    "        retenStats.loc[x] = [Week,numActive,numTotal,percentActive]\n",
    "\n",
    "    return retenStats\n",
    "    #percentActive=numActive/numTotal"
   ]
  },
  {
   "cell_type": "code",
   "execution_count": null,
   "metadata": {
    "collapsed": false
   },
   "outputs": [],
   "source": [
    "all = calculateStats(df)\n",
    "#meet0 = calculateStats(df[df.MeetingsTotalWeek0==0])\n",
    "meet1to2 = calculateStats(df[(df.MeetingsTotalWeek0>0) & (df.MeetingsTotalWeek0<3)])\n",
    "meet3to6 = calculateStats(df[(df.MeetingsTotalWeek0>2) & (df.MeetingsTotalWeek0<7)])\n",
    "meet7to10 = calculateStats(df[(df.MeetingsTotalWeek0>6) & (df.MeetingsTotalWeek0<11)])\n",
    "meet10plus = calculateStats(df[df.MeetingsTotalWeek0>9])"
   ]
  },
  {
   "cell_type": "code",
   "execution_count": null,
   "metadata": {
    "collapsed": false
   },
   "outputs": [],
   "source": [
    "print(all.head())\n",
    "#print(meet0.head())\n",
    "print(meet1to2.head())"
   ]
  },
  {
   "cell_type": "code",
   "execution_count": null,
   "metadata": {
    "collapsed": false
   },
   "outputs": [],
   "source": [
    "plt.figure(figsize=(20,10))\n",
    "\n",
    "plt.plot(all.Week, all.percentActive, label=\"All Users\")\n",
    "plt.ylim([0, 1])\n",
    "\n",
    "plt.xlabel('Weeks from Sign-up', size=20)\n",
    "plt.ylabel('Percentage of Users', size=20)\n",
    "plt.legend(loc = 'upper center', fontsize=20)\n",
    "plt.savefig(path+'images/RetentionAllUsers.jpg')"
   ]
  },
  {
   "cell_type": "code",
   "execution_count": null,
   "metadata": {
    "collapsed": false
   },
   "outputs": [],
   "source": [
    "plt.figure(figsize=(20,10))\n",
    "\n",
    "#plt.plot(all.Week, all.percentActive, label=\"All Users\")\n",
    "#plt.plot(meet0.Week, meet0.percentActive, label=\"0 Meetings/Wk\")\n",
    "plt.plot(meet1to2.Week, meet1to2.percentActive, label=\"1-2 Meetings/Wk\")\n",
    "plt.plot(meet3to6.Week, meet3to6.percentActive, label=\"3-6 Meetings/Wk\")\n",
    "plt.plot(meet7to10.Week, meet7to10.percentActive, label=\"7-10 Meetings/Wk\")\n",
    "plt.plot(meet10plus.Week, meet10plus.percentActive, label=\"10+ Meetings/Wk\")\n",
    "\n",
    "plt.ylim([0, 1])\n",
    "\n",
    "plt.xlabel('Weeks from Sign-up', size=20)\n",
    "plt.ylabel('Percentage of Users', size=20)\n",
    "plt.legend(loc = 'upper center', fontsize=20)\n",
    "plt.savefig(path+'images/RetentionByMeetingsPerWeek_Week0.jpg')"
   ]
  },
  {
   "cell_type": "code",
   "execution_count": null,
   "metadata": {
    "collapsed": true
   },
   "outputs": [],
   "source": []
  }
 ],
 "metadata": {
  "kernelspec": {
   "display_name": "Python 2",
   "language": "python",
   "name": "python2"
  },
  "language_info": {
   "codemirror_mode": {
    "name": "ipython",
    "version": 2
   },
   "file_extension": ".py",
   "mimetype": "text/x-python",
   "name": "python",
   "nbconvert_exporter": "python",
   "pygments_lexer": "ipython2",
   "version": "2.7.11"
  }
 },
 "nbformat": 4,
 "nbformat_minor": 0
}
