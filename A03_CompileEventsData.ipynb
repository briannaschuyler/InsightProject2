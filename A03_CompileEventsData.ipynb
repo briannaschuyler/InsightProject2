{
 "cells": [
  {
   "cell_type": "markdown",
   "metadata": {},
   "source": [
    "# Find the details of user registration"
   ]
  },
  {
   "cell_type": "code",
   "execution_count": null,
   "metadata": {
    "collapsed": true,
    "scrolled": true
   },
   "outputs": [],
   "source": [
    "## Python packages - you may have to pip install sqlalchemy, sqlalchemy_utils, and psycopg2.\n",
    "from sqlalchemy import create_engine\n",
    "from sqlalchemy_utils import database_exists, create_database\n",
    "import psycopg2\n",
    "import pandas as pd\n",
    "import numpy as np\n",
    "\n",
    "import re # to access database details in a file, to search for strings\n",
    "import time # to time how long queries and processes take\n",
    "import matplotlib.pyplot as plt\n",
    "import seaborn as sns\n",
    "from datetime import date, datetime, timedelta # to manipulate dates\n",
    "\n",
    "from connect_db import connect_db\n",
    "from makeWeekList import makeWeekList\n",
    "\n",
    "% matplotlib inline"
   ]
  },
  {
   "cell_type": "code",
   "execution_count": null,
   "metadata": {
    "collapsed": true,
    "scrolled": true
   },
   "outputs": [],
   "source": [
    "path='/Users/brianna/Documents/WL_DBdeets/'"
   ]
  },
  {
   "cell_type": "code",
   "execution_count": null,
   "metadata": {
    "collapsed": false,
    "scrolled": true
   },
   "outputs": [],
   "source": [
    "# Access the 'events' database.\n",
    "conE, curE = connect_db('evnt', path)\n",
    "\n",
    "# Access the 'transactions' database.\n",
    "conT, curT = connect_db('trns', path)"
   ]
  },
  {
   "cell_type": "markdown",
   "metadata": {},
   "source": [
    "### Query the db for signup date and other information about participation"
   ]
  },
  {
   "cell_type": "code",
   "execution_count": null,
   "metadata": {
    "collapsed": false,
    "scrolled": true
   },
   "outputs": [],
   "source": [
    "# Make a list of everyone who's signed up (AKA had a sign-up event)\n",
    "\n",
    "def querySignedUp():\n",
    "    starttime=time.time()\n",
    "\n",
    "    sql_query=\"\"\"\n",
    "        select \n",
    "            user_id, date_trunc('day',event_time)::DATE as reg_date, u_email\n",
    "        from \n",
    "            app131567.signed_up\n",
    "    \"\"\"\n",
    "\n",
    "    query_result = pd.read_sql_query(sql_query,conE)\n",
    "\n",
    "    print(time.time()-starttime)\n",
    "\n",
    "    df=query_result.iloc[:]\n",
    "    \n",
    "    # Drop duplicated whole rows.\n",
    "    df = df.drop_duplicates(keep='first')\n",
    "\n",
    "    # If there are duplicated \n",
    "    df = df.drop_duplicates(subset='user_id', keep='first')\n",
    "    return df\n"
   ]
  },
  {
   "cell_type": "code",
   "execution_count": null,
   "metadata": {
    "collapsed": false
   },
   "outputs": [],
   "source": [
    "# Convert the registration date to a datetime object so that it can be binned by week.\n",
    "def convert_to_datetime(x):\n",
    "    return datetime.combine(x, datetime.min.time())"
   ]
  },
  {
   "cell_type": "code",
   "execution_count": null,
   "metadata": {
    "collapsed": false
   },
   "outputs": [],
   "source": [
    "# Make a column of the week they signed up (to get a metric that's the same as the transactional \n",
    "# data that I have collapsed into weekly bins)\n",
    "\n",
    "def makeRegistrationWeekColumn(df, start_date, end_date):\n",
    "    #date_start = datetime.strptime(start_date, \"%Y-%m-%d\")\n",
    "    date_start = start_date\n",
    "    #current_date = datetime.now()\n",
    "\n",
    "    #df.loc[:,'reg_week'] = current_date\n",
    "    df.loc[:,'reg_week'] = None\n",
    "\n",
    "    while date_start < end_date:\n",
    "        date_end = date_start + timedelta(days=7)\n",
    "        #print(str(date_start)+' '+str(date_end))\n",
    "        df.loc[(df.reg_date>date_start) & (df.reg_date<date_end), 'reg_week']=date_start\n",
    "        date_start += timedelta(days=7)\n",
    "\n",
    "    return df"
   ]
  },
  {
   "cell_type": "code",
   "execution_count": null,
   "metadata": {
    "collapsed": true
   },
   "outputs": [],
   "source": [
    "# If the address is *.edu, return \"school\".  Otherwise, return the domain name.\n",
    "def grabDomain(x):\n",
    "    if x != None:\n",
    "        domain=re.findall('@(\\w+).(\\w+)',x)\n",
    "        if domain[0][1] == 'edu':\n",
    "            return 'school'\n",
    "        else:\n",
    "            return(domain[0][0].lower())\n",
    "    else:\n",
    "        return None\n",
    "\n",
    "def grabDomainSuffix(x):\n",
    "    if x != None:\n",
    "        domainSuffix=re.findall('@\\w+.(\\w+)',x)\n",
    "        return(domainSuffix[0].lower())\n",
    "    else:\n",
    "        return None"
   ]
  },
  {
   "cell_type": "code",
   "execution_count": null,
   "metadata": {
    "collapsed": true
   },
   "outputs": [],
   "source": [
    "def deIdentifyEmailColumn(df):\n",
    "    # Make a column with 0 and 1's for whether a person shared their email\n",
    "    df['sharedEmail'] = 0\n",
    "    df.loc[df.u_email.notnull(),'sharedEmail'] = 1\n",
    "    \n",
    "    # Find out if the email is: \n",
    "    # - personal (gmail, yahoo, hotmail)\n",
    "    # - school (.edu suffix)\n",
    "    # - corporate (anything else)\n",
    "    df['emailDomain'] = df.u_email.apply(lambda x : grabDomain(x))\n",
    "    df.loc[df.emailDomain == 'gmail', 'emailDomain'] = 'personal'\n",
    "    df.loc[df.emailDomain == 'yahoo', 'emailDomain'] = 'personal'\n",
    "    df.loc[df.emailDomain == 'hotmail', 'emailDomain'] = 'personal'\n",
    "    df.loc[df.emailDomain == 'mail', 'emailDomain'] = 'personal'\n",
    "\n",
    "    # Make a column that looks at all of the email addresses that are company addresses, and\n",
    "    # records the number of people with the same address.  Personal and school email addresses \n",
    "    # will get labeled '1'.\n",
    "    counts = df.emailDomain.value_counts()\n",
    "    counts['personal'] = 1; counts['school'] = 1\n",
    "    def findNumberFromCompany(x):\n",
    "        if x != None:\n",
    "            count = counts[x]\n",
    "            return count\n",
    "        else:\n",
    "            return None\n",
    "    \n",
    "    # Make the columns that record how many people are from the same company (ie. use the same email \n",
    "    # domain) as the user.\n",
    "    df['NumberSignedUpFromCompany'] = df.emailDomain.apply(lambda x : findNumberFromCompany(x))\n",
    "    df['NumberSignedUpFromCompanyNoPersonalOrSchool'] = df.NumberSignedUpFromCompany[:]\n",
    "    df.loc[df.emailDomain == 'personal', 'NumberSignedUpFromCompanyNoPersonalOrSchool'] = None\n",
    "    df.loc[df.emailDomain == 'school','NumberSignedUpFromCompanyNoPersonalOrSchool'] = None\n",
    "\n",
    "    companyEmail = (df.emailDomain.notnull()) & (df.emailDomain != 'personal') & (df.emailDomain != 'school')\n",
    "    df.loc[companyEmail, 'emailDomain'] = 'company'\n",
    "    df['emailDomainSuffix'] = df.u_email.apply(lambda x : grabDomainSuffix(x))\n",
    "    \n",
    "    # Drop the email address and emailDomain so there's no identifying information in the saved file.\n",
    "    #df.drop('u_email', axis=1)\n",
    "    df['u_email'] = None\n",
    "    return df"
   ]
  },
  {
   "cell_type": "code",
   "execution_count": null,
   "metadata": {
    "collapsed": false
   },
   "outputs": [],
   "source": [
    "# Add information on a few more types of events to the dataframe, \n",
    "# ie. how often the following things happen:\n",
    "# - added_meeting\n",
    "# - added_agenda_item\n",
    "# - added_note\n",
    "# - assigned_action_item\n",
    "\n",
    "def addOtherEvents(eventList):\n",
    "    starttime=time.time()\n",
    "\n",
    "    for event in eventList:\n",
    "    #event = eventList[0]\n",
    "        print(event)\n",
    "        for w in range(len(weekList)):\n",
    "            week = weekList[w]\n",
    "            end_date = week + timedelta(days=7)\n",
    "            string1=\"select user_id from app131567.{event}\".format(event=event)\n",
    "            string2=\" where lower(event_time) between  \"\n",
    "            string3 = \" '{start_date}' and '{end_date}'\".format(start_date = week, end_date = end_date)\n",
    "            #print(string3)\n",
    "            sql_query = string1 + string2 + string3\n",
    "\n",
    "            query_result = pd.read_sql_query(sql_query,conE)\n",
    "\n",
    "            # Make a column named with the name of the event that's all ones that we can\n",
    "            # use later to sum and get aggregate numbers.\n",
    "            columnName=event+weekStringList[w]\n",
    "            columnName=columnName.replace('-','_')\n",
    "\n",
    "            eventDF=query_result.iloc[:]\n",
    "            eventDF[columnName]=1\n",
    "            sumDF=eventDF.groupby('user_id').sum()\n",
    "\n",
    "            if event == eventList[0] and w ==0:\n",
    "                allEvts = sumDF\n",
    "            else:\n",
    "                allEvts = allEvts.join(sumDF, how = 'outer')\n",
    "            #sumDF=eventDF.groupby('user_id').sum()\n",
    "    return allEvts"
   ]
  },
  {
   "cell_type": "markdown",
   "metadata": {},
   "source": [
    "# Main Function"
   ]
  },
  {
   "cell_type": "code",
   "execution_count": null,
   "metadata": {
    "collapsed": false
   },
   "outputs": [],
   "source": [
    "# Query the dataframe for all people that have signed up\n",
    "signups = querySignedUp()\n",
    "\n",
    "# Convert reg_date from a date to a datetime object\n",
    "signups.reg_date = signups.reg_date.apply(lambda x: convert_to_datetime(x))\n",
    "\n",
    "# Make a list of weeks from the start of data collection until now\n",
    "start_date = '2015-05-24'; end_date = '2016-01-26'\n",
    "weekList, weekStringList = makeWeekList(start_date, end_date)\n",
    "\n",
    "# Make a column in the dataframe that contains the Registration Week (cohort) of each user\n",
    "signups = makeRegistrationWeekColumn(signups, weekList[0], weekList[-1])\n",
    "\n",
    "# Make a column to indicate whether people shared their email.\n",
    "# (Later this can be changed to indicate if the email is work or personal.)\n",
    "signups = deIdentifyEmailColumn(signups)\n",
    "\n",
    "# Make a separate dataframe of other events of interest (grabbed through queries)\n",
    "# eventList = ['added_meeting','added_agenda_item','added_note','assigned_action_item',\n",
    "#              'viewed_onboarding__tour_4_page', 'approved_google_permissions',\n",
    "#              'chrome_extension_installed', 'selected_gcal_connect','selected_office_365_connect']\n",
    "eventList = ['added_meeting','added_agenda_item','assigned_action_item']\n",
    "allEvts = addOtherEvents(eventList)\n",
    "\n",
    "# Combine all of the entries in allEvts with the signups dataframe\n",
    "signups=signups.join(allEvts, on='user_id',how='right')"
   ]
  },
  {
   "cell_type": "code",
   "execution_count": null,
   "metadata": {
    "collapsed": false
   },
   "outputs": [],
   "source": [
    "signups.to_csv(path+'03_UserRegistrationDateMoreDetails.csv')\n",
    "print(len(signups['reg_week'].unique()))\n"
   ]
  },
  {
   "cell_type": "code",
   "execution_count": null,
   "metadata": {
    "collapsed": true
   },
   "outputs": [],
   "source": [
    "signupsWithDuplicates = signups"
   ]
  },
  {
   "cell_type": "code",
   "execution_count": null,
   "metadata": {
    "collapsed": false
   },
   "outputs": [],
   "source": [
    "signups['dummy'] = 1\n",
    "plt.figure(figsize=(20,10))\n",
    "sums = signups.groupby('reg_week')['dummy'].sum()\n",
    "sumsDup = signupsWithDuplicates.groupby('reg_week')['dummy'].sum()\n",
    "\n",
    "sns.set()\n",
    "sns.set_style(\"whitegrid\")\n",
    "\n",
    "ax = pd.Series(sums, index=sums.index)\n",
    "ax.plot(color='blue')\n",
    "\n",
    "ax = pd.Series(sumsDup, index=sumsDup.index)\n",
    "ax.plot(color='green')\n",
    "\n",
    "#ax.plot.xlabel(\"x axis\")\n",
    "#ax.xaxis('Week')\n",
    "\n",
    "plt.savefig(path+'images/SignedUpByWeek.jpg')\n"
   ]
  },
  {
   "cell_type": "code",
   "execution_count": null,
   "metadata": {
    "collapsed": false,
    "scrolled": false
   },
   "outputs": [],
   "source": [
    "plt.figure(figsize=(20,10))\n",
    "signups['reg_week'].hist(bins = len(signups['reg_week'].unique()))\n",
    "#signups['reg_week'].hist()\n",
    "\n",
    "plt.xlabel('Number of New Registrations Per Week \\n (\\'reg_date\\' from app131567.signed_up)', size=20)"
   ]
  },
  {
   "cell_type": "markdown",
   "metadata": {},
   "source": [
    "# Find whether each person has connected their calendar."
   ]
  },
  {
   "cell_type": "code",
   "execution_count": null,
   "metadata": {
    "collapsed": false
   },
   "outputs": [],
   "source": [
    "type(weekList[0])"
   ]
  },
  {
   "cell_type": "code",
   "execution_count": null,
   "metadata": {
    "collapsed": true
   },
   "outputs": [],
   "source": []
  }
 ],
 "metadata": {
  "kernelspec": {
   "display_name": "Python 2",
   "language": "python",
   "name": "python2"
  },
  "language_info": {
   "codemirror_mode": {
    "name": "ipython",
    "version": 2
   },
   "file_extension": ".py",
   "mimetype": "text/x-python",
   "name": "python",
   "nbconvert_exporter": "python",
   "pygments_lexer": "ipython2",
   "version": "2.7.11"
  }
 },
 "nbformat": 4,
 "nbformat_minor": 0
}
