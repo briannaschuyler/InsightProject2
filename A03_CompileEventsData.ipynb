{
 "cells": [
  {
   "cell_type": "markdown",
   "metadata": {},
   "source": [
    "# Find the details of user registration"
   ]
  },
  {
   "cell_type": "code",
   "execution_count": 1,
   "metadata": {
    "collapsed": true,
    "scrolled": true
   },
   "outputs": [],
   "source": [
    "## Python packages - you may have to pip install sqlalchemy, sqlalchemy_utils, and psycopg2.\n",
    "from sqlalchemy import create_engine\n",
    "from sqlalchemy_utils import database_exists, create_database\n",
    "import psycopg2\n",
    "import pandas as pd\n",
    "\n",
    "import re # to access database details in a file\n",
    "import time # to time how long queries and processes take\n",
    "import matplotlib.pyplot as plt\n",
    "from datetime import date, datetime, timedelta # to manipulate dates\n",
    "\n",
    "from connect_db import connect_db\n",
    "\n",
    "% matplotlib inline"
   ]
  },
  {
   "cell_type": "code",
   "execution_count": 2,
   "metadata": {
    "collapsed": true,
    "scrolled": true
   },
   "outputs": [],
   "source": [
    "path='/Users/brianna/Documents/WL_DBdeets/'"
   ]
  },
  {
   "cell_type": "code",
   "execution_count": 3,
   "metadata": {
    "collapsed": false,
    "scrolled": true
   },
   "outputs": [
    {
     "name": "stdout",
     "output_type": "stream",
     "text": [
      "I connected to the evnt database!!\n",
      "I connected to the trns database!!\n"
     ]
    }
   ],
   "source": [
    "# Access the 'events' database.\n",
    "conE, curE = connect_db('evnt', path)\n",
    "\n",
    "# Access the 'transactions' database.\n",
    "conT, curT = connect_db('trns', path)"
   ]
  },
  {
   "cell_type": "markdown",
   "metadata": {},
   "source": [
    "### Query the db for signup date and other information about participation"
   ]
  },
  {
   "cell_type": "code",
   "execution_count": 13,
   "metadata": {
    "collapsed": false,
    "scrolled": true
   },
   "outputs": [
    {
     "name": "stdout",
     "output_type": "stream",
     "text": [
      "0.547454118729\n"
     ]
    }
   ],
   "source": [
    "# Make a list of everyone who's signed up (AKA had a sign-up event)\n",
    "\n",
    "starttime=time.time()\n",
    "\n",
    "sql_query=\"\"\"\n",
    "    select \n",
    "        user_id, date_trunc('day',event_time)::DATE as reg_date, u_email\n",
    "    from \n",
    "        app131567.signed_up\n",
    "\"\"\"\n",
    "\n",
    "query_result = pd.read_sql_query(sql_query,conE)\n",
    "\n",
    "print(time.time()-starttime)\n",
    "\n",
    "signups=query_result.iloc[:]\n",
    "# Drop duplicated whole rows.\n",
    "signups = signups.drop_duplicates(keep='first')\n",
    "\n",
    "# If there are duplicated \n",
    "signups = signups.drop_duplicates(subset='user_id', keep='first')\n"
   ]
  },
  {
   "cell_type": "code",
   "execution_count": 14,
   "metadata": {
    "collapsed": true
   },
   "outputs": [],
   "source": [
    "# Convert the registration date to a datetime object so that it can be binned by week.\n",
    "def convert_to_datetime(x):\n",
    "    return datetime.combine(x, datetime.min.time())\n",
    "\n",
    "signups.reg_date = signups.reg_date.apply(lambda x: convert_to_datetime(x))"
   ]
  },
  {
   "cell_type": "code",
   "execution_count": 15,
   "metadata": {
    "collapsed": true
   },
   "outputs": [],
   "source": [
    "# Make a list of the weeks between 2015-05-24 and now.\n",
    "weekList = []\n",
    "date_start = datetime.strptime('2015-05-24', \"%Y-%m-%d\")\n",
    "current_date = datetime.now()\n",
    "\n",
    "while date_start < current_date + timedelta(days=7):\n",
    "    weekList.append(date_start)\n",
    "    date_start += timedelta(days=7)\n",
    "\n",
    "# Make an identical list but filled with the string version of the variable instead of the \n",
    "# datetime version.  (We have to use the [:] notation or else both variable names point to\n",
    "# the same object.)\n",
    "\n",
    "weekStringList=weekList[:]\n",
    "for w in range(len(weekStringList)):\n",
    "    weekStringList[w]=str(weekStringList[w]).split(' ')[0]"
   ]
  },
  {
   "cell_type": "code",
   "execution_count": 16,
   "metadata": {
    "collapsed": false
   },
   "outputs": [
    {
     "name": "stderr",
     "output_type": "stream",
     "text": [
      "/anaconda/lib/python2.7/site-packages/ipykernel/__main__.py:12: SettingWithCopyWarning: \n",
      "A value is trying to be set on a copy of a slice from a DataFrame\n",
      "\n",
      "See the caveats in the documentation: http://pandas.pydata.org/pandas-docs/stable/indexing.html#indexing-view-versus-copy\n"
     ]
    }
   ],
   "source": [
    "# Make a column of the week they signed up (to get a metric that's the same as the transactional \n",
    "# data that I have collapsed into weekly bins)\n",
    "\n",
    "date_start = datetime.strptime('2015-05-24', \"%Y-%m-%d\")\n",
    "current_date = datetime.now()\n",
    "\n",
    "signups['reg_week'] = current_date\n",
    "\n",
    "while date_start < current_date:\n",
    "    date_end = date_start + timedelta(days=7)\n",
    "    #print(str(date_start)+' '+str(date_end))\n",
    "    signups.reg_week[(signups.reg_date>date_start) & (signups.reg_date<date_end)]=date_start\n",
    "    date_start += timedelta(days=7)"
   ]
  },
  {
   "cell_type": "code",
   "execution_count": 17,
   "metadata": {
    "collapsed": false
   },
   "outputs": [
    {
     "data": {
      "text/html": [
       "<div>\n",
       "<table border=\"1\" class=\"dataframe\">\n",
       "  <thead>\n",
       "    <tr style=\"text-align: right;\">\n",
       "      <th></th>\n",
       "      <th>user_id</th>\n",
       "      <th>reg_date</th>\n",
       "      <th>u_email</th>\n",
       "      <th>reg_week</th>\n",
       "    </tr>\n",
       "  </thead>\n",
       "  <tbody>\n",
       "    <tr>\n",
       "      <th>0</th>\n",
       "      <td>556ce8dc1407c9df346e54dc</td>\n",
       "      <td>2015-06-01</td>\n",
       "      <td>None</td>\n",
       "      <td>2015-05-31</td>\n",
       "    </tr>\n",
       "    <tr>\n",
       "      <th>1</th>\n",
       "      <td>556cf3dfb78b730beae27960</td>\n",
       "      <td>2015-06-02</td>\n",
       "      <td>None</td>\n",
       "      <td>2015-05-31</td>\n",
       "    </tr>\n",
       "    <tr>\n",
       "      <th>2</th>\n",
       "      <td>556cf8fa913df923867886bd</td>\n",
       "      <td>2015-06-02</td>\n",
       "      <td>None</td>\n",
       "      <td>2015-05-31</td>\n",
       "    </tr>\n",
       "    <tr>\n",
       "      <th>3</th>\n",
       "      <td>556d11ac6e81ef883374705b</td>\n",
       "      <td>2015-06-02</td>\n",
       "      <td>None</td>\n",
       "      <td>2015-05-31</td>\n",
       "    </tr>\n",
       "    <tr>\n",
       "      <th>4</th>\n",
       "      <td>556d397dc23812601a3bbcdf</td>\n",
       "      <td>2015-06-02</td>\n",
       "      <td>None</td>\n",
       "      <td>2015-05-31</td>\n",
       "    </tr>\n",
       "  </tbody>\n",
       "</table>\n",
       "</div>"
      ],
      "text/plain": [
       "                    user_id   reg_date u_email   reg_week\n",
       "0  556ce8dc1407c9df346e54dc 2015-06-01    None 2015-05-31\n",
       "1  556cf3dfb78b730beae27960 2015-06-02    None 2015-05-31\n",
       "2  556cf8fa913df923867886bd 2015-06-02    None 2015-05-31\n",
       "3  556d11ac6e81ef883374705b 2015-06-02    None 2015-05-31\n",
       "4  556d397dc23812601a3bbcdf 2015-06-02    None 2015-05-31"
      ]
     },
     "execution_count": 17,
     "metadata": {},
     "output_type": "execute_result"
    }
   ],
   "source": [
    "signups.head()"
   ]
  },
  {
   "cell_type": "code",
   "execution_count": 9,
   "metadata": {
    "collapsed": false
   },
   "outputs": [
    {
     "name": "stdout",
     "output_type": "stream",
     "text": [
      "added_meeting\n",
      "added_agenda_item\n",
      "added_note\n",
      "assigned_action_item\n",
      "viewed_onboarding__tour_4_page\n"
     ]
    }
   ],
   "source": [
    "# Add information on a few more types of events to the dataframe, \n",
    "# ie. how often the following things happen:\n",
    "# - added_meeting\n",
    "# - added_agenda_item\n",
    "# - added_note\n",
    "# - assigned_action_item\n",
    "\n",
    "eventList = ['added_meeting','added_agenda_item','added_note','assigned_action_item','viewed_onboarding__tour_4_page']\n",
    "starttime=time.time()\n",
    "\n",
    "for event in eventList:\n",
    "#event = eventList[0]\n",
    "    print(event)\n",
    "    for w in range(len(weekList)):\n",
    "        week = weekList[w]\n",
    "        end_date = week + timedelta(days=7)\n",
    "        string1=\"select user_id from app131567.{event}\".format(event=event)\n",
    "        string2=\" where lower(event_time) between  \"\n",
    "        string3 = \" '{start_date}' and '{end_date}'\".format(start_date = week, end_date = end_date)\n",
    "        sql_query = string1 + string2 + string3\n",
    "\n",
    "        query_result = pd.read_sql_query(sql_query,conE)\n",
    "\n",
    "        # Make a column named with the name of the event that's all ones that we can\n",
    "        # use later to sum and get aggregate numbers.\n",
    "        columnName=event+weekStringList[w]\n",
    "        columnName=columnName.replace('-','_')\n",
    "\n",
    "        eventDF=query_result.iloc[:]\n",
    "        eventDF[columnName]=1\n",
    "        sumDF=eventDF.groupby('user_id').sum()\n",
    "\n",
    "        if event == eventList[0] and w ==0:\n",
    "            allEvts = sumDF\n",
    "        else:\n",
    "            allEvts = allEvts.join(sumDF, how = 'outer')\n",
    "        #sumDF=eventDF.groupby('user_id').sum()"
   ]
  },
  {
   "cell_type": "code",
   "execution_count": 10,
   "metadata": {
    "collapsed": false
   },
   "outputs": [],
   "source": [
    "# Combine all of the entries in allEvts with the signups dataframe\n",
    "signups=signups.join(allEvts, on='user_id',how='right')"
   ]
  },
  {
   "cell_type": "code",
   "execution_count": 11,
   "metadata": {
    "collapsed": true
   },
   "outputs": [],
   "source": [
    "signups.to_csv(path+'UserRegistrationDateMoreDetails.csv')"
   ]
  },
  {
   "cell_type": "code",
   "execution_count": 18,
   "metadata": {
    "collapsed": false,
    "scrolled": false
   },
   "outputs": [
    {
     "data": {
      "text/plain": [
       "<matplotlib.text.Text at 0x110c539d0>"
      ]
     },
     "execution_count": 18,
     "metadata": {},
     "output_type": "execute_result"
    },
    {
     "data": {
      "image/png": "[encoded data removed]",
      "text/plain": [
       "<matplotlib.figure.Figure at 0x110e17d50>"
      ]
     },
     "metadata": {},
     "output_type": "display_data"
    }
   ],
   "source": [
    "plt.figure(figsize=(20,10))\n",
    "signups['reg_week'].hist(bins = len(signups['reg_week'].unique()))\n",
    "\n",
    "plt.xlabel('Number of New Registrations Per Week \\n (\\'reg_date\\' from app131567.signed_up)', size=20)"
   ]
  },
  {
   "cell_type": "markdown",
   "metadata": {},
   "source": [
    "# Find whether each person has connected their calendar."
   ]
  },
  {
   "cell_type": "code",
   "execution_count": null,
   "metadata": {
    "collapsed": true
   },
   "outputs": [],
   "source": []
  }
 ],
 "metadata": {
  "kernelspec": {
   "display_name": "Python 2",
   "language": "python",
   "name": "python2"
  },
  "language_info": {
   "codemirror_mode": {
    "name": "ipython",
    "version": 2
   },
   "file_extension": ".py",
   "mimetype": "text/x-python",
   "name": "python",
   "nbconvert_exporter": "python",
   "pygments_lexer": "ipython2",
   "version": "2.7.11"
  }
 },
 "nbformat": 4,
 "nbformat_minor": 0
}
