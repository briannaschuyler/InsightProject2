{
 "cells": [
  {
   "cell_type": "code",
   "execution_count": null,
   "metadata": {
    "collapsed": true
   },
   "outputs": [],
   "source": [
    "import pandas as pd\n",
    "import numpy as np\n",
    "#from datetime import date, datetime, timedelta # to manipulate dates\n",
    "\n",
    "import matplotlib.pyplot as plt\n",
    "% matplotlib inline\n",
    "import matplotlib\n",
    "matplotlib.style.use('ggplot')\n",
    "from pylab import savefig\n",
    "from __future__ import division\n",
    "\n",
    "import seaborn as sns\n",
    "\n",
    "path='/Users/brianna/Documents/WL_DBdeets/'"
   ]
  },
  {
   "cell_type": "code",
   "execution_count": null,
   "metadata": {
    "collapsed": true
   },
   "outputs": [],
   "source": [
    "def makeDFsubset(df, varList):\n",
    "    # Not Including: \n",
    "    # added_noteWeek0 - stopped being collected in September\n",
    "    # viewed_onboarding__tour_4_pageWeek - only collected starting in September\n",
    "    \n",
    "    df = df[varList]\n",
    "    \n",
    "    df['EmailCorporateVsPrivate']=0\n",
    "    corpEmail = df.emailDomain == 'company'\n",
    "    personalEmail = df['emailDomain'] == 'personal'\n",
    "    schoolEmail = df['emailDomain'] == 'school'\n",
    "    df.loc[corpEmail,'EmailCorporateVsPrivate'] = .5\n",
    "    df.loc[personalEmail,'EmailCorporateVsPrivate'] = -.5\n",
    "    df.loc[schoolEmail,'EmailCorporateVsPrivate'] = -.5\n",
    "    \n",
    "    df['dummy'] = 1\n",
    "    \n",
    "#    mth0retain = df.RetentionStatusRetainedMth0 > 0\n",
    "#    df.loc[mth0retain,'RetentionStatusRetainedMth0'] = 1\n",
    "\n",
    "    return df"
   ]
  },
  {
   "cell_type": "code",
   "execution_count": null,
   "metadata": {
    "collapsed": false,
    "scrolled": true
   },
   "outputs": [],
   "source": [
    "def cleanVars(df, varListContinuous):\n",
    "    for v in varListContinuous:\n",
    "        #print(v)\n",
    "        numStdDev=5\n",
    "        varUpperLimit = np.mean(df[v]) + numStdDev*np.std(df[v])\n",
    "        varLowerLimit = np.mean(df[v]) - numStdDev*np.std(df[v])\n",
    "        \n",
    "        #(df[v] > varMean - 5*varStdDev) and \n",
    "        #print(str(varUpperLimit)+', '+str(varLowerLimit))\n",
    "        df.loc[df[v] > varUpperLimit, v] = varUpperLimit\n",
    "        df.loc[df[v] < varLowerLimit, v] = varLowerLimit\n",
    "        \n",
    "    return df"
   ]
  },
  {
   "cell_type": "code",
   "execution_count": null,
   "metadata": {
    "collapsed": false,
    "scrolled": true
   },
   "outputs": [],
   "source": [
    "def plotCorrMatrix(df):\n",
    "    sns.set(style=\"white\")\n",
    "\n",
    "    # Compute the correlation matrix\n",
    "    corr = df.corr()\n",
    "    #print(corr)\n",
    "\n",
    "    # Generate a mask for the upper triangle\n",
    "    mask = np.zeros_like(corr, dtype=np.bool)\n",
    "    mask[np.triu_indices_from(mask)] = True\n",
    "\n",
    "    # Set up the matplotlib figure\n",
    "    f, ax = plt.subplots(figsize=(20, 18))\n",
    "\n",
    "    # Generate a custom diverging colormap\n",
    "    cmap = sns.diverging_palette(220, 10, as_cmap=True)\n",
    "\n",
    "    # Draw the heatmap with the mask and correct aspect ratio\n",
    "    sns.heatmap(corr, mask=mask, cmap=cmap, vmax=.3,\n",
    "                square=True, xticklabels=True, yticklabels=True,\n",
    "                linewidths=.5, cbar_kws={\"shrink\": .5}, ax=ax)\n",
    "    \n",
    "    savefig(path+'images/correlationMatrix.jpg')"
   ]
  },
  {
   "cell_type": "code",
   "execution_count": null,
   "metadata": {
    "collapsed": false,
    "scrolled": true
   },
   "outputs": [],
   "source": [
    "def plotVarHist(df, variableName):\n",
    " \n",
    "    plt.figure(figsize=(20,10))\n",
    "    df[variableName].hist(bins = len(df[variableName].unique()))\n",
    "\n",
    "    plt.xlabel(variableName, size=20)\n",
    "    plt.ylabel('Count', size = 20)\n",
    "    plt.savefig(path+'images/'+variableName+'Histogram.jpg')"
   ]
  },
  {
   "cell_type": "code",
   "execution_count": null,
   "metadata": {
    "collapsed": true
   },
   "outputs": [],
   "source": [
    "def plotVarByWeek(df, variableName):\n",
    "    plt.figure(figsize=(15,15))\n",
    "    sums = df.groupby('registrationWeek')[variableName].sum()\n",
    "    #print(sums.index[:5])\n",
    "    #print(sums[:5])\n",
    "    #plt.bar(df['registrationWeek'], df[variableName])\n",
    "    \n",
    "    sns.set()\n",
    "    sns.set_style(\"whitegrid\")\n",
    "    ax = sns.barplot(x=sums.index, y=sums, label = 'medium', color='blue')\n",
    "    ax.set(xlabel='Week', ylabel='Instances of '+variableName)\n",
    "    \n",
    "    for item in ax.get_xticklabels():\n",
    "        item.set_rotation(45)\n",
    "        \n",
    "    #ax.savefig(path+variableName+'.png')"
   ]
  },
  {
   "cell_type": "code",
   "execution_count": null,
   "metadata": {
    "collapsed": true
   },
   "outputs": [],
   "source": [
    "def imputeVars(df, varListContinuous):    \n",
    "    for v in varListContinuous:\n",
    "        totMissing = len(df.loc[df[v].isnull(),v])\n",
    "        totUser = len(df[v])\n",
    "        pctMissing = totMissing/totUser\n",
    "        print(v+': '+str(pctMissing))\n",
    "        # If less than 25% of data is missing, replace missing data with the median of the data\n",
    "        # Append a '_i' on the end of the variable so you know it's been imputed.\n",
    "        if pctMissing < .25:\n",
    "            df[v+'_i']=df[v][:]\n",
    "            df.loc[df[v+'_i'].isnull(),v+'_i']=np.mean(df[v])\n",
    "    return df"
   ]
  },
  {
   "cell_type": "markdown",
   "metadata": {},
   "source": [
    "# Main Function"
   ]
  },
  {
   "cell_type": "code",
   "execution_count": null,
   "metadata": {
    "collapsed": false,
    "scrolled": true
   },
   "outputs": [],
   "source": [
    "# Make List of variables and take a subset of df with just these variables.\n",
    "varListCategorical = ['user_id', \n",
    "                      'registrationWeek',\n",
    "                      'sharedEmail',\n",
    "                      'emailDomain',\n",
    "                      'RetentionStatus2Levels',\n",
    "                      'RetentionStatus4Levels']\n",
    "varListContinuous = ['NumberSignedUpFromCompany',\n",
    "                     'MeetingsTotalWeek0', 'MeetingsTotalWeek1_0diff',\n",
    "                     'organizerTotalWeek0','organizerTotalWeek1_0diff',\n",
    "                     'PortionOfOrganizerWeek0','PortionOfOrganizerWeek1_0diff',\n",
    "                     'num_attendeesWeek0','num_attendeesWeek1_0diff',\n",
    "                     'AveNumAttendeesWeek0', 'AveNumAttendeesWeek1_0diff',\n",
    "                     'added_meetingWeek0', 'added_meetingWeek1_0diff',\n",
    "                     'added_agenda_itemWeek0', 'added_agenda_itemWeek1_0diff',\n",
    "                     'assigned_action_itemWeek0','assigned_action_itemWeek1_0diff',\n",
    "                     'WeeksVisitedOutOf12']\n",
    "\n",
    "varList = varListCategorical + varListContinuous"
   ]
  },
  {
   "cell_type": "code",
   "execution_count": null,
   "metadata": {
    "collapsed": true
   },
   "outputs": [],
   "source": [
    "# Read in the dataframe with all of the variables of interest.\n",
    "df = pd.read_csv(path+'05_RetentionMeetingsBehaviorFull.csv')\n",
    "\n",
    "df = makeDFsubset(df, varList)\n",
    "\n",
    "df = cleanVars(df, varListContinuous)"
   ]
  },
  {
   "cell_type": "code",
   "execution_count": null,
   "metadata": {
    "collapsed": true
   },
   "outputs": [],
   "source": [
    "#Plot the correlation matrix\n",
    "plotCorrMatrix(df)"
   ]
  },
  {
   "cell_type": "code",
   "execution_count": null,
   "metadata": {
    "collapsed": false
   },
   "outputs": [],
   "source": [
    "for v in varListContinuous:\n",
    "    plotVarHist(df,v)\n",
    "    #plotVarByWeek(df, v)"
   ]
  },
  {
   "cell_type": "code",
   "execution_count": null,
   "metadata": {
    "collapsed": false,
    "scrolled": true
   },
   "outputs": [],
   "source": [
    "for v in varListContinuous:\n",
    "    plotVarByWeek(df, v)"
   ]
  },
  {
   "cell_type": "code",
   "execution_count": null,
   "metadata": {
    "collapsed": false
   },
   "outputs": [],
   "source": [
    "# If less than 30% of data is missing, make a variable with imputations on missing values.\n",
    "df = imputeVars(df, varListContinuous)"
   ]
  },
  {
   "cell_type": "code",
   "execution_count": null,
   "metadata": {
    "collapsed": true
   },
   "outputs": [],
   "source": [
    "df.head(10)"
   ]
  },
  {
   "cell_type": "code",
   "execution_count": null,
   "metadata": {
    "collapsed": false,
    "scrolled": true
   },
   "outputs": [],
   "source": [
    "df.to_csv(path+'06_DataFinal.csv')"
   ]
  },
  {
   "cell_type": "code",
   "execution_count": null,
   "metadata": {
    "collapsed": false,
    "scrolled": true
   },
   "outputs": [],
   "source": []
  }
 ],
 "metadata": {
  "kernelspec": {
   "display_name": "Python 2",
   "language": "python",
   "name": "python2"
  },
  "language_info": {
   "codemirror_mode": {
    "name": "ipython",
    "version": 2
   },
   "file_extension": ".py",
   "mimetype": "text/x-python",
   "name": "python",
   "nbconvert_exporter": "python",
   "pygments_lexer": "ipython2",
   "version": "2.7.11"
  }
 },
 "nbformat": 4,
 "nbformat_minor": 0
}
