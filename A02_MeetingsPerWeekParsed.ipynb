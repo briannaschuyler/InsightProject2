{
 "cells": [
  {
   "cell_type": "markdown",
   "metadata": {},
   "source": [
    "# Script to calculate Meetings Per Week in Different Ways"
   ]
  },
  {
   "cell_type": "markdown",
   "metadata": {
    "collapsed": true
   },
   "source": [
    "This code will look at and parse the meetings data in different ways (like by number of attendees.)"
   ]
  },
  {
   "cell_type": "code",
   "execution_count": null,
   "metadata": {
    "collapsed": false
   },
   "outputs": [],
   "source": [
    "import pandas as pd\n",
    "from datetime import datetime, timedelta # to manipulate dates\n",
    "import time # to deal with meeting times\n",
    "import matplotlib.pyplot as plt\n",
    "% matplotlib inline\n",
    "\n",
    "from makeWeekList import makeWeekList\n",
    "\n",
    "path='/Users/brianna/Documents/WL_DBdeets/'"
   ]
  },
  {
   "cell_type": "markdown",
   "metadata": {},
   "source": [
    "# Make a new dataframe with summary statistics for each unique user.\n"
   ]
  },
  {
   "cell_type": "raw",
   "metadata": {},
   "source": [
    "New Variables:\n",
    " - number of meetings\n",
    " - average number of attendees per meeting\n",
    " - proportion meetings where user is the organizer, \n",
    " - total number of meetings where user is the organizer\n",
    "Calculate the variables above for both all meetings and only meetings with 3+ attendees."
   ]
  },
  {
   "cell_type": "code",
   "execution_count": null,
   "metadata": {
    "collapsed": false
   },
   "outputs": [],
   "source": [
    "def add_columns(df):\n",
    "    # Make a column of ones that you can use to sum the number of different types of meetings.\n",
    "    df['MeetingsTotal']=1\n",
    "    df['organizerTotal']=0\n",
    "\n",
    "    # Binarize the organizer variable to count how often the person organizes\n",
    "    df.organizerTotal[df.organizer == True]= 1\n",
    "\n",
    "    # Calculate the length of each meeting\n",
    "    df['meetingLength'] = 'PLACEHOLDER'\n",
    "    \n",
    "    return allEvts"
   ]
  },
  {
   "cell_type": "markdown",
   "metadata": {},
   "source": [
    "### Add columns to numMeetings with different variables about the meetings for each user"
   ]
  },
  {
   "cell_type": "code",
   "execution_count": null,
   "metadata": {
    "collapsed": false
   },
   "outputs": [],
   "source": [
    "def getStatsDF(df):\n",
    "    # Sum together rows grouped by user_id (will give how many rows of each user there are)\n",
    "    byUser = df.groupby(['user_id']).sum()\n",
    "    byUser['AveNumAttendees']=byUser.num_attendees/byUser.MeetingsTotal\n",
    "    byUser['PortionOfOrganizer']=byUser.organizerTotal/byUser.MeetingsTotal\n",
    "    #df_allmtngs.to_csv(path+str(start_date)+'to'+str(end_date)+'Evnts_byEvnt.csv')\n",
    "    #byUser.head(10)\n",
    "    return byUser"
   ]
  },
  {
   "cell_type": "markdown",
   "metadata": {},
   "source": [
    "\n",
    "# Loop through each week to get meeting stats for that week."
   ]
  },
  {
   "cell_type": "code",
   "execution_count": null,
   "metadata": {
    "collapsed": false
   },
   "outputs": [],
   "source": [
    "# Make a list of the weeks between 2015-05-24 and now.\n",
    "start_date = '2015-05-24'; end_date = '2016-01-26'\n",
    "weekList, weekStringList = makeWeekList(start_date, end_date)"
   ]
  },
  {
   "cell_type": "code",
   "execution_count": null,
   "metadata": {
    "collapsed": false
   },
   "outputs": [],
   "source": [
    "for w in range(len(weekList)):\n",
    "    date_start=str(weekList[w]).split(' ')[0]\n",
    "    date_end = weekList[w] + timedelta(days=7)\n",
    "    date_end=str(date_end).split(' ')[0]\n",
    "\n",
    "    try:\n",
    "        allEvts = pd.read_csv(path+str(date_start)+' 00:00:00to'+str(date_end)+' 00:00:00Evnts_byEvnt.csv')\n",
    "        allEvts = add_columns(allEvts)\n",
    "        #allEvts = deleteBinaryColumns(allEvts)\n",
    "        byUser = getStatsDF(allEvts)\n",
    "\n",
    "        # Save the meetings data for this week as a csv file\n",
    "        byUser.to_csv(path+str(date_start)+'to'+str(date_end)+'EvntsCollapsedByUser.csv')\n",
    "    except:\n",
    "        pass"
   ]
  }
 ],
 "metadata": {
  "kernelspec": {
   "display_name": "Python 2",
   "language": "python",
   "name": "python2"
  },
  "language_info": {
   "codemirror_mode": {
    "name": "ipython",
    "version": 2
   },
   "file_extension": ".py",
   "mimetype": "text/x-python",
   "name": "python",
   "nbconvert_exporter": "python",
   "pygments_lexer": "ipython2",
   "version": "2.7.11"
  }
 },
 "nbformat": 4,
 "nbformat_minor": 0
}
