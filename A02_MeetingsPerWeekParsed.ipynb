{
 "cells": [
  {
   "cell_type": "markdown",
   "metadata": {},
   "source": [
    "# Script to calculate Meetings Per Week in Different Ways"
   ]
  },
  {
   "cell_type": "markdown",
   "metadata": {
    "collapsed": true
   },
   "source": [
    "This code will look at and parse the meetings data in different ways (like by number of attendees.)"
   ]
  },
  {
   "cell_type": "code",
   "execution_count": 11,
   "metadata": {
    "collapsed": true
   },
   "outputs": [],
   "source": [
    "import pandas as pd\n",
    "from datetime import datetime, timedelta # to manipulate dates\n",
    "import time # to deal with meeting times\n",
    "import matplotlib.pyplot as plt\n",
    "% matplotlib inline\n",
    "\n",
    "path='/Users/brianna/Documents/WL_DBdeets/'"
   ]
  },
  {
   "cell_type": "markdown",
   "metadata": {},
   "source": [
    "# Make a new dataframe with summary statistics for each unique user.\n"
   ]
  },
  {
   "cell_type": "raw",
   "metadata": {},
   "source": [
    "New Variables:\n",
    " - number of meetings\n",
    " - average number of attendees per meeting\n",
    " - proportion meetings where user is the organizer, \n",
    " - total number of meetings where user is the organizer\n",
    "Calculate the variables above for both all meetings and only meetings with 3+ attendees."
   ]
  },
  {
   "cell_type": "code",
   "execution_count": 12,
   "metadata": {
    "collapsed": false
   },
   "outputs": [],
   "source": [
    "def add_columns(df):\n",
    "    # Make a column of ones that you can use to sum the number of different types of meetings.\n",
    "    df['MeetingsTotal']=1\n",
    "    df['organizerTotal']=0\n",
    "\n",
    "    # Binarize the organizer variable to count how often the person organizes\n",
    "    df.organizerTotal[df.organizer == True]= 1\n",
    "\n",
    "    # Calculate the length of each meeting\n",
    "    df['meetingLength'] = 'PLACEHOLDER'\n",
    "    \n",
    "    return allEvts"
   ]
  },
  {
   "cell_type": "code",
   "execution_count": 13,
   "metadata": {
    "collapsed": true
   },
   "outputs": [],
   "source": [
    "# Remove last 6 characters from date strings so we can use strptime() and calculate \n",
    "# meeting lengths\n",
    "# def split_string(date_string):\n",
    "#     return date_string.split('+')[0]\n",
    "\n",
    "# allEvts['meeting_start'] = allEvts.meeting_start.apply(lambda x : split_string(x))\n",
    "# allEvts['meeting_end'] = allEvts.meeting_end.apply(lambda x : split_string(x))\n",
    "\n",
    "#allEvts.head(10)"
   ]
  },
  {
   "cell_type": "code",
   "execution_count": 14,
   "metadata": {
    "collapsed": false
   },
   "outputs": [],
   "source": [
    "# def subtract_dates(df):\n",
    "#     print(time.strptime(df.meeting_end, \"%Y-%m-%d %H:%M:%S\"))\n",
    "#     meetingLength = time.strptime(df.meeting_end, \"%Y-%m-%d %H:%M:%S\") - time.strptime(df.meeting_start, \"%Y-%m-%d %H:%M:%S\")\n",
    "    #return meetingLength\n",
    "\n",
    "#print(allEvts.meeting_end[0])\n",
    "#print(time.strptime(allEvts.meeting_end[0], \"%Y-%m-%d %H:%M:%S\"))\n",
    "#start = time.strptime(allEvts.meeting_start[0], \"%Y-%m-%d %H:%M:%S\")\n",
    "#end = time.strptime(allEvts.meeting_end[0], \"%Y-%m-%d %H:%M:%S\")\n",
    "#start = datetime.datetime(allEvts.meeting_start[0]).to_seconds()\n",
    "#end = datetime.datetime(allEvts.meeting_end[0]).to_seconds()\n",
    "#x = end - start \n",
    "\n",
    "#subtract_dates(df[0])\n",
    "#allEvts['meetingLength'] = allEvts.apply(lambda x : subtract_dates(x), axis=1)"
   ]
  },
  {
   "cell_type": "markdown",
   "metadata": {},
   "source": [
    "### Add columns to numMeetings with different variables about the meetings for each user"
   ]
  },
  {
   "cell_type": "code",
   "execution_count": 15,
   "metadata": {
    "collapsed": false
   },
   "outputs": [],
   "source": [
    "#def deleteBinaryColumns(df):\n",
    "#    del df['MeetingsBinary']\n",
    "#    del df['organizerBinary']\n",
    "#    return df"
   ]
  },
  {
   "cell_type": "code",
   "execution_count": 16,
   "metadata": {
    "collapsed": false
   },
   "outputs": [],
   "source": [
    "def getStatsDF(df):\n",
    "    # Sum together rows grouped by user_id (will give how many rows of each user there are)\n",
    "    byUser = df.groupby(['user_id']).sum()\n",
    "    byUser['AveNumAttendees']=byUser.num_attendees/byUser.MeetingsTotal\n",
    "    byUser['PortionOfOrganizer']=byUser.organizerTotal/byUser.MeetingsTotal\n",
    "    #df_allmtngs.to_csv(path+str(start_date)+'to'+str(end_date)+'Evnts_byEvnt.csv')\n",
    "    #byUser.head(10)\n",
    "    return byUser"
   ]
  },
  {
   "cell_type": "markdown",
   "metadata": {},
   "source": [
    "\n",
    "# Loop through each week to get meeting stats for that week."
   ]
  },
  {
   "cell_type": "code",
   "execution_count": 17,
   "metadata": {
    "collapsed": true
   },
   "outputs": [],
   "source": [
    "# Make a list of the weeks between 2015-05-24 and now.\n",
    "weekList = []\n",
    "date_start = datetime.strptime('2015-05-24', \"%Y-%m-%d\")\n",
    "current_date = datetime.now()\n",
    "\n",
    "while date_start < current_date + timedelta(days=7):\n",
    "    weekList.append(date_start)\n",
    "    date_start += timedelta(days=7)\n",
    "\n",
    "# Make an identical list but filled with the string version of the variable instead of the \n",
    "# datetime version.  (We have to use the [:] notation or else both variable names point to\n",
    "# the same object.)\n",
    "\n",
    "weekStringList=weekList[:]\n",
    "for w in range(len(weekStringList)):\n",
    "    weekStringList[w]=str(weekStringList[w]).split(' ')[0]\n",
    "\n",
    "#print(weekList)\n",
    "#print(weekStringList)"
   ]
  },
  {
   "cell_type": "code",
   "execution_count": 30,
   "metadata": {
    "collapsed": false
   },
   "outputs": [
    {
     "name": "stderr",
     "output_type": "stream",
     "text": [
      "/anaconda/lib/python2.7/site-packages/ipykernel/__main__.py:7: SettingWithCopyWarning: \n",
      "A value is trying to be set on a copy of a slice from a DataFrame\n",
      "\n",
      "See the caveats in the documentation: http://pandas.pydata.org/pandas-docs/stable/indexing.html#indexing-view-versus-copy\n"
     ]
    }
   ],
   "source": [
    "for w in range(len(weekList)):\n",
    "    date_start=str(weekList[w]).split(' ')[0]\n",
    "    date_end = weekList[w] + timedelta(days=7)\n",
    "    date_end=str(date_end).split(' ')[0]\n",
    "\n",
    "    try:\n",
    "        allEvts = pd.read_csv(path+str(date_start)+' 00:00:00to'+str(date_end)+' 00:00:00Evnts_byEvnt.csv')\n",
    "        allEvts = add_columns(allEvts)\n",
    "        #allEvts = deleteBinaryColumns(allEvts)\n",
    "        byUser = getStatsDF(allEvts)\n",
    "\n",
    "        # Save the meetings data for this week as a csv file\n",
    "        byUser.to_csv(path+str(date_start)+'to'+str(date_end)+'EvntsCollapsedByUser.csv')\n",
    "    except:\n",
    "        pass"
   ]
  }
 ],
 "metadata": {
  "kernelspec": {
   "display_name": "Python 2",
   "language": "python",
   "name": "python2"
  },
  "language_info": {
   "codemirror_mode": {
    "name": "ipython",
    "version": 2
   },
   "file_extension": ".py",
   "mimetype": "text/x-python",
   "name": "python",
   "nbconvert_exporter": "python",
   "pygments_lexer": "ipython2",
   "version": "2.7.11"
  }
 },
 "nbformat": 4,
 "nbformat_minor": 0
}
