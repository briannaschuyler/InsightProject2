{
 "cells": [
  {
   "cell_type": "markdown",
   "metadata": {},
   "source": [
    "# Script to access SQL and start to play with data"
   ]
  },
  {
   "cell_type": "markdown",
   "metadata": {
    "collapsed": true
   },
   "source": [
    "This code will access data for my company from their space on a RedShift cluster so that I can analyze it and look for patterns to predict both retention (who sticks around) and virality (who is more likely to get other people to use the program)."
   ]
  },
  {
   "cell_type": "code",
   "execution_count": null,
   "metadata": {
    "collapsed": true
   },
   "outputs": [],
   "source": [
    "## Python packages - you may have to pip install sqlalchemy, sqlalchemy_utils, and psycopg2.\n",
    "from sqlalchemy import create_engine\n",
    "from sqlalchemy_utils import database_exists, create_database\n",
    "import psycopg2\n",
    "import pandas as pd\n",
    "\n",
    "import re # to access database details in a file\n",
    "import matplotlib.pyplot as plt\n",
    "from datetime import datetime # to manipulate dates\n",
    "\n",
    "% matplotlib inline"
   ]
  },
  {
   "cell_type": "code",
   "execution_count": null,
   "metadata": {
    "collapsed": true
   },
   "outputs": [],
   "source": [
    "path='/Users/brianna/Dropbox/Insight/WorkLife/WL_project/'"
   ]
  },
  {
   "cell_type": "markdown",
   "metadata": {},
   "source": [
    "### Make a function to access each database"
   ]
  },
  {
   "cell_type": "markdown",
   "metadata": {},
   "source": [
    "To keep the access details secure, keep them in a separate file that will remain private, even when the code is shared."
   ]
  },
  {
   "cell_type": "code",
   "execution_count": null,
   "metadata": {
    "collapsed": false
   },
   "outputs": [],
   "source": [
    "def connect_db(which_db):\n",
    "    # Grab the details from a text file for how to access the database\n",
    "    db_file = open(path+which_db+'DBdeets.txt','r')\n",
    "    db_deets = db_file.read()\n",
    "\n",
    "    dbname=re.findall('dbname=(\\S+)',db_deets)\n",
    "    username=re.findall('username=(\\S+)',db_deets)\n",
    "    hostname=re.findall('hostname=(\\S+)',db_deets)\n",
    "    portname=re.findall('portname=(\\S+)',db_deets)\n",
    "    pw=re.findall('pw=(\\S+)',db_deets)\n",
    "    \n",
    "    # Connect to the database.  (If you can't, jump out and give a polite notice!)\n",
    "    con = None\n",
    "    try:\n",
    "        con = psycopg2.connect(database = dbname[0], \n",
    "                               user = username[0], \n",
    "                               host = hostname[0], \n",
    "                               port = portname[0], \n",
    "                               password = pw[0])\n",
    "        # Set up a cursor.  (Anytime you get an error with the cursor, you have to reset the \n",
    "        # connection with it)\n",
    "        cur=con.cursor()\n",
    "        print('I connected to the '+which_db+' database!!')\n",
    "    except:\n",
    "        print('Unable to connect to '+which_db+' database :(')\n",
    "    \n",
    "    db_file.close()\n",
    "    \n",
    "    return  con, cur"
   ]
  },
  {
   "cell_type": "markdown",
   "metadata": {},
   "source": [
    "### Open the two databases where data are stored."
   ]
  },
  {
   "cell_type": "markdown",
   "metadata": {},
   "source": [
    "The 'events' database has a main table called 'events131567', which has a bunch of sub-tables with information on the events completed by the user.\n",
    "\n",
    "The 'transactions' database has a bunch of tables with data about the user:\n",
    "pg_stat_statements,\n",
    "activities,\n",
    "agenda_templates,\n",
    "calendar_webhooks,\n",
    "calendars,\n",
    "contacts,\n",
    "integration_authorizations,\n",
    "integration_providers,\n",
    "integrations,\n",
    "meeting_seeds,\n",
    "migrations,\n",
    "notifications,\n",
    "password_reset_tokens,\n",
    "meetings,\n",
    "short_urls,\n",
    "team_invitations,\n",
    "team_memberships,\n",
    "teams,\n",
    "users,\n",
    "events,\n",
    "items,\n",
    "recurring_event_rules,\n",
    "meeting_invitations\n"
   ]
  },
  {
   "cell_type": "code",
   "execution_count": null,
   "metadata": {
    "collapsed": false
   },
   "outputs": [],
   "source": [
    "# Access the 'events' database.\n",
    "conE, curE = connect_db('evnt')\n",
    "\n",
    "# Access the 'transactions' database.\n",
    "conT, curT = connect_db('trns')\n"
   ]
  },
  {
   "cell_type": "code",
   "execution_count": null,
   "metadata": {
    "collapsed": false
   },
   "outputs": [],
   "source": [
    "# People from companies viewing a meeting details page by week\n",
    "# event data\n",
    "\n",
    "# Select 2 columns of data (date, number of unique users)\n",
    "# from the table which holds data from events where people viewed the meeting_details\n",
    "# page.  Then group the data by week.\n",
    "\n",
    "sql_query=\"\"\"\n",
    "select \n",
    "    date_trunc('week', event_time)::date as week,\n",
    "    count(distinct user_id) as users\n",
    "from app131567.viewed_meeting_details_page\n",
    "group by date_trunc('week', event_time)::date\n",
    "order by week asc\n",
    "\"\"\"\n",
    "\n",
    "query_result = pd.read_sql_query(sql_query,conE)\n",
    "\n",
    "df = query_result.iloc[:]"
   ]
  },
  {
   "cell_type": "code",
   "execution_count": null,
   "metadata": {
    "collapsed": false
   },
   "outputs": [],
   "source": [
    "df.head()"
   ]
  },
  {
   "cell_type": "code",
   "execution_count": null,
   "metadata": {
    "collapsed": false
   },
   "outputs": [],
   "source": [
    "date_cutoff = datetime.strptime('2015-08-02', '%Y-%m-%d').date()\n",
    "\n",
    "xlabel='Week'\n",
    "ylabel='Number of Users logged in (at least once)'\n",
    "plt.figure(figsize=(20,10))\n",
    "plt.xlabel(xlabel, fontsize=25)\n",
    "plt.ylabel(ylabel, fontsize=25)\n",
    "\n",
    "# histogram of count of weeks\n",
    "#df.groupby('week').size().plot(kind='bar')\n",
    "\n",
    "plt.plot(df.week[df.week > date_cutoff], df.users[df.week > date_cutoff])\n",
    "plt.plot(df.week, df.users)\n",
    "#plt.scatter(query_result.iloc[:]['users'], query_result.iloc[:]['events'], color=\"red\")\n",
    "#plt.scatter(df.users[df.users < 500], df.events[df.users < 500], color=\"red\")\n",
    "#plt.scatter(df.users[df.users < 100], df.events[df.users < 100], color=\"red\")\n",
    "#plt.scatter(df.users[df.users > 1500], df.events[df.users > 1500], color=\"red\")\n",
    "#plt.scatter(df.users, df.events, color=\"red\")\n",
    "\n",
    "plt.savefig(path+xlabel+'BY'+ylabel+'.png')\n"
   ]
  },
  {
   "cell_type": "code",
   "execution_count": null,
   "metadata": {
    "collapsed": true
   },
   "outputs": [],
   "source": []
  },
  {
   "cell_type": "code",
   "execution_count": null,
   "metadata": {
    "collapsed": true
   },
   "outputs": [],
   "source": [
    "# Trailing 7 day calendar events for a specific user id\n",
    "\n",
    "# sql_query=\"\"\"\n",
    "# select c.user_id, c.source_id, c.type, c.active, c.title, e.* \n",
    "# from calendars c, events e\n",
    "# where c.id = e.calendar_id\n",
    "# and c.user_id = '54d14f9453832673fdd7c29c'\n",
    "# and lower(time_range) between (current_date - INTERVAL '7 days') and current_date\n",
    "# \"\"\"\n",
    "\n",
    "# calendars variables:\n",
    "# id, type, source_id, active, raw, created_at, updated_at, sync, legacy, last_event_sync_at, last_calendar_sync_at,\n",
    "# deleted_at, user_id, needs_sync, integration_id, title\n",
    "\n",
    "# event variables:\n",
    "# id, type, source_id, calendar_id, raw, created_at, updated_at, time_range, legacy, ignored, title, location, \n",
    "# source_url, attendees, global_id, recurring_event_id\n",
    "\n",
    "sql_query=\"\"\"\n",
    "select e.*\n",
    "from calendars c, events e\n",
    "where c.id = e.calendar_id\n",
    "and c.user_id = '54d14f9453832673fdd7c29c'\n",
    "and lower(time_range) between (current_date - INTERVAL '7 days') and current_date\n",
    "\"\"\"\n",
    "\n",
    "query_result = pd.read_sql_query(sql_query,conT)"
   ]
  },
  {
   "cell_type": "code",
   "execution_count": null,
   "metadata": {
    "collapsed": false
   },
   "outputs": [],
   "source": [
    "query_result.iloc[1]"
   ]
  },
  {
   "cell_type": "code",
   "execution_count": null,
   "metadata": {
    "collapsed": false
   },
   "outputs": [],
   "source": [
    "query_result.iloc[:]['source_id']"
   ]
  },
  {
   "cell_type": "code",
   "execution_count": null,
   "metadata": {
    "collapsed": false
   },
   "outputs": [],
   "source": []
  },
  {
   "cell_type": "code",
   "execution_count": null,
   "metadata": {
    "collapsed": true
   },
   "outputs": [],
   "source": []
  }
 ],
 "metadata": {
  "kernelspec": {
   "display_name": "Python 2",
   "language": "python",
   "name": "python2"
  },
  "language_info": {
   "codemirror_mode": {
    "name": "ipython",
    "version": 2
   },
   "file_extension": ".py",
   "mimetype": "text/x-python",
   "name": "python",
   "nbconvert_exporter": "python",
   "pygments_lexer": "ipython2",
   "version": "2.7.11"
  }
 },
 "nbformat": 4,
 "nbformat_minor": 0
}
