{
 "cells": [
  {
   "cell_type": "code",
   "execution_count": null,
   "metadata": {
    "collapsed": true,
    "scrolled": true
   },
   "outputs": [],
   "source": [
    "## Python packages - you may have to pip install sqlalchemy, sqlalchemy_utils, and psycopg2.\n",
    "from sqlalchemy import create_engine\n",
    "from sqlalchemy_utils import database_exists, create_database\n",
    "import psycopg2\n",
    "import pandas as pd\n",
    "\n",
    "import re # to access database details in a file\n",
    "import time # to time how long queries and processes take\n",
    "import matplotlib.pyplot as plt\n",
    "from datetime import datetime # to manipulate dates\n",
    "\n",
    "% matplotlib inline"
   ]
  },
  {
   "cell_type": "code",
   "execution_count": null,
   "metadata": {
    "collapsed": true,
    "scrolled": true
   },
   "outputs": [],
   "source": [
    "path='/Users/brianna/Dropbox/Insight/WorkLife/WL_project/'"
   ]
  },
  {
   "cell_type": "code",
   "execution_count": null,
   "metadata": {
    "collapsed": true,
    "scrolled": true
   },
   "outputs": [],
   "source": [
    "def connect_db(which_db):\n",
    "    # Grab the details from a text file for how to access the database\n",
    "    db_file = open(path+which_db+'DBdeets.txt','r')\n",
    "    db_deets = db_file.read()\n",
    "\n",
    "    dbname=re.findall('dbname=(\\S+)',db_deets)\n",
    "    username=re.findall('username=(\\S+)',db_deets)\n",
    "    hostname=re.findall('hostname=(\\S+)',db_deets)\n",
    "    portname=re.findall('portname=(\\S+)',db_deets)\n",
    "    pw=re.findall('pw=(\\S+)',db_deets)\n",
    "    \n",
    "    # Connect to the database.  (If you can't, jump out and give a polite notice!)\n",
    "    con = None\n",
    "    try:\n",
    "        con = psycopg2.connect(database = dbname[0], \n",
    "                               user = username[0], \n",
    "                               host = hostname[0], \n",
    "                               port = portname[0], \n",
    "                               password = pw[0])\n",
    "        # Set up a cursor.  (Anytime you get an error with the cursor, you have to reset the \n",
    "        # connection with it)\n",
    "        cur=con.cursor()\n",
    "        print('I connected to the '+which_db+' database!!')\n",
    "    except:\n",
    "        print('Unable to connect to '+which_db+' database :(')\n",
    "    \n",
    "    db_file.close()\n",
    "    \n",
    "    return  con, cur"
   ]
  },
  {
   "cell_type": "code",
   "execution_count": null,
   "metadata": {
    "collapsed": false,
    "scrolled": true
   },
   "outputs": [],
   "source": [
    "# Access the 'events' database.\n",
    "conE, curE = connect_db('evnt')\n",
    "\n",
    "# Access the 'transactions' database.\n",
    "conT, curT = connect_db('trns')"
   ]
  },
  {
   "cell_type": "markdown",
   "metadata": {},
   "source": [
    "# Snippets of code are below..."
   ]
  },
  {
   "cell_type": "code",
   "execution_count": null,
   "metadata": {
    "collapsed": false,
    "scrolled": true
   },
   "outputs": [],
   "source": [
    "# List tables in the Transactional (Production) database 'dd8dik067j3tun'\n",
    "\n",
    "# All tables are prefixed with app131567\n",
    "# To break out events by type of person, look at user properties\n",
    "\n",
    "# Retention analysis: cohort retention analysis, look for sql examples online\n",
    "# Define a cohort as people who did a certain action or behavior\n",
    "# 90%  of people that signed up viewed internal page in the first week\n",
    "# Look at weekly retention (how many people viewed an internal page in the following weeks after signing up)\n",
    "# 30% is good for growing company, facebook has 50%, WL wants at least 20%\n",
    "# Group by user property (like browser) then look at retention by browser\n",
    "\n",
    "# How many meetings in a given week?  (Event on calendar with 2+ people)\n",
    "\n",
    "curT.execute(\"\"\"SELECT table_name FROM information_schema.tables\n",
    "       WHERE table_schema = 'public'\"\"\")\n",
    "\n",
    "for table in curT.fetchall():\n",
    "    print(table[0])"
   ]
  },
  {
   "cell_type": "code",
   "execution_count": null,
   "metadata": {
    "collapsed": false,
    "scrolled": true
   },
   "outputs": [],
   "source": [
    "# Find out the fields within calendar\n",
    "curT.execute(\"\"\"select column_name from information_schema.columns where\n",
    "table_name='calendars';\"\"\")\n",
    "    \n",
    "for column in curT.fetchall():\n",
    "    print(column[0])"
   ]
  },
  {
   "cell_type": "code",
   "execution_count": null,
   "metadata": {
    "collapsed": false,
    "scrolled": true
   },
   "outputs": [],
   "source": [
    "# Find out the fields within calendar\n",
    "curT.execute(\"\"\"select column_name from information_schema.columns where\n",
    "table_name='events';\"\"\")\n",
    "    \n",
    "for column in curT.fetchall():\n",
    "    print(column[0])"
   ]
  },
  {
   "cell_type": "code",
   "execution_count": null,
   "metadata": {
    "collapsed": false,
    "scrolled": true
   },
   "outputs": [],
   "source": [
    "# Find out the fields within calendar\n",
    "curT.execute(\"\"\"select column_name from information_schema.columns where\n",
    "table_name='users';\"\"\")\n",
    "    \n",
    "for column in curT.fetchall():\n",
    "    print(column[0])"
   ]
  },
  {
   "cell_type": "code",
   "execution_count": null,
   "metadata": {
    "collapsed": false,
    "scrolled": true
   },
   "outputs": [],
   "source": [
    "# Let's look at title, time_range, and user_id for events within the past 7 days\n",
    "\n",
    "starttime=time.time()\n",
    "\n",
    "sql_query=\"\"\"\n",
    "select c.user_id, u.primary_email, e.title, lower(e.time_range) meeting_start, e.attendees\n",
    "from users u\n",
    "join \n",
    "    calendars c\n",
    "on\n",
    "    u.id = c.user_id\n",
    "left outer join \n",
    "    events e \n",
    "on \n",
    "    e.calendar_id = c.id\n",
    "where lower(e.time_range) between (current_date - INTERVAL '7 days') and current_date\n",
    "and json_array_length(e.attendees) > 0\n",
    "\"\"\"\n",
    "\n",
    "query_result = pd.read_sql_query(sql_query,conT)\n",
    "\n",
    "print(time.time()-starttime)"
   ]
  },
  {
   "cell_type": "code",
   "execution_count": null,
   "metadata": {
    "collapsed": false,
    "scrolled": true
   },
   "outputs": [],
   "source": [
    "df_allevts=query_result.iloc[:]\n",
    "df_allevts.columns"
   ]
  },
  {
   "cell_type": "code",
   "execution_count": null,
   "metadata": {
    "collapsed": false,
    "scrolled": true
   },
   "outputs": [],
   "source": [
    "print(len(df_allevts[:]['user_id'].unique()))\n",
    "print(len(df_allevts[:]['primary_email'].unique()))\n",
    "print(len(df_allevts[:]['primary_email']))\n",
    "\n",
    "df_allevts[1:10]['primary_email']\n",
    "df_allevts[1:10]['title']"
   ]
  },
  {
   "cell_type": "code",
   "execution_count": null,
   "metadata": {
    "collapsed": true,
    "scrolled": true
   },
   "outputs": [],
   "source": [
    "# Add a column to the dataframe that shows how many attendees were at each event.\n",
    "# We'll define meetings as only the events\n",
    "\n",
    "df_allevts.num_attendees = df_allevts.attendees.apply(lambda x : len(x))\n",
    "\n"
   ]
  },
  {
   "cell_type": "code",
   "execution_count": null,
   "metadata": {
    "collapsed": false,
    "scrolled": true
   },
   "outputs": [],
   "source": [
    "df_allevts.num_attendees.head()"
   ]
  },
  {
   "cell_type": "code",
   "execution_count": null,
   "metadata": {
    "collapsed": false,
    "scrolled": true
   },
   "outputs": [],
   "source": [
    "# Make a dataframe that's a subset of the original, with only the rows where the event is a meeting\n",
    "# (Meeting is defined as an event with more than one person attending)\n",
    "df = df_allevts[df_allevts.num_attendees > 1]\n",
    "\n",
    "print(len(df[:]['primary_email'].unique()))\n",
    "print(len(df[:]['primary_email']))\n"
   ]
  },
  {
   "cell_type": "code",
   "execution_count": null,
   "metadata": {
    "collapsed": true,
    "scrolled": true
   },
   "outputs": [],
   "source": [
    "# Ok, this is just to keep the dataframe that I made with all of the individual events per \n",
    "# person (before I subset into meetings with other people.)\n",
    "events = meetings\n"
   ]
  },
  {
   "cell_type": "code",
   "execution_count": null,
   "metadata": {
    "collapsed": false,
    "scrolled": true
   },
   "outputs": [],
   "source": [
    "# Find the number of meetings that each user has had in the amount of time specified in the SQL query\n",
    "# First just do a groupby command over a subset of the data\n",
    "print(df_allevts.columns)\n",
    "print(df.columns)\n",
    "df.groupby(['user_id']).agg(['meeting_start'])\n",
    "#df[['user_id', 'num_attendees']].groupby(['user_id']).agg(['num_attendees'])"
   ]
  },
  {
   "cell_type": "code",
   "execution_count": null,
   "metadata": {
    "collapsed": false,
    "scrolled": true
   },
   "outputs": [],
   "source": [
    "# Make a dict of user_id paired with number of meetings\n",
    "\n",
    "#meeting_count = dict()\n",
    "meeting_count = pd.DataFrame(columns=['user_id', 'num_meetings'])\n",
    "\n",
    "i=0\n",
    "for line in df.groupby('user_id'):\n",
    "#    meeting_count[line[0]] = len(line[1])\n",
    "    #meeting_count.user_id[i]=line[0]\n",
    "    #meeting_count.num_meetings[i]=len(line[1])\n",
    "    if i < 1:\n",
    "        print(line)\n",
    "    i +=1"
   ]
  },
  {
   "cell_type": "code",
   "execution_count": null,
   "metadata": {
    "collapsed": false,
    "scrolled": true
   },
   "outputs": [],
   "source": [
    "df.groupby('user_id')"
   ]
  },
  {
   "cell_type": "code",
   "execution_count": null,
   "metadata": {
    "collapsed": false,
    "scrolled": true
   },
   "outputs": [],
   "source": [
    "x = df.groupby('user_id')\n",
    "type(x)\n",
    "\n",
    "df.groupby('').size().plot(kind='bar')"
   ]
  },
  {
   "cell_type": "code",
   "execution_count": null,
   "metadata": {
    "collapsed": false,
    "scrolled": true
   },
   "outputs": [],
   "source": [
    "for user in meetings.user_id:\n",
    "    #print(user)\n",
    "    meetings.num_meetings[meetings.user_id == user]=len(df[df['user_id'] == user])\n",
    "    \n",
    "#print(time.time()-starttime)\n",
    "#meetings.head"
   ]
  },
  {
   "cell_type": "code",
   "execution_count": null,
   "metadata": {
    "collapsed": false,
    "scrolled": true
   },
   "outputs": [],
   "source": [
    "plt.figure(figsize=(20,10))\n",
    "#plt.legend('Number of attendees at each meeting (people that signed up in the past 1 day)', fontsize=25)\n",
    "\n",
    "meetings.groupby('num_meetings').size().plot(kind='bar')\n",
    "plt.savefig('NumberOfMeetingsInPastWeekAllUsers.png')"
   ]
  },
  {
   "cell_type": "code",
   "execution_count": null,
   "metadata": {
    "collapsed": false,
    "scrolled": false
   },
   "outputs": [],
   "source": [
    "# All calendar events for users registering in past 7 days\n",
    "# (This takes a few minutes to run)\n",
    "\n",
    "sql_query=\"\"\"\n",
    "select u.primary_email, c.user_id, c.source_id, c.type, c.active, c.title, \n",
    "json_array_length(e.attendees) attendee_count, e.time_range, e.title\n",
    "from users u\n",
    "join     \n",
    "    calendars c\n",
    "on     \n",
    "    u.id = c.user_id\n",
    "left outer join \n",
    "    events e \n",
    "on \n",
    "    e.calendar_id = c.id\n",
    "    and lower(e.time_range) between (current_date - INTERVAL '7 days') and current_date\n",
    "where u.id = c.user_id\n",
    "and u.created_at > current_date - INTERVAL '7 days'\n",
    "and json_array_length(e.attendees) > 0\n",
    "\"\"\"\n",
    "\n",
    "query_result = pd.read_sql_query(sql_query,conT)"
   ]
  },
  {
   "cell_type": "code",
   "execution_count": null,
   "metadata": {
    "collapsed": false,
    "scrolled": true
   },
   "outputs": [],
   "source": [
    "df=query_result.iloc[:]"
   ]
  },
  {
   "cell_type": "code",
   "execution_count": null,
   "metadata": {
    "collapsed": false,
    "scrolled": true
   },
   "outputs": [],
   "source": [
    "df.columns"
   ]
  },
  {
   "cell_type": "code",
   "execution_count": null,
   "metadata": {
    "collapsed": false,
    "scrolled": true
   },
   "outputs": [],
   "source": [
    "plt.figure(figsize=(20,10))\n",
    "#plt.legend('Number of attendees at each meeting (people that signed up in the past 1 day)', fontsize=25)\n",
    "\n",
    "df.groupby('attendee_count').size().plot(kind='bar')"
   ]
  },
  {
   "cell_type": "code",
   "execution_count": null,
   "metadata": {
    "collapsed": false,
    "scrolled": true
   },
   "outputs": [],
   "source": [
    "for time_range in query_result.iloc[1:5]['user_id']:\n",
    "    print(time_range)"
   ]
  },
  {
   "cell_type": "code",
   "execution_count": null,
   "metadata": {
    "collapsed": true,
    "scrolled": true
   },
   "outputs": [],
   "source": [
    "# People from companies viewing a meeting details page by week\n",
    "# event data\n",
    "\n",
    "# Select 4 columns of data (company, date, number of users, and number of events)\n",
    "# from the table which holds data from events where people viewed the meeting_details\n",
    "# page.  Then group the data by week and company name\n",
    "sql_query=\"\"\"\n",
    "select \n",
    "    u_company_name as company,\n",
    "    date_trunc('week', event_time)::date as week,\n",
    "    count(distinct user_id) as users, \n",
    "    count(*) as events\n",
    "from app131567.viewed_meeting_details_page\n",
    "group by date_trunc('week', event_time)::date, u_company_name\n",
    "order by company, week asc\n",
    "\"\"\"\n",
    "\n",
    "\n",
    "query_result = pd.read_sql_query(sql_query,conE)"
   ]
  },
  {
   "cell_type": "code",
   "execution_count": null,
   "metadata": {
    "collapsed": true,
    "scrolled": true
   },
   "outputs": [],
   "source": [
    "#plt.scatter(df.users[df.company=='15five.com'],df.events[df.company=='15five.com'] )\n"
   ]
  }
 ],
 "metadata": {
  "kernelspec": {
   "display_name": "Python 2",
   "language": "python",
   "name": "python2"
  },
  "language_info": {
   "codemirror_mode": {
    "name": "ipython",
    "version": 2
   },
   "file_extension": ".py",
   "mimetype": "text/x-python",
   "name": "python",
   "nbconvert_exporter": "python",
   "pygments_lexer": "ipython2",
   "version": "2.7.11"
  }
 },
 "nbformat": 4,
 "nbformat_minor": 0
}
