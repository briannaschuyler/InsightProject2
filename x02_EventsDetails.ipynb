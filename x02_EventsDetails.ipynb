{
 "cells": [
  {
   "cell_type": "code",
   "execution_count": 1,
   "metadata": {
    "collapsed": true,
    "scrolled": true
   },
   "outputs": [],
   "source": [
    "## Python packages - you may have to pip install sqlalchemy, sqlalchemy_utils, and psycopg2.\n",
    "from sqlalchemy import create_engine\n",
    "from sqlalchemy_utils import database_exists, create_database\n",
    "import psycopg2\n",
    "import pandas as pd\n",
    "\n",
    "import re # to access database details in a file\n",
    "import time # to time how long queries and processes take\n",
    "import matplotlib.pyplot as plt\n",
    "from datetime import datetime # to manipulate dates\n",
    "\n",
    "% matplotlib inline"
   ]
  },
  {
   "cell_type": "code",
   "execution_count": 2,
   "metadata": {
    "collapsed": true,
    "scrolled": true
   },
   "outputs": [],
   "source": [
    "path='/Users/brianna/Documents/WL_DBdeets/'"
   ]
  },
  {
   "cell_type": "code",
   "execution_count": 3,
   "metadata": {
    "collapsed": true,
    "scrolled": true
   },
   "outputs": [],
   "source": [
    "def connect_db(which_db):\n",
    "    # Grab the details from a text file for how to access the database\n",
    "    db_file = open(path+which_db+'DBdeets.txt','r')\n",
    "    db_deets = db_file.read()\n",
    "\n",
    "    dbname=re.findall('dbname=(\\S+)',db_deets)\n",
    "    username=re.findall('username=(\\S+)',db_deets)\n",
    "    hostname=re.findall('hostname=(\\S+)',db_deets)\n",
    "    portname=re.findall('portname=(\\S+)',db_deets)\n",
    "    pw=re.findall('pw=(\\S+)',db_deets)\n",
    "    \n",
    "    # Connect to the database.  (If you can't, jump out and give a polite notice!)\n",
    "    con = None\n",
    "    try:\n",
    "        con = psycopg2.connect(database = dbname[0], \n",
    "                               user = username[0], \n",
    "                               host = hostname[0], \n",
    "                               port = portname[0], \n",
    "                               password = pw[0])\n",
    "        # Set up a cursor.  (Anytime you get an error with the cursor, you have to reset the \n",
    "        # connection with it)\n",
    "        cur=con.cursor()\n",
    "        print('I connected to the '+which_db+' database!!')\n",
    "    except:\n",
    "        print('Unable to connect to '+which_db+' database :(')\n",
    "    \n",
    "    db_file.close()\n",
    "    \n",
    "    return  con, cur"
   ]
  },
  {
   "cell_type": "code",
   "execution_count": 4,
   "metadata": {
    "collapsed": false,
    "scrolled": true
   },
   "outputs": [
    {
     "name": "stdout",
     "output_type": "stream",
     "text": [
      "I connected to the evnt database!!\n",
      "I connected to the trns database!!\n"
     ]
    }
   ],
   "source": [
    "# Access the 'events' database.\n",
    "conE, curE = connect_db('evnt')\n",
    "\n",
    "# Access the 'transactions' database.\n",
    "conT, curT = connect_db('trns')"
   ]
  },
  {
   "cell_type": "markdown",
   "metadata": {},
   "source": [
    "# Snippets of code are below..."
   ]
  },
  {
   "cell_type": "markdown",
   "metadata": {},
   "source": [
    "- date joined\n",
    "- active each week (went to website at least once)"
   ]
  },
  {
   "cell_type": "code",
   "execution_count": 7,
   "metadata": {
    "collapsed": false,
    "scrolled": true
   },
   "outputs": [
    {
     "name": "stdout",
     "output_type": "stream",
     "text": [
      "events131567\n"
     ]
    }
   ],
   "source": [
    "# List tables in the Transactional (Production) database 'dd8dik067j3tun'\n",
    "\n",
    "# All tables are prefixed with app131567\n",
    "# To break out events by type of person, look at user properties\n",
    "\n",
    "# Retention analysis: cohort retention analysis, look for sql examples online\n",
    "# Define a cohort as people who did a certain action or behavior\n",
    "# 90%  of people that signed up viewed internal page in the first week\n",
    "# Look at weekly retention (how many people viewed an internal page in the following weeks after signing up)\n",
    "# 30% is good for growing company, facebook has 50%, WL wants at least 20%\n",
    "# Group by user property (like browser) then look at retention by browser\n",
    "\n",
    "# How many meetings in a given week?  (Event on calendar with 2+ people)\n",
    "\n",
    "curE.execute(\"\"\"SELECT table_name FROM information_schema.tables\n",
    "       WHERE table_schema = 'public'\"\"\")\n",
    "\n",
    "for table in curE.fetchall():\n",
    "    print(table[0])"
   ]
  },
  {
   "cell_type": "code",
   "execution_count": 18,
   "metadata": {
    "collapsed": false,
    "scrolled": true
   },
   "outputs": [
    {
     "name": "stdout",
     "output_type": "stream",
     "text": [
      "1.78513717651\n"
     ]
    }
   ],
   "source": [
    "# Make a list of everyone who's signed up (AKA had a sign-up event)\n",
    "\n",
    "starttime=time.time()\n",
    "\n",
    "sql_query=\"\"\"\n",
    "    select user_id, date_trunc('day',event_time)::DATE as reg_date, u_email\n",
    "    from app131567.signed_up\n",
    "\"\"\"\n",
    "\n",
    "query_result = pd.read_sql_query(sql_query,conE)\n",
    "\n",
    "print(time.time()-starttime)"
   ]
  },
  {
   "cell_type": "code",
   "execution_count": 24,
   "metadata": {
    "collapsed": false,
    "scrolled": true
   },
   "outputs": [
    {
     "name": "stdout",
     "output_type": "stream",
     "text": [
      "18072\n"
     ]
    },
    {
     "data": {
      "text/plain": [
       "17169"
      ]
     },
     "execution_count": 24,
     "metadata": {},
     "output_type": "execute_result"
    }
   ],
   "source": [
    "df_signups=query_result.iloc[:]\n",
    "\n",
    "#df_signups.head\n",
    "print(len(df_signups[:]['user_id']))\n",
    "len(df_signups[:]['user_id'].unique())"
   ]
  },
  {
   "cell_type": "code",
   "execution_count": 26,
   "metadata": {
    "collapsed": false,
    "scrolled": true
   },
   "outputs": [
    {
     "name": "stdout",
     "output_type": "stream",
     "text": [
      "1.53981208801\n"
     ]
    }
   ],
   "source": [
    "# Before we can save these data of when people signed up, we have to match with the user_id \n",
    "# of the transactional database.  I'll use the email addresses to make a key to combine the \n",
    "# user_id's from both databases.\n",
    "\n",
    "starttime=time.time()\n",
    "\n",
    "sql_query=\"\"\"\n",
    "select id, primary_email \n",
    "from users\n",
    "\"\"\"\n",
    "\n",
    "query_result = pd.read_sql_query(sql_query,conT)\n",
    "\n",
    "print(time.time()-starttime)"
   ]
  },
  {
   "cell_type": "code",
   "execution_count": 28,
   "metadata": {
    "collapsed": false,
    "scrolled": true
   },
   "outputs": [
    {
     "data": {
      "text/html": [
       "<div>\n",
       "<table border=\"1\" class=\"dataframe\">\n",
       "  <thead>\n",
       "    <tr style=\"text-align: right;\">\n",
       "      <th></th>\n",
       "      <th>id</th>\n",
       "      <th>primary_email</th>\n",
       "    </tr>\n",
       "  </thead>\n",
       "  <tbody>\n",
       "    <tr>\n",
       "      <th>0</th>\n",
       "      <td>5604a71bb5c22b4817201d27</td>\n",
       "      <td>chanel@ancientsongdoulaservices.com</td>\n",
       "    </tr>\n",
       "    <tr>\n",
       "      <th>1</th>\n",
       "      <td>55baceab95872f1da19e7609</td>\n",
       "      <td>julianduquej@gmail.com</td>\n",
       "    </tr>\n",
       "    <tr>\n",
       "      <th>2</th>\n",
       "      <td>555ab1bb681e8c2e4c569a4c</td>\n",
       "      <td>jon@generalsensing.com</td>\n",
       "    </tr>\n",
       "    <tr>\n",
       "      <th>3</th>\n",
       "      <td>561bad0f622164596e1f5823</td>\n",
       "      <td>lmfmouwe@avans.nl</td>\n",
       "    </tr>\n",
       "    <tr>\n",
       "      <th>4</th>\n",
       "      <td>55b2cf75ed78871c60a8abc4</td>\n",
       "      <td>erin@book-md.com</td>\n",
       "    </tr>\n",
       "  </tbody>\n",
       "</table>\n",
       "</div>"
      ],
      "text/plain": [
       "                         id                        primary_email\n",
       "0  5604a71bb5c22b4817201d27  chanel@ancientsongdoulaservices.com\n",
       "1  55baceab95872f1da19e7609               julianduquej@gmail.com\n",
       "2  555ab1bb681e8c2e4c569a4c               jon@generalsensing.com\n",
       "3  561bad0f622164596e1f5823                    lmfmouwe@avans.nl\n",
       "4  55b2cf75ed78871c60a8abc4                     erin@book-md.com"
      ]
     },
     "execution_count": 28,
     "metadata": {},
     "output_type": "execute_result"
    }
   ],
   "source": [
    "df_Tcodes=query_result.iloc[:]\n",
    "df_Tcodes.head()"
   ]
  },
  {
   "cell_type": "code",
   "execution_count": 13,
   "metadata": {
    "collapsed": true
   },
   "outputs": [],
   "source": [
    "keyDF = merge(df_Tcodes, )"
   ]
  },
  {
   "cell_type": "code",
   "execution_count": 17,
   "metadata": {
    "collapsed": false
   },
   "outputs": [
    {
     "name": "stdout",
     "output_type": "stream",
     "text": [
      "18201\n",
      "310323\n"
     ]
    }
   ],
   "source": [
    "print(len(df_allevts[:]['user_id'].unique()))\n",
    "print(len(df_allevts[:]['user_id']))\n"
   ]
  },
  {
   "cell_type": "code",
   "execution_count": 6,
   "metadata": {
    "collapsed": false
   },
   "outputs": [
    {
     "name": "stdout",
     "output_type": "stream",
     "text": [
      "250.074972868\n"
     ]
    }
   ],
   "source": [
    "# Let's look at number of meetings and user_id for events within the past 7 days\n",
    "# GROUP BY user ID!\n",
    "# This took 250 seconds (~4 min) to run over the past 7 days\n",
    "\n",
    "starttime=time.time()\n",
    "\n",
    "sql_query=\"\"\"\n",
    "select distinct c.user_id, count(e.time_range) num_meetings\n",
    "from users u\n",
    "join \n",
    "    calendars c\n",
    "on\n",
    "    u.id = c.user_id\n",
    "left outer join \n",
    "    events e \n",
    "on \n",
    "    e.calendar_id = c.id\n",
    "where lower(e.time_range) between (current_date - INTERVAL '7 days') and current_date\n",
    "and json_array_length(e.attendees) > 0\n",
    "group by c.user_id\n",
    "\"\"\"\n",
    "\n",
    "query_result = pd.read_sql_query(sql_query,conT)\n",
    "\n",
    "print(time.time()-starttime)"
   ]
  },
  {
   "cell_type": "code",
   "execution_count": 15,
   "metadata": {
    "collapsed": false,
    "scrolled": true
   },
   "outputs": [
    {
     "ename": "AttributeError",
     "evalue": "'DataFrame' object has no attribute 'num_attendees'",
     "output_type": "error",
     "traceback": [
      "\u001b[0;31m---------------------------------------------------------------------------\u001b[0m",
      "\u001b[0;31mAttributeError\u001b[0m                            Traceback (most recent call last)",
      "\u001b[0;32m<ipython-input-15-fe77ef961371>\u001b[0m in \u001b[0;36m<module>\u001b[0;34m()\u001b[0m\n\u001b[1;32m      2\u001b[0m \u001b[0mdf_allevts\u001b[0m\u001b[0;34m.\u001b[0m\u001b[0mcolumns\u001b[0m\u001b[0;34m\u001b[0m\u001b[0m\n\u001b[1;32m      3\u001b[0m \u001b[0;34m\u001b[0m\u001b[0m\n\u001b[0;32m----> 4\u001b[0;31m \u001b[0mdf_allevts\u001b[0m\u001b[0;34m.\u001b[0m\u001b[0mnum_attendees\u001b[0m\u001b[0;34m.\u001b[0m\u001b[0mhead\u001b[0m\u001b[0;34m(\u001b[0m\u001b[0;34m)\u001b[0m\u001b[0;34m\u001b[0m\u001b[0m\n\u001b[0m",
      "\u001b[0;32m//anaconda/lib/python2.7/site-packages/pandas/core/generic.pyc\u001b[0m in \u001b[0;36m__getattr__\u001b[0;34m(self, name)\u001b[0m\n\u001b[1;32m   2244\u001b[0m                 \u001b[0;32mreturn\u001b[0m \u001b[0mself\u001b[0m\u001b[0;34m[\u001b[0m\u001b[0mname\u001b[0m\u001b[0;34m]\u001b[0m\u001b[0;34m\u001b[0m\u001b[0m\n\u001b[1;32m   2245\u001b[0m             raise AttributeError(\"'%s' object has no attribute '%s'\" %\n\u001b[0;32m-> 2246\u001b[0;31m                                  (type(self).__name__, name))\n\u001b[0m\u001b[1;32m   2247\u001b[0m \u001b[0;34m\u001b[0m\u001b[0m\n\u001b[1;32m   2248\u001b[0m     \u001b[0;32mdef\u001b[0m \u001b[0m__setattr__\u001b[0m\u001b[0;34m(\u001b[0m\u001b[0mself\u001b[0m\u001b[0;34m,\u001b[0m \u001b[0mname\u001b[0m\u001b[0;34m,\u001b[0m \u001b[0mvalue\u001b[0m\u001b[0;34m)\u001b[0m\u001b[0;34m:\u001b[0m\u001b[0;34m\u001b[0m\u001b[0m\n",
      "\u001b[0;31mAttributeError\u001b[0m: 'DataFrame' object has no attribute 'num_attendees'"
     ]
    }
   ],
   "source": [
    "df_allevts=query_result.iloc[:]\n",
    "df_allevts.columns"
   ]
  },
  {
   "cell_type": "code",
   "execution_count": 16,
   "metadata": {
    "collapsed": false,
    "scrolled": true
   },
   "outputs": [
    {
     "name": "stdout",
     "output_type": "stream",
     "text": [
      "18201\n",
      "310323\n"
     ]
    },
    {
     "data": {
      "text/plain": [
       "1    55a96f3a88d12f25e28c3a05\n",
       "2    5626c4e48a7fb211d2a833a4\n",
       "3    55e8c78a8ed8bb343d3d998c\n",
       "4    5665b492afd3c65089b0b1a6\n",
       "5    54dd311e98a41d404cf5f76f\n",
       "6    55f03cdb8e41046db9c9c60d\n",
       "7    554290e7c164865117e00eb4\n",
       "8    55d4b90f51783604841a24cf\n",
       "9    551ad1fd9283a553dac3a020\n",
       "Name: user_id, dtype: object"
      ]
     },
     "execution_count": 16,
     "metadata": {},
     "output_type": "execute_result"
    }
   ],
   "source": [
    "print(len(df_allevts[:]['user_id'].unique()))\n",
    "print(len(df_allevts[:]['user_id']))\n",
    "\n",
    "df_allevts[1:10]['user_id']"
   ]
  },
  {
   "cell_type": "code",
   "execution_count": null,
   "metadata": {
    "collapsed": false,
    "scrolled": true
   },
   "outputs": [],
   "source": [
    "\n"
   ]
  },
  {
   "cell_type": "code",
   "execution_count": null,
   "metadata": {
    "collapsed": true,
    "scrolled": true
   },
   "outputs": [],
   "source": [
    "# Ok, this is just to keep the dataframe that I made with all of the individual events per \n",
    "# person (before I subset into meetings with other people.)\n",
    "events = meetings\n"
   ]
  },
  {
   "cell_type": "code",
   "execution_count": null,
   "metadata": {
    "collapsed": false,
    "scrolled": true
   },
   "outputs": [],
   "source": [
    "# Find the number of meetings that each user has had in the amount of time specified in the SQL query\n",
    "# First just do a groupby command over a subset of the data\n",
    "print(df_allevts.columns)\n",
    "print(df.columns)\n",
    "df.groupby(['user_id']).agg(['meeting_start'])\n",
    "#df[['user_id', 'num_attendees']].groupby(['user_id']).agg(['num_attendees'])"
   ]
  },
  {
   "cell_type": "code",
   "execution_count": null,
   "metadata": {
    "collapsed": false,
    "scrolled": true
   },
   "outputs": [],
   "source": [
    "# Make a dict of user_id paired with number of meetings\n",
    "\n",
    "#meeting_count = dict()\n",
    "meeting_count = pd.DataFrame(columns=['user_id', 'num_meetings'])\n",
    "\n",
    "i=0\n",
    "for line in df.groupby('user_id'):\n",
    "#    meeting_count[line[0]] = len(line[1])\n",
    "    #meeting_count.user_id[i]=line[0]\n",
    "    #meeting_count.num_meetings[i]=len(line[1])\n",
    "    if i < 1:\n",
    "        print(line)\n",
    "    i +=1"
   ]
  },
  {
   "cell_type": "code",
   "execution_count": null,
   "metadata": {
    "collapsed": false,
    "scrolled": true
   },
   "outputs": [],
   "source": [
    "df.groupby('user_id')"
   ]
  },
  {
   "cell_type": "code",
   "execution_count": null,
   "metadata": {
    "collapsed": false,
    "scrolled": true
   },
   "outputs": [],
   "source": [
    "x = df.groupby('user_id')\n",
    "type(x)\n",
    "\n",
    "df.groupby('').size().plot(kind='bar')"
   ]
  },
  {
   "cell_type": "code",
   "execution_count": null,
   "metadata": {
    "collapsed": false,
    "scrolled": true
   },
   "outputs": [],
   "source": [
    "for user in meetings.user_id:\n",
    "    #print(user)\n",
    "    meetings.num_meetings[meetings.user_id == user]=len(df[df['user_id'] == user])\n",
    "    \n",
    "#print(time.time()-starttime)\n",
    "#meetings.head"
   ]
  },
  {
   "cell_type": "code",
   "execution_count": null,
   "metadata": {
    "collapsed": false,
    "scrolled": true
   },
   "outputs": [],
   "source": [
    "plt.figure(figsize=(20,10))\n",
    "#plt.legend('Number of attendees at each meeting (people that signed up in the past 1 day)', fontsize=25)\n",
    "\n",
    "meetings.groupby('num_meetings').size().plot(kind='bar')\n",
    "plt.savefig('NumberOfMeetingsInPastWeekAllUsers.png')"
   ]
  },
  {
   "cell_type": "code",
   "execution_count": null,
   "metadata": {
    "collapsed": false,
    "scrolled": false
   },
   "outputs": [],
   "source": [
    "# All calendar events for users registering in past 7 days\n",
    "# (This takes a few minutes to run)\n",
    "\n",
    "sql_query=\"\"\"\n",
    "select u.primary_email, c.user_id, c.source_id, c.type, c.active, c.title, \n",
    "json_array_length(e.attendees) attendee_count, e.time_range, e.title\n",
    "from users u\n",
    "join     \n",
    "    calendars c\n",
    "on     \n",
    "    u.id = c.user_id\n",
    "left outer join \n",
    "    events e \n",
    "on \n",
    "    e.calendar_id = c.id\n",
    "    and lower(e.time_range) between (current_date - INTERVAL '7 days') and current_date\n",
    "where u.id = c.user_id\n",
    "and u.created_at > current_date - INTERVAL '7 days'\n",
    "and json_array_length(e.attendees) > 0\n",
    "\"\"\"\n",
    "\n",
    "query_result = pd.read_sql_query(sql_query,conT)"
   ]
  },
  {
   "cell_type": "code",
   "execution_count": null,
   "metadata": {
    "collapsed": false,
    "scrolled": true
   },
   "outputs": [],
   "source": [
    "df=query_result.iloc[:]"
   ]
  },
  {
   "cell_type": "code",
   "execution_count": null,
   "metadata": {
    "collapsed": false,
    "scrolled": true
   },
   "outputs": [],
   "source": [
    "df.columns"
   ]
  },
  {
   "cell_type": "code",
   "execution_count": null,
   "metadata": {
    "collapsed": false,
    "scrolled": true
   },
   "outputs": [],
   "source": [
    "plt.figure(figsize=(20,10))\n",
    "#plt.legend('Number of attendees at each meeting (people that signed up in the past 1 day)', fontsize=25)\n",
    "\n",
    "df.groupby('attendee_count').size().plot(kind='bar')"
   ]
  },
  {
   "cell_type": "code",
   "execution_count": null,
   "metadata": {
    "collapsed": false,
    "scrolled": true
   },
   "outputs": [],
   "source": [
    "for time_range in query_result.iloc[1:5]['user_id']:\n",
    "    print(time_range)"
   ]
  },
  {
   "cell_type": "code",
   "execution_count": null,
   "metadata": {
    "collapsed": true,
    "scrolled": true
   },
   "outputs": [],
   "source": [
    "# People from companies viewing a meeting details page by week\n",
    "# event data\n",
    "\n",
    "# Select 4 columns of data (company, date, number of users, and number of events)\n",
    "# from the table which holds data from events where people viewed the meeting_details\n",
    "# page.  Then group the data by week and company name\n",
    "sql_query=\"\"\"\n",
    "select \n",
    "    u_company_name as company,\n",
    "    date_trunc('week', event_time)::date as week,\n",
    "    count(distinct user_id) as users, \n",
    "    count(*) as events\n",
    "from app131567.viewed_meeting_details_page\n",
    "group by date_trunc('week', event_time)::date, u_company_name\n",
    "order by company, week asc\n",
    "\"\"\"\n",
    "\n",
    "\n",
    "query_result = pd.read_sql_query(sql_query,conE)"
   ]
  },
  {
   "cell_type": "code",
   "execution_count": null,
   "metadata": {
    "collapsed": true,
    "scrolled": true
   },
   "outputs": [],
   "source": [
    "#plt.scatter(df.users[df.company=='15five.com'],df.events[df.company=='15five.com'] )\n"
   ]
  },
  {
   "cell_type": "code",
   "execution_count": null,
   "metadata": {
    "collapsed": true
   },
   "outputs": [],
   "source": [
    "# People from companies viewing a meeting details page by week\n",
    "# event data\n",
    "\n",
    "# Select 2 columns of data (date, number of unique users)\n",
    "# from the table which holds data from events where people viewed the meeting_details\n",
    "# page.  Then group the data by week.\n",
    "\n",
    "sql_query=\"\"\"\n",
    "select \n",
    "    date_trunc('week', event_time)::date as week,\n",
    "    count(distinct user_id) as users\n",
    "from app131567.viewed_meeting_details_page\n",
    "group by date_trunc('week', event_time)::date\n",
    "order by week asc\n",
    "\"\"\"\n",
    "\n",
    "query_result = pd.read_sql_query(sql_query,conE)\n",
    "\n",
    "df = query_result.iloc[:]"
   ]
  },
  {
   "cell_type": "code",
   "execution_count": null,
   "metadata": {
    "collapsed": true
   },
   "outputs": [],
   "source": [
    "date_cutoff = datetime.strptime('2015-08-02', '%Y-%m-%d').date()\n",
    "\n",
    "xlabel='Week'\n",
    "ylabel='Number of Users logged in (at least once)'\n",
    "plt.figure(figsize=(20,10))\n",
    "plt.xlabel(xlabel, fontsize=25)\n",
    "plt.ylabel(ylabel, fontsize=25)\n",
    "\n",
    "# histogram of count of weeks\n",
    "#df.groupby('week').size().plot(kind='bar')\n",
    "\n",
    "plt.plot(df.week[df.week > date_cutoff], df.users[df.week > date_cutoff])\n",
    "plt.plot(df.week, df.users)\n",
    "#plt.scatter(query_result.iloc[:]['users'], query_result.iloc[:]['events'], color=\"red\")\n",
    "#plt.scatter(df.users[df.users < 500], df.events[df.users < 500], color=\"red\")\n",
    "#plt.scatter(df.users[df.users < 100], df.events[df.users < 100], color=\"red\")\n",
    "#plt.scatter(df.users[df.users > 1500], df.events[df.users > 1500], color=\"red\")\n",
    "#plt.scatter(df.users, df.events, color=\"red\")\n",
    "\n",
    "plt.savefig(path+xlabel+'BY'+ylabel+'.png')\n"
   ]
  },
  {
   "cell_type": "code",
   "execution_count": null,
   "metadata": {
    "collapsed": true
   },
   "outputs": [],
   "source": [
    "# Trailing 7 day calendar events for a specific user id\n",
    "\n",
    "# sql_query=\"\"\"\n",
    "# select c.user_id, c.source_id, c.type, c.active, c.title, e.* \n",
    "# from calendars c, events e\n",
    "# where c.id = e.calendar_id\n",
    "# and c.user_id = '54d14f9453832673fdd7c29c'\n",
    "# and lower(time_range) between (current_date - INTERVAL '7 days') and current_date\n",
    "# \"\"\"\n",
    "\n",
    "# calendars variables:\n",
    "# id, type, source_id, active, raw, created_at, updated_at, sync, legacy, last_event_sync_at, last_calendar_sync_at,\n",
    "# deleted_at, user_id, needs_sync, integration_id, title\n",
    "\n",
    "# event variables:\n",
    "# id, type, source_id, calendar_id, raw, created_at, updated_at, time_range, legacy, ignored, title, location, \n",
    "# source_url, attendees, global_id, recurring_event_id\n",
    "\n",
    "sql_query=\"\"\"\n",
    "select e.*\n",
    "from calendars c, events e\n",
    "where c.id = e.calendar_id\n",
    "and c.user_id = '54d14f9453832673fdd7c29c'\n",
    "and lower(time_range) between (current_date - INTERVAL '7 days') and current_date\n",
    "\"\"\"\n",
    "\n",
    "query_result = pd.read_sql_query(sql_query,conT)"
   ]
  }
 ],
 "metadata": {
  "kernelspec": {
   "display_name": "Python 2",
   "language": "python",
   "name": "python2"
  },
  "language_info": {
   "codemirror_mode": {
    "name": "ipython",
    "version": 2
   },
   "file_extension": ".py",
   "mimetype": "text/x-python",
   "name": "python",
   "nbconvert_exporter": "python",
   "pygments_lexer": "ipython2",
   "version": "2.7.11"
  }
 },
 "nbformat": 4,
 "nbformat_minor": 0
}
