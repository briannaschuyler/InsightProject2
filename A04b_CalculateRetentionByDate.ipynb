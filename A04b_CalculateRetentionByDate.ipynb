{
 "cells": [
  {
   "cell_type": "code",
   "execution_count": null,
   "metadata": {
    "collapsed": true,
    "scrolled": true
   },
   "outputs": [],
   "source": [
    "## Python packages - you may have to pip install sqlalchemy, sqlalchemy_utils, and psycopg2.\n",
    "from sqlalchemy import create_engine\n",
    "from sqlalchemy_utils import database_exists, create_database\n",
    "import psycopg2\n",
    "import pandas as pd\n",
    "\n",
    "import re # to access database details in a file\n",
    "import time # to time how long queries and processes take\n",
    "import matplotlib.pyplot as plt\n",
    "from datetime import date, datetime, timedelta # to manipulate dates\n",
    "\n",
    "from connect_db import connect_db\n",
    "from makeWeekList import makeWeekList\n",
    "\n",
    "% matplotlib inline"
   ]
  },
  {
   "cell_type": "code",
   "execution_count": null,
   "metadata": {
    "collapsed": true,
    "scrolled": true
   },
   "outputs": [],
   "source": [
    "path='/Users/brianna/Documents/WL_DBdeets/'"
   ]
  },
  {
   "cell_type": "code",
   "execution_count": null,
   "metadata": {
    "collapsed": false,
    "scrolled": true
   },
   "outputs": [],
   "source": [
    "# Access the 'events' database.\n",
    "conE, curE = connect_db('evnt', path)\n",
    "\n",
    "# Access the 'transactions' database.\n",
    "conT, curT = connect_db('trns', path)"
   ]
  },
  {
   "cell_type": "markdown",
   "metadata": {},
   "source": [
    "## Query the events database to find out which users visited the site on which weeks"
   ]
  },
  {
   "cell_type": "code",
   "execution_count": null,
   "metadata": {
    "collapsed": false,
    "scrolled": true
   },
   "outputs": [],
   "source": [
    "# List tables in the Transactional (Production) database 'dd8dik067j3tun'\n",
    "\n",
    "# Retention analysis: cohort retention analysis, look for sql examples online\n",
    "# Define a cohort as people who did a certain action or behavior\n",
    "# 90%  of people that signed up viewed internal page in the first week\n",
    "# Look at weekly retention (how many people viewed an internal page in the following weeks after signing up)\n",
    "# 30% is good for growing company, facebook has 50%, WL wants at least 20%\n"
   ]
  },
  {
   "cell_type": "code",
   "execution_count": null,
   "metadata": {
    "collapsed": false
   },
   "outputs": [],
   "source": [
    "# Make a dict with lists of unique users that visited the site in each particular week.\n",
    "def listUniqueUsersByWeek(weekList):\n",
    "    UniqueUserByWeek = {}\n",
    "\n",
    "    start_time = time.time()\n",
    "\n",
    "    # Go through all of the weeks except for the last one since it's not finished so you'll get an error.\n",
    "    for w in range(len(weekList)):\n",
    "        date_start=str(weekList[w]).split(' ')[0]\n",
    "        date_end = weekList[w] + timedelta(days=7)\n",
    "        date_end=str(date_end).split(' ')[0]\n",
    "\n",
    "        string1=\"\"\"\n",
    "            select \n",
    "                distinct user_id\n",
    "            from\n",
    "                app131567.viewed_meeting_details_page\n",
    "            where \n",
    "                event_time between \n",
    "        \"\"\"\n",
    "        string2=\"'{date_start}' and '{date_end}'\".format(date_start=date_start, date_end=date_end) \n",
    "\n",
    "        sql_query = string1 + string2\n",
    "\n",
    "        query_result = pd.read_sql_query(sql_query,conE)\n",
    "\n",
    "        # Add an entry to the dict where the key is the week and the value is the \n",
    "        # list of users that accessed the site that week\n",
    "        UniqueUserByWeek[date_start] = query_result['user_id'].tolist()\n",
    "        #print(sql_query)\n",
    "\n",
    "    total_time =  time.time() - start_time\n",
    "    print('Total time for queries: '+str(total_time))\n",
    "    \n",
    "    return UniqueUserByWeek"
   ]
  },
  {
   "cell_type": "code",
   "execution_count": null,
   "metadata": {
    "collapsed": false
   },
   "outputs": [],
   "source": [
    "def cleanRetention(retention):\n",
    "    # Delete columns we don't need\n",
    "    #del retention['reg_date']\n",
    "    #del retention['Unnamed: 0']\n",
    "    \n",
    "    retention = retention[['user_id','reg_week']]\n",
    "\n",
    "    # Make a variable called registrationWeek which has the week the user registered in the form of a string\n",
    "    retention['registrationWeek']=retention.reg_week.apply(lambda x : str(x).split(' ')[0])\n",
    "\n",
    "    # Ay ay ay, get rid of that weird '2016-01-26 10:19:51.044020' entry.  Not sure how it got there, \n",
    "    # but it's stamped from this morning.\n",
    "    #retention = retention[retention.reg_week != '2016-01-26 10:19:51.044020']\n",
    "    #retention = retention[retention.reg_week != '2016-01-28 20:49:31.258509']\n",
    "    retention = retention[retention.reg_week.notnull()]\n",
    "    #print(retention.head(5))\n",
    "    return retention"
   ]
  },
  {
   "cell_type": "code",
   "execution_count": null,
   "metadata": {
    "collapsed": false
   },
   "outputs": [],
   "source": [
    "# Go 8 weeks out from registration week (don't worry about anything after that.)\n",
    "\n",
    "# Query from  2015-05-31, fill it in as Week 0 for people who registered that week.\n",
    "# Query from  2015-06-07, fill it in as Week 0 for people who registered that week \n",
    "#                                   and Week 1 for people that registered the week before.\n",
    "# Etc.\n",
    "\n",
    "# This is kind of clunky, but I need to re-define the function each time we go to a new \n",
    "# week since the value of x (the number of weeks since registration) changes in each\n",
    "# iteration but I can't pass that dumb argument through the apply function.\n",
    "def checkVisitedByWeek(retention, UniqueUserByWeek):\n",
    "    for week in weekStringList:\n",
    "\n",
    "        print(week)\n",
    "        def checkVisited(retention):\n",
    "            if retention['user_id'] in UniqueUserByWeek[week]:\n",
    "                return 1\n",
    "            else:\n",
    "                return 0\n",
    "\n",
    "        retention['Visited'+week.replace('-','_')]=retention.apply(lambda x : checkVisited(x), axis=1)\n",
    "\n",
    "    #retention.head(10)\n",
    "    return retention"
   ]
  },
  {
   "cell_type": "code",
   "execution_count": null,
   "metadata": {
    "collapsed": false
   },
   "outputs": [],
   "source": [
    "# Make a dataframe with an entry for user_id and registrationWeek, then a variable for\n",
    "# whether the user visited in each of the 8 weeks following registration.\n",
    "# Later, we're going to add a variable to track whether this user visited on this week.\n",
    "#dtype={'user_id':str,'reg_date':datetime.datetime, 'reg_week':datetime.datetime}\n",
    "\n",
    "retention = pd.read_csv(path+'03_UserRegistrationDateMoreDetails.csv', low_memory=False)\n",
    "\n",
    "retention = cleanRetention(retention)\n",
    "\n",
    "# First make a list of all of the weeks we're interested in.\n",
    "start_date = '2015-05-24'; end_date = '2016-01-26'\n",
    "weekList, weekStringList = makeWeekList(start_date, end_date)\n",
    "\n",
    "# Sometimes there's an error if there are funky values in here.\n",
    "#retention.reg_week.unique()\n",
    "\n",
    "# Make a dict where the key is the week and the value is the list of unique users that week\n",
    "UniqueUserByWeek = listUniqueUsersByWeek(weekList)\n",
    "\n",
    "# Add a column for each week where 1 indicates the user visited the site that week and 0 \n",
    "# indicates they didn't.\n",
    "retention = checkVisitedByWeek(retention, UniqueUserByWeek)"
   ]
  },
  {
   "cell_type": "code",
   "execution_count": null,
   "metadata": {
    "collapsed": false
   },
   "outputs": [],
   "source": [
    "retention.head()"
   ]
  },
  {
   "cell_type": "code",
   "execution_count": null,
   "metadata": {
    "collapsed": false
   },
   "outputs": [],
   "source": [
    "retentionByCohort = retention.groupby('registrationWeek').sum()\n",
    "\n",
    "print(retentionByCohort.loc['2015-05-24','Visited2015_05_31'])"
   ]
  },
  {
   "cell_type": "code",
   "execution_count": null,
   "metadata": {
    "collapsed": true
   },
   "outputs": [],
   "source": [
    "for rw in range(len(weekStringList)):\n",
    "    for vw in range(len(weekStringList)):\n",
    "        if vw < rw:\n",
    "            #retentionByCohort.loc['2015-05-24','Visited2015_05_31']\n",
    "            retentionByCohort.loc[weekStringList[rw],'Visited'+weekStringList[vw].replace('-','_')]=None\n",
    "            retention.loc[retention.registrationWeek == weekStringList[rw],'Visited'+weekStringList[vw].replace('-','_')]=None"
   ]
  },
  {
   "cell_type": "code",
   "execution_count": null,
   "metadata": {
    "collapsed": false
   },
   "outputs": [],
   "source": [
    "retention.head(10)"
   ]
  },
  {
   "cell_type": "code",
   "execution_count": null,
   "metadata": {
    "collapsed": false
   },
   "outputs": [],
   "source": [
    "retentionByCohort.to_csv(path+'04b_UserRegistrationDateForCohortPlot.csv')\n",
    "retention.to_csv(path+'04b_UserRegistrationDateForCohortPlotAllUsers.csv')"
   ]
  },
  {
   "cell_type": "code",
   "execution_count": null,
   "metadata": {
    "collapsed": true
   },
   "outputs": [],
   "source": []
  }
 ],
 "metadata": {
  "kernelspec": {
   "display_name": "Python 2",
   "language": "python",
   "name": "python2"
  },
  "language_info": {
   "codemirror_mode": {
    "name": "ipython",
    "version": 2
   },
   "file_extension": ".py",
   "mimetype": "text/x-python",
   "name": "python",
   "nbconvert_exporter": "python",
   "pygments_lexer": "ipython2",
   "version": "2.7.11"
  }
 },
 "nbformat": 4,
 "nbformat_minor": 0
}
