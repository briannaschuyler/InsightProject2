{
 "cells": [
  {
   "cell_type": "code",
   "execution_count": null,
   "metadata": {
    "collapsed": true,
    "scrolled": true
   },
   "outputs": [],
   "source": [
    "## Python packages - you may have to pip install sqlalchemy, sqlalchemy_utils, and psycopg2.\n",
    "from sqlalchemy import create_engine\n",
    "from sqlalchemy_utils import database_exists, create_database\n",
    "import psycopg2\n",
    "import pandas as pd\n",
    "\n",
    "import re # to access database details in a file\n",
    "import time # to time how long queries and processes take\n",
    "import matplotlib.pyplot as plt\n",
    "from datetime import date, datetime, timedelta # to manipulate dates\n",
    "\n",
    "from connect_db import connect_db\n",
    "\n",
    "% matplotlib inline"
   ]
  },
  {
   "cell_type": "code",
   "execution_count": null,
   "metadata": {
    "collapsed": true,
    "scrolled": true
   },
   "outputs": [],
   "source": [
    "path='/Users/brianna/Documents/WL_DBdeets/'"
   ]
  },
  {
   "cell_type": "code",
   "execution_count": null,
   "metadata": {
    "collapsed": false,
    "scrolled": true
   },
   "outputs": [],
   "source": [
    "# Access the 'events' database.\n",
    "conE, curE = connect_db('evnt', path)\n",
    "\n",
    "# Access the 'transactions' database.\n",
    "conT, curT = connect_db('trns', path)"
   ]
  },
  {
   "cell_type": "markdown",
   "metadata": {},
   "source": [
    "## Query the events database to find out which users visited the site on which weeks"
   ]
  },
  {
   "cell_type": "code",
   "execution_count": null,
   "metadata": {
    "collapsed": false,
    "scrolled": true
   },
   "outputs": [],
   "source": [
    "# List tables in the Transactional (Production) database 'dd8dik067j3tun'\n",
    "\n",
    "# Retention analysis: cohort retention analysis, look for sql examples online\n",
    "# Define a cohort as people who did a certain action or behavior\n",
    "# 90%  of people that signed up viewed internal page in the first week\n",
    "# Look at weekly retention (how many people viewed an internal page in the following weeks after signing up)\n",
    "# 30% is good for growing company, facebook has 50%, WL wants at least 20%\n"
   ]
  },
  {
   "cell_type": "code",
   "execution_count": null,
   "metadata": {
    "collapsed": false
   },
   "outputs": [],
   "source": [
    "# Make a list of the weeks between 2015-05-24 and now.\n",
    "weekList = []\n",
    "date_start = datetime.strptime('2015-05-24', \"%Y-%m-%d\")\n",
    "current_date = datetime.now()\n",
    "\n",
    "while date_start < current_date + timedelta(days=7):\n",
    "    weekList.append(date_start)\n",
    "    date_start += timedelta(days=7)\n",
    "\n",
    "# Make an identical list but filled with the string version of the variable instead of the \n",
    "# datetime version.  (We have to use the [:] notation or else both variable names point to\n",
    "# the same object.)\n",
    "\n",
    "weekStringList=weekList[:]\n",
    "for w in range(len(weekStringList)):\n",
    "    weekStringList[w]=str(weekStringList[w]).split(' ')[0]\n",
    "\n",
    "print(weekList)\n",
    "print(weekStringList)"
   ]
  },
  {
   "cell_type": "code",
   "execution_count": null,
   "metadata": {
    "collapsed": false
   },
   "outputs": [],
   "source": [
    "# Make a dict with lists of unique users that visited the site in each particular week.\n",
    "\n",
    "UniqueUserByWeek = {}\n",
    "\n",
    "start_time = time.time()\n",
    "\n",
    "# Go through all of the weeks except for the last one since it's not finished so you'll get an error.\n",
    "for w in range(len(weekList)):\n",
    "    date_start=str(weekList[w]).split(' ')[0]\n",
    "    date_end = weekList[w] + timedelta(days=7)\n",
    "    date_end=str(date_end).split(' ')[0]\n",
    "\n",
    "    string1=\"\"\"\n",
    "        select \n",
    "            distinct user_id\n",
    "        from\n",
    "            app131567.viewed_meeting_details_page\n",
    "        where \n",
    "            event_time between \n",
    "    \"\"\"\n",
    "    string2=\"'{date_start}' and '{date_end}'\".format(date_start=date_start, date_end=date_end) \n",
    "\n",
    "    sql_query = string1 + string2\n",
    "\n",
    "    query_result = pd.read_sql_query(sql_query,conE)\n",
    "    \n",
    "    # Add an entry to the dict where the key is the week and the value is the \n",
    "    # list of users that accessed the site that week\n",
    "    UniqueUserByWeek[date_start] = query_result['user_id'].tolist()\n",
    "    #print(sql_query)\n",
    "\n",
    "total_time =  time.time() - start_time\n",
    "print('Total time for queries: '+str(total_time))"
   ]
  },
  {
   "cell_type": "code",
   "execution_count": null,
   "metadata": {
    "collapsed": false
   },
   "outputs": [],
   "source": [
    "# Make a dataframe with an entry for user_id and registrationWeek, then a variable for\n",
    "# whether the user visited in each of the 8 weeks following registration.\n",
    "# Later, we're going to add a variable to track whether this user visited on this week.\n",
    "\n",
    "retention = pd.read_csv(path+'UserRegistrationDate.csv')\n",
    "\n",
    "# Delete columns we don't need\n",
    "del retention['reg_date']\n",
    "del retention['Unnamed: 0']\n",
    "\n",
    "# Make a variable called registrationWeek which has the week the user registered in the form of a string\n",
    "retention['registrationWeek']=retention.reg_week.apply(lambda x : str(x).split(' ')[0])\n",
    "\n",
    "# Make variables that will have 1 or zero depending on if the user visited the site that week.\n",
    "# 1 = visited, 0 = didn't visit\n",
    "for x in range(12):\n",
    "    retention['VisitedWeek'+str(x)] = 0\n",
    "\n",
    "# Ay ay ay, get rid of that weird '2016-01-26 10:19:51.044020' entry.  Not sure how it got there, \n",
    "# but it's stamped from this morning.\n",
    "retention = retention[retention.reg_week != '2016-01-26 10:19:51.044020']\n",
    "\n",
    "print(retention.head(5))"
   ]
  },
  {
   "cell_type": "code",
   "execution_count": null,
   "metadata": {
    "collapsed": false
   },
   "outputs": [],
   "source": [
    "# Go 8 weeks out from registration week (don't worry about anything after that.)\n",
    "\n",
    "# Query from  2015-05-31, fill it in as Week 0 for people who registered that week.\n",
    "# Query from  2015-06-07, fill it in as Week 0 for people who registered that week \n",
    "#                                   and Week 1 for people that registered the week before.\n",
    "# Etc.\n",
    "\n",
    "# This is kind of clunky, but I need to re-define the function each time we go to a new \n",
    "# week since the value of x (the number of weeks since registration) changes in each\n",
    "# iteration but I can't pass that dumb argument through the apply function.\n",
    "for x in range(12):\n",
    "\n",
    "    print(x)\n",
    "    def check_visited(retention):\n",
    "        # Find which week this person started (as indexed in the weekStringList), then\n",
    "        # return 1 if the person visited the page that week and 0 if not.\n",
    "        #if retention['registrationWeek'] in weekStringList:\n",
    "        weekIndex = weekStringList.index(retention['registrationWeek'])\n",
    "        if weekIndex+x < len(weekStringList):\n",
    "            w = weekStringList[weekIndex+x]\n",
    "            if retention['user_id'] in UniqueUserByWeek[w]:\n",
    "                return 1\n",
    "            else:\n",
    "                return 0\n",
    "\n",
    "    retention['VisitedWeek'+str(x)]=retention.apply(lambda x : check_visited(x), axis=1)\n",
    "    \n",
    "retention.head(10)"
   ]
  },
  {
   "cell_type": "code",
   "execution_count": null,
   "metadata": {
    "collapsed": false
   },
   "outputs": [],
   "source": [
    "print(retention.head(10))\n",
    "\n",
    "retention.to_csv(path+'Retention.csv')"
   ]
  },
  {
   "cell_type": "code",
   "execution_count": null,
   "metadata": {
    "collapsed": true
   },
   "outputs": [],
   "source": []
  }
 ],
 "metadata": {
  "kernelspec": {
   "display_name": "Python 2",
   "language": "python",
   "name": "python2"
  },
  "language_info": {
   "codemirror_mode": {
    "name": "ipython",
    "version": 2
   },
   "file_extension": ".py",
   "mimetype": "text/x-python",
   "name": "python",
   "nbconvert_exporter": "python",
   "pygments_lexer": "ipython2",
   "version": "2.7.11"
  }
 },
 "nbformat": 4,
 "nbformat_minor": 0
}
