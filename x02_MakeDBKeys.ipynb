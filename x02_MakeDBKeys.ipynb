{
 "cells": [
  {
   "cell_type": "code",
   "execution_count": 1,
   "metadata": {
    "collapsed": true,
    "scrolled": true
   },
   "outputs": [],
   "source": [
    "## Python packages - you may have to pip install sqlalchemy, sqlalchemy_utils, and psycopg2.\n",
    "from sqlalchemy import create_engine\n",
    "from sqlalchemy_utils import database_exists, create_database\n",
    "import psycopg2\n",
    "import pandas as pd\n",
    "\n",
    "import re # to access database details in a file\n",
    "import time # to time how long queries and processes take\n",
    "import matplotlib.pyplot as plt\n",
    "from datetime import datetime # to manipulate dates\n",
    "\n",
    "% matplotlib inline"
   ]
  },
  {
   "cell_type": "code",
   "execution_count": 2,
   "metadata": {
    "collapsed": true,
    "scrolled": true
   },
   "outputs": [],
   "source": [
    "path='/Users/brianna/Documents/WL_DBdeets/'"
   ]
  },
  {
   "cell_type": "code",
   "execution_count": 3,
   "metadata": {
    "collapsed": true,
    "scrolled": true
   },
   "outputs": [],
   "source": [
    "def connect_db(which_db):\n",
    "    # Grab the details from a text file for how to access the database\n",
    "    db_file = open(path+which_db+'DBdeets.txt','r')\n",
    "    db_deets = db_file.read()\n",
    "\n",
    "    dbname=re.findall('dbname=(\\S+)',db_deets)\n",
    "    username=re.findall('username=(\\S+)',db_deets)\n",
    "    hostname=re.findall('hostname=(\\S+)',db_deets)\n",
    "    portname=re.findall('portname=(\\S+)',db_deets)\n",
    "    pw=re.findall('pw=(\\S+)',db_deets)\n",
    "    \n",
    "    # Connect to the database.  (If you can't, jump out and give a polite notice!)\n",
    "    con = None\n",
    "    try:\n",
    "        con = psycopg2.connect(database = dbname[0], \n",
    "                               user = username[0], \n",
    "                               host = hostname[0], \n",
    "                               port = portname[0], \n",
    "                               password = pw[0])\n",
    "        # Set up a cursor.  (Anytime you get an error with the cursor, you have to reset the \n",
    "        # connection with it)\n",
    "        cur=con.cursor()\n",
    "        print('I connected to the '+which_db+' database!!')\n",
    "    except:\n",
    "        print('Unable to connect to '+which_db+' database :(')\n",
    "    \n",
    "    db_file.close()\n",
    "    \n",
    "    return  con, cur"
   ]
  },
  {
   "cell_type": "code",
   "execution_count": 4,
   "metadata": {
    "collapsed": false,
    "scrolled": true
   },
   "outputs": [
    {
     "name": "stdout",
     "output_type": "stream",
     "text": [
      "I connected to the evnt database!!\n",
      "I connected to the trns database!!\n"
     ]
    }
   ],
   "source": [
    "# Access the 'events' database.\n",
    "conE, curE = connect_db('evnt')\n",
    "\n",
    "# Access the 'transactions' database.\n",
    "conT, curT = connect_db('trns')"
   ]
  },
  {
   "cell_type": "markdown",
   "metadata": {},
   "source": [
    "# Merge the two databases by finding the key that translates their ids"
   ]
  },
  {
   "cell_type": "code",
   "execution_count": 5,
   "metadata": {
    "collapsed": false,
    "scrolled": true
   },
   "outputs": [
    {
     "name": "stdout",
     "output_type": "stream",
     "text": [
      "14.7650129795\n"
     ]
    }
   ],
   "source": [
    "# Make a list of everyone who's signed up (AKA had a sign-up event)\n",
    "\n",
    "starttime=time.time()\n",
    "\n",
    "sql_query=\"\"\"\n",
    "    select user_id, u_email, event_time\n",
    "    from app131567.signed_up\n",
    "\"\"\"\n",
    "\n",
    "query_result = pd.read_sql_query(sql_query,conE)\n",
    "\n",
    "print(time.time()-starttime)\n",
    "\n",
    "df_Ecodes=query_result.iloc[:]"
   ]
  },
  {
   "cell_type": "code",
   "execution_count": 28,
   "metadata": {
    "collapsed": false,
    "scrolled": true
   },
   "outputs": [
    {
     "name": "stdout",
     "output_type": "stream",
     "text": [
      "18139\n",
      "17236\n",
      "13092\n",
      "Duplicate emails: 4598\n",
      "Null emails: 4599\n",
      "13540\n"
     ]
    },
    {
     "data": {
      "image/png": "[encoded data removed]",
      "text/plain": [
       "<matplotlib.figure.Figure at 0x10b913610>"
      ]
     },
     "metadata": {},
     "output_type": "display_data"
    }
   ],
   "source": [
    "\n",
    "\n",
    "#df_signups.head\n",
    "print(len(df_Ecodes[:]['user_id']))\n",
    "print(len(df_Ecodes[:]['user_id'].unique()))\n",
    "print(len(df_Ecodes[:]['u_email'].unique()))\n",
    "\n",
    "# Print the user_id and event_times of user_ids that are listed more than once.\n",
    "num_nullEmail = len(df_Ecodes.u_email[df_Ecodes.u_email.isnull()])\n",
    "num_DupEmail = len(df_Ecodes.u_email[df_Ecodes[:]['u_email'].duplicated() & df_Ecodes.u_email.isnull()])\n",
    "#print(df_Ecodes.user_id[df_Ecodes[:]['user_id'].duplicated()])\n",
    "#print(df_Ecodes.event_time[df_Ecodes[:]['user_id'].duplicated()])\n",
    "print('Duplicate emails: '+str(num_DupEmail))\n",
    "print('Null emails: '+str(num_nullEmail))\n",
    "\n",
    "#type(df_Ecodes.groupby(['u_email']).size()[:])\n",
    "plt.hist(df_Ecodes.groupby(['u_email']).size()[:])\n",
    "print(sum(df_Ecodes.groupby(['u_email']).size()[:]))"
   ]
  },
  {
   "cell_type": "code",
   "execution_count": 7,
   "metadata": {
    "collapsed": false,
    "scrolled": true
   },
   "outputs": [
    {
     "name": "stdout",
     "output_type": "stream",
     "text": [
      "2.2441880703\n"
     ]
    }
   ],
   "source": [
    "# Before we can save these data of when people signed up, we have to match with the user_id \n",
    "# of the transactional database.  I'll use the email addresses to make a key to combine the \n",
    "# user_id's from both databases.\n",
    "\n",
    "starttime=time.time()\n",
    "\n",
    "sql_query=\"\"\"\n",
    "select id, primary_email \n",
    "from users\n",
    "\"\"\"\n",
    "\n",
    "query_result = pd.read_sql_query(sql_query,conT)\n",
    "\n",
    "print(time.time()-starttime)\n",
    "\n",
    "df_Tcodes=query_result.iloc[:]"
   ]
  },
  {
   "cell_type": "code",
   "execution_count": 9,
   "metadata": {
    "collapsed": false,
    "scrolled": true
   },
   "outputs": [
    {
     "name": "stdout",
     "output_type": "stream",
     "text": [
      "37632\n",
      "37632\n",
      "37423\n"
     ]
    },
    {
     "data": {
      "text/plain": [
       "(array([  3.74060000e+04,   0.00000000e+00,   0.00000000e+00,\n",
       "          0.00000000e+00,   0.00000000e+00,   0.00000000e+00,\n",
       "          0.00000000e+00,   0.00000000e+00,   0.00000000e+00,\n",
       "          1.60000000e+01]),\n",
       " array([ 1. ,  1.1,  1.2,  1.3,  1.4,  1.5,  1.6,  1.7,  1.8,  1.9,  2. ]),\n",
       " <a list of 10 Patch objects>)"
      ]
     },
     "execution_count": 9,
     "metadata": {},
     "output_type": "execute_result"
    },
    {
     "data": {
      "image/png": "[encoded data removed]",
      "text/plain": [
       "<matplotlib.figure.Figure at 0x1075ec450>"
      ]
     },
     "metadata": {},
     "output_type": "display_data"
    }
   ],
   "source": [
    "\n",
    "print(len(df_Tcodes[:]['id']))\n",
    "print(len(df_Tcodes[:]['id'].unique()))\n",
    "print(len(df_Tcodes[:]['primary_email'].unique()))\n",
    "\n",
    "df_Tcodes.groupby(['primary_email']).size()\n",
    "plt.hist(df_Tcodes.groupby(['primary_email']).size()[:])\n",
    "#df_allmtngs.groupby(['user_id']).size()"
   ]
  },
  {
   "cell_type": "code",
   "execution_count": 43,
   "metadata": {
    "collapsed": false
   },
   "outputs": [
    {
     "name": "stdout",
     "output_type": "stream",
     "text": [
      "55baceab95872f1da19e7609\n",
      "5847    55baceab95872f1da19e7609\n",
      "Name: user_id, dtype: object\n",
      "555ab1bb681e8c2e4c569a4c\n",
      "5929    555ab1bb681e8c2e4c569a4c\n",
      "Name: user_id, dtype: object\n",
      "561bad0f622164596e1f5823\n",
      "13741    561bad0f622164596e1f5823\n",
      "Name: user_id, dtype: object\n",
      "55b2cf75ed78871c60a8abc4\n",
      "8588    55b2cf75ed78871c60a8abc4\n",
      "Name: user_id, dtype: object\n",
      "55e5c8975238935663856a8d\n",
      "11514    55e5c8975238935663856a8d\n",
      "Name: user_id, dtype: object\n",
      "560c252b5ef9fc6cc5015389\n",
      "11129    560c252b5ef9fc6cc5015389\n",
      "Name: user_id, dtype: object\n",
      "566ab7e68c5b1723be34247f\n",
      "1739    566ab7e68c5b1723be34247f\n",
      "Name: user_id, dtype: object\n",
      "563b7eef07dd5d2316bf90f1\n",
      "6206    563b7eef07dd5d2316bf90f1\n",
      "Name: user_id, dtype: object\n",
      "562e9020a1cfec772c91502c\n",
      "12725    562e9020a1cfec772c91502c\n",
      "Name: user_id, dtype: object\n"
     ]
    }
   ],
   "source": [
    "# Ok, just make sure that entries in df_Tcodes.id are also in df_Ecodes.user_id\n",
    "for id in df_Tcodes[1:10].id.unique():\n",
    "    print(id)\n",
    "    print(df_Ecodes.user_id[df_Ecodes.user_id == id])"
   ]
  },
  {
   "cell_type": "code",
   "execution_count": 48,
   "metadata": {
    "collapsed": false
   },
   "outputs": [],
   "source": [
    "keyDF = pd.merge(df_Tcodes, df_Ecodes, left_on='id', right_on='user_id', how = 'right')"
   ]
  },
  {
   "cell_type": "code",
   "execution_count": 49,
   "metadata": {
    "collapsed": false
   },
   "outputs": [
    {
     "data": {
      "text/plain": [
       "<bound method DataFrame.head of                              id                        primary_email  \\\n",
       "0      5604a71bb5c22b4817201d27  chanel@ancientsongdoulaservices.com   \n",
       "1      55baceab95872f1da19e7609               julianduquej@gmail.com   \n",
       "2      555ab1bb681e8c2e4c569a4c               jon@generalsensing.com   \n",
       "3      561bad0f622164596e1f5823                    lmfmouwe@avans.nl   \n",
       "4      55b2cf75ed78871c60a8abc4                     erin@book-md.com   \n",
       "5      55e5c8975238935663856a8d                     robyn@yoco.co.za   \n",
       "6      560c252b5ef9fc6cc5015389                   kdarrah@bisdtx.org   \n",
       "7      566ab7e68c5b1723be34247f           jfair1@jaguarlandrover.com   \n",
       "8      563b7eef07dd5d2316bf90f1        a.arbiser@pardesgrammar.co.uk   \n",
       "9      562e9020a1cfec772c91502c               deirdre@sumdigital.com   \n",
       "10     557ee41c3297d3f08dee079c                       kyleh@hzdg.com   \n",
       "11     557ee41c3297d3f08dee079c                       kyleh@hzdg.com   \n",
       "12     557ee41c3297d3f08dee079c                       kyleh@hzdg.com   \n",
       "13     5612e0bb6a34c11cdaf9a84c                    susan@scalevp.com   \n",
       "14     5604a71a081a9b48439faf48                     katiegb@hzdg.com   \n",
       "15     561bad98cba5fa5a96b56f13             myleneaboukrat@gmail.com   \n",
       "16     55cca4422ff1ec7cb43d2320                      cgould@yext.com   \n",
       "17     564eb29a0668607950663c53                     arun90@gmail.com   \n",
       "18     563b80d9ad74b57a6c6a0004                   luisa@bunnyinc.com   \n",
       "19     5604a92c4131d056258e87ed        katherinecoakley@cisca.com.au   \n",
       "20     561bada4dd888c53e918d47f              lucrecia@latinbrain.com   \n",
       "21     564a51ad3d81655c15d74de5          kplagge@mcfarlandclinic.com   \n",
       "22     56715123746f3b4c700b40be                    ncchaos@gmail.com   \n",
       "23     55fbb0d3d25c500d31a14835              subin.kj@dreamorbit.com   \n",
       "24     562e932a3cd5232d35bbd095        courtney.leonard@voxmedia.com   \n",
       "25     56202208fbae3126946179c2                   aman@juniperinc.ca   \n",
       "26     55f9a698fbe54d3c3eb354ea      eduardo.fleury@minhavida.com.br   \n",
       "27     55ef00072b04a50fed073fe8              trota.antoine@gmail.com   \n",
       "28     5620231ebfe3ab2703f72eda       technology_education@cds.ed.cr   \n",
       "29     55dfa9376422d62f57d41526       karen.hewer@redmondschools.org   \n",
       "...                         ...                                  ...   \n",
       "18109                       NaN                                  NaN   \n",
       "18110                       NaN                                  NaN   \n",
       "18111                       NaN                                  NaN   \n",
       "18112                       NaN                                  NaN   \n",
       "18113                       NaN                                  NaN   \n",
       "18114                       NaN                                  NaN   \n",
       "18115                       NaN                                  NaN   \n",
       "18116                       NaN                                  NaN   \n",
       "18117                       NaN                                  NaN   \n",
       "18118                       NaN                                  NaN   \n",
       "18119                       NaN                                  NaN   \n",
       "18120                       NaN                                  NaN   \n",
       "18121                       NaN                                  NaN   \n",
       "18122                       NaN                                  NaN   \n",
       "18123                       NaN                                  NaN   \n",
       "18124                       NaN                                  NaN   \n",
       "18125                       NaN                                  NaN   \n",
       "18126                       NaN                                  NaN   \n",
       "18127                       NaN                                  NaN   \n",
       "18128                       NaN                                  NaN   \n",
       "18129                       NaN                                  NaN   \n",
       "18130                       NaN                                  NaN   \n",
       "18131                       NaN                                  NaN   \n",
       "18132                       NaN                                  NaN   \n",
       "18133                       NaN                                  NaN   \n",
       "18134                       NaN                                  NaN   \n",
       "18135                       NaN                                  NaN   \n",
       "18136                       NaN                                  NaN   \n",
       "18137                       NaN                                  NaN   \n",
       "18138                       NaN                                  NaN   \n",
       "\n",
       "                        user_id                              u_email  \\\n",
       "0      5604a71bb5c22b4817201d27  chanel@ancientsongdoulaservices.com   \n",
       "1      55baceab95872f1da19e7609                julian@nodesource.com   \n",
       "2      555ab1bb681e8c2e4c569a4c               jon@generalsensing.com   \n",
       "3      561bad0f622164596e1f5823                    lmfmouwe@avans.nl   \n",
       "4      55b2cf75ed78871c60a8abc4                                 None   \n",
       "5      55e5c8975238935663856a8d                     robyn@yoco.co.za   \n",
       "6      560c252b5ef9fc6cc5015389                   kdarrah@bisdtx.org   \n",
       "7      566ab7e68c5b1723be34247f           jfair1@jaguarlandrover.com   \n",
       "8      563b7eef07dd5d2316bf90f1        a.arbiser@pardesgrammar.co.uk   \n",
       "9      562e9020a1cfec772c91502c               deirdre@sumdigital.com   \n",
       "10     557ee41c3297d3f08dee079c                                 None   \n",
       "11     557ee41c3297d3f08dee079c                       kyleh@hzdg.com   \n",
       "12     557ee41c3297d3f08dee079c                       kyleh@hzdg.com   \n",
       "13     5612e0bb6a34c11cdaf9a84c                    susan@scalevp.com   \n",
       "14     5604a71a081a9b48439faf48                     katiegb@hzdg.com   \n",
       "15     561bad98cba5fa5a96b56f13             myleneaboukrat@gmail.com   \n",
       "16     55cca4422ff1ec7cb43d2320                      cgould@yext.com   \n",
       "17     564eb29a0668607950663c53                     arun90@gmail.com   \n",
       "18     563b80d9ad74b57a6c6a0004                   luisa@bunnyinc.com   \n",
       "19     5604a92c4131d056258e87ed        katherinecoakley@cisca.com.au   \n",
       "20     561bada4dd888c53e918d47f              lucrecia@latinbrain.com   \n",
       "21     564a51ad3d81655c15d74de5          kplagge@mcfarlandclinic.com   \n",
       "22     56715123746f3b4c700b40be                    ncchaos@gmail.com   \n",
       "23     55fbb0d3d25c500d31a14835              subin.kj@dreamorbit.com   \n",
       "24     562e932a3cd5232d35bbd095        courtney.leonard@voxmedia.com   \n",
       "25     56202208fbae3126946179c2                   aman@juniperinc.ca   \n",
       "26     55f9a698fbe54d3c3eb354ea      eduardo.fleury@minhavida.com.br   \n",
       "27     55ef00072b04a50fed073fe8              trota.antoine@gmail.com   \n",
       "28     5620231ebfe3ab2703f72eda       technology_education@cds.ed.cr   \n",
       "29     55dfa9376422d62f57d41526       karen.hewer@redmondschools.org   \n",
       "...                         ...                                  ...   \n",
       "18109  55b0f58075c3765d023c2eee                                 None   \n",
       "18110  55b0f6254bcd295bc8300d83                   olivier@wistia.com   \n",
       "18111  55b0f8cb7b8c3d73cc22c4c4                                 None   \n",
       "18112  55b0fb7889079e099e3d2c13                                 None   \n",
       "18113  55b0fdebe7cc07118ba35b26                                 None   \n",
       "18114  55b10249681e9a3fb54d1687                                 None   \n",
       "18115  55b106fab8ad865afbd7911c                                 None   \n",
       "18116  55b1094a0d1a957159ad731e                   hprice@spotify.com   \n",
       "18117  55b115b75c987c4c3b1d3407                                 None   \n",
       "18118  55b1170cfb93594a67b8cbcc                                 None   \n",
       "18119  55b1195b86b18f645b3c94a1                                 None   \n",
       "18120  55b11ce7abca877dd94fe907                                 None   \n",
       "18121  55b11f9fa9aed619f9b372a9            samanthag@brandxstore.com   \n",
       "18122  55b125a1c7f45b401951cd0c        matrixautosolutions@gmail.com   \n",
       "18123  55b1274fb1a3cb4d7b26f4e1                  aditig526@gmail.com   \n",
       "18124  55b12890dabb925b31d63db8                                 None   \n",
       "18125  55b12f4d3eba206954e8abec                                 None   \n",
       "18126  55b13712552388381e68151f                                 None   \n",
       "18127  55b13d162c8e4f5e53145db2                    gordie@wistia.com   \n",
       "18128  55b14274ca804d7c09ceef30                                 None   \n",
       "18129  55b143bc33f6e40592ed7418                      klines@yext.com   \n",
       "18130                      None                                 None   \n",
       "18131                      None                                 None   \n",
       "18132                      None                                 None   \n",
       "18133                      None                                 None   \n",
       "18134  55787d5bcdadc6792f2f2313                         mf@matteo.me   \n",
       "18135  55787d5bcdadc6792f2f2313                         mf@matteo.me   \n",
       "18136  558c719333c8555039299674                                 None   \n",
       "18137  55834213e9a54e2a81cdc519                   reroumie@gmail.com   \n",
       "18138         anheWC2jdYAfRHuXh                 michaelmcc@gmail.com   \n",
       "\n",
       "                   event_time  \n",
       "0     2015-09-25 01:45:00.325  \n",
       "1     2015-07-31 01:26:04.495  \n",
       "2     2015-07-08 13:13:09.441  \n",
       "3     2015-10-12 12:52:31.635  \n",
       "4     2015-07-24 23:51:17.347  \n",
       "5     2015-09-01 15:47:36.834  \n",
       "6     2015-09-30 18:08:43.901  \n",
       "7     2015-12-11 11:47:53.821  \n",
       "8     2015-11-05 16:08:16.203  \n",
       "9     2015-10-26 20:42:08.545  \n",
       "10    2015-06-15 14:41:32.562  \n",
       "11    2015-06-17 15:07:05.659  \n",
       "12    2015-06-29 15:22:09.806  \n",
       "13    2015-10-05 20:42:36.080  \n",
       "14    2015-09-25 01:44:58.732  \n",
       "15    2015-10-12 12:54:49.608  \n",
       "16    2015-08-13 14:05:54.734  \n",
       "17    2015-11-20 05:41:46.409  \n",
       "18    2015-11-05 16:16:26.891  \n",
       "19    2015-09-25 01:53:49.160  \n",
       "20    2015-10-12 12:55:01.238  \n",
       "21    2015-11-16 21:59:10.431  \n",
       "22    2015-12-16 11:55:16.121  \n",
       "23    2015-09-18 06:36:04.897  \n",
       "24    2015-10-26 20:55:06.774  \n",
       "25    2015-10-15 22:00:41.009  \n",
       "26    2015-09-16 17:27:53.792  \n",
       "27    2015-09-08 15:34:31.976  \n",
       "28    2015-10-15 22:05:18.854  \n",
       "29    2015-08-28 00:20:08.445  \n",
       "...                       ...  \n",
       "18109 2015-07-23 14:09:05.200  \n",
       "18110 2015-07-23 14:11:49.531  \n",
       "18111 2015-07-23 14:23:07.325  \n",
       "18112 2015-07-23 14:34:33.442  \n",
       "18113 2015-07-23 14:44:59.705  \n",
       "18114 2015-07-23 15:03:38.286  \n",
       "18115 2015-07-23 15:23:39.345  \n",
       "18116 2015-07-23 15:33:30.842  \n",
       "18117 2015-07-23 16:26:32.099  \n",
       "18118 2015-07-23 16:32:13.110  \n",
       "18119 2015-07-23 16:42:03.964  \n",
       "18120 2015-07-23 16:57:11.277  \n",
       "18121 2015-07-23 17:08:47.738  \n",
       "18122 2015-07-23 17:34:25.909  \n",
       "18123 2015-07-23 17:41:36.485  \n",
       "18124 2015-07-23 17:46:56.349  \n",
       "18125 2015-07-23 18:15:42.141  \n",
       "18126 2015-07-23 18:48:51.072  \n",
       "18127 2015-07-23 19:14:30.514  \n",
       "18128 2015-07-23 19:37:25.016  \n",
       "18129 2015-07-23 19:42:52.379  \n",
       "18130 2015-08-28 15:57:46.767  \n",
       "18131 2015-10-05 11:28:40.651  \n",
       "18132 2015-06-17 08:37:22.654  \n",
       "18133 2015-06-16 23:25:24.106  \n",
       "18134 2015-06-10 18:09:32.187  \n",
       "18135 2015-06-27 00:15:14.130  \n",
       "18136 2015-06-25 21:24:35.753  \n",
       "18137 2015-06-18 22:11:31.463  \n",
       "18138 2015-07-02 19:10:49.123  \n",
       "\n",
       "[18139 rows x 5 columns]>"
      ]
     },
     "execution_count": 49,
     "metadata": {},
     "output_type": "execute_result"
    }
   ],
   "source": [
    "keyDF.head"
   ]
  },
  {
   "cell_type": "code",
   "execution_count": 6,
   "metadata": {
    "collapsed": false
   },
   "outputs": [
    {
     "name": "stdout",
     "output_type": "stream",
     "text": [
      "250.074972868\n"
     ]
    }
   ],
   "source": [
    "# Let's look at number of meetings and user_id for events within the past 7 days\n",
    "# GROUP BY user ID!\n",
    "# This took 250 seconds (~4 min) to run over the past 7 days\n",
    "\n",
    "starttime=time.time()\n",
    "\n",
    "sql_query=\"\"\"\n",
    "select distinct c.user_id, count(e.time_range) num_meetings\n",
    "from users u\n",
    "join \n",
    "    calendars c\n",
    "on\n",
    "    u.id = c.user_id\n",
    "left outer join \n",
    "    events e \n",
    "on \n",
    "    e.calendar_id = c.id\n",
    "where lower(e.time_range) between (current_date - INTERVAL '7 days') and current_date\n",
    "and json_array_length(e.attendees) > 0\n",
    "group by c.user_id\n",
    "\"\"\"\n",
    "\n",
    "query_result = pd.read_sql_query(sql_query,conT)\n",
    "\n",
    "print(time.time()-starttime)"
   ]
  },
  {
   "cell_type": "code",
   "execution_count": 15,
   "metadata": {
    "collapsed": false,
    "scrolled": true
   },
   "outputs": [
    {
     "ename": "AttributeError",
     "evalue": "'DataFrame' object has no attribute 'num_attendees'",
     "output_type": "error",
     "traceback": [
      "\u001b[0;31m---------------------------------------------------------------------------\u001b[0m",
      "\u001b[0;31mAttributeError\u001b[0m                            Traceback (most recent call last)",
      "\u001b[0;32m<ipython-input-15-fe77ef961371>\u001b[0m in \u001b[0;36m<module>\u001b[0;34m()\u001b[0m\n\u001b[1;32m      2\u001b[0m \u001b[0mdf_allevts\u001b[0m\u001b[0;34m.\u001b[0m\u001b[0mcolumns\u001b[0m\u001b[0;34m\u001b[0m\u001b[0m\n\u001b[1;32m      3\u001b[0m \u001b[0;34m\u001b[0m\u001b[0m\n\u001b[0;32m----> 4\u001b[0;31m \u001b[0mdf_allevts\u001b[0m\u001b[0;34m.\u001b[0m\u001b[0mnum_attendees\u001b[0m\u001b[0;34m.\u001b[0m\u001b[0mhead\u001b[0m\u001b[0;34m(\u001b[0m\u001b[0;34m)\u001b[0m\u001b[0;34m\u001b[0m\u001b[0m\n\u001b[0m",
      "\u001b[0;32m//anaconda/lib/python2.7/site-packages/pandas/core/generic.pyc\u001b[0m in \u001b[0;36m__getattr__\u001b[0;34m(self, name)\u001b[0m\n\u001b[1;32m   2244\u001b[0m                 \u001b[0;32mreturn\u001b[0m \u001b[0mself\u001b[0m\u001b[0;34m[\u001b[0m\u001b[0mname\u001b[0m\u001b[0;34m]\u001b[0m\u001b[0;34m\u001b[0m\u001b[0m\n\u001b[1;32m   2245\u001b[0m             raise AttributeError(\"'%s' object has no attribute '%s'\" %\n\u001b[0;32m-> 2246\u001b[0;31m                                  (type(self).__name__, name))\n\u001b[0m\u001b[1;32m   2247\u001b[0m \u001b[0;34m\u001b[0m\u001b[0m\n\u001b[1;32m   2248\u001b[0m     \u001b[0;32mdef\u001b[0m \u001b[0m__setattr__\u001b[0m\u001b[0;34m(\u001b[0m\u001b[0mself\u001b[0m\u001b[0;34m,\u001b[0m \u001b[0mname\u001b[0m\u001b[0;34m,\u001b[0m \u001b[0mvalue\u001b[0m\u001b[0;34m)\u001b[0m\u001b[0;34m:\u001b[0m\u001b[0;34m\u001b[0m\u001b[0m\n",
      "\u001b[0;31mAttributeError\u001b[0m: 'DataFrame' object has no attribute 'num_attendees'"
     ]
    }
   ],
   "source": [
    "df_allevts=query_result.iloc[:]\n",
    "df_allevts.columns"
   ]
  },
  {
   "cell_type": "code",
   "execution_count": 16,
   "metadata": {
    "collapsed": false,
    "scrolled": true
   },
   "outputs": [
    {
     "name": "stdout",
     "output_type": "stream",
     "text": [
      "18201\n",
      "310323\n"
     ]
    },
    {
     "data": {
      "text/plain": [
       "1    55a96f3a88d12f25e28c3a05\n",
       "2    5626c4e48a7fb211d2a833a4\n",
       "3    55e8c78a8ed8bb343d3d998c\n",
       "4    5665b492afd3c65089b0b1a6\n",
       "5    54dd311e98a41d404cf5f76f\n",
       "6    55f03cdb8e41046db9c9c60d\n",
       "7    554290e7c164865117e00eb4\n",
       "8    55d4b90f51783604841a24cf\n",
       "9    551ad1fd9283a553dac3a020\n",
       "Name: user_id, dtype: object"
      ]
     },
     "execution_count": 16,
     "metadata": {},
     "output_type": "execute_result"
    }
   ],
   "source": [
    "print(len(df_allevts[:]['user_id'].unique()))\n",
    "print(len(df_allevts[:]['user_id']))\n",
    "\n",
    "df_allevts[1:10]['user_id']"
   ]
  },
  {
   "cell_type": "code",
   "execution_count": null,
   "metadata": {
    "collapsed": false,
    "scrolled": true
   },
   "outputs": [],
   "source": [
    "\n"
   ]
  },
  {
   "cell_type": "code",
   "execution_count": null,
   "metadata": {
    "collapsed": true,
    "scrolled": true
   },
   "outputs": [],
   "source": [
    "# Ok, this is just to keep the dataframe that I made with all of the individual events per \n",
    "# person (before I subset into meetings with other people.)\n",
    "events = meetings\n"
   ]
  },
  {
   "cell_type": "code",
   "execution_count": null,
   "metadata": {
    "collapsed": false,
    "scrolled": true
   },
   "outputs": [],
   "source": [
    "# Find the number of meetings that each user has had in the amount of time specified in the SQL query\n",
    "# First just do a groupby command over a subset of the data\n",
    "print(df_allevts.columns)\n",
    "print(df.columns)\n",
    "df.groupby(['user_id']).agg(['meeting_start'])\n",
    "#df[['user_id', 'num_attendees']].groupby(['user_id']).agg(['num_attendees'])"
   ]
  },
  {
   "cell_type": "code",
   "execution_count": null,
   "metadata": {
    "collapsed": false,
    "scrolled": true
   },
   "outputs": [],
   "source": [
    "# Make a dict of user_id paired with number of meetings\n",
    "\n",
    "#meeting_count = dict()\n",
    "meeting_count = pd.DataFrame(columns=['user_id', 'num_meetings'])\n",
    "\n",
    "i=0\n",
    "for line in df.groupby('user_id'):\n",
    "#    meeting_count[line[0]] = len(line[1])\n",
    "    #meeting_count.user_id[i]=line[0]\n",
    "    #meeting_count.num_meetings[i]=len(line[1])\n",
    "    if i < 1:\n",
    "        print(line)\n",
    "    i +=1"
   ]
  },
  {
   "cell_type": "code",
   "execution_count": null,
   "metadata": {
    "collapsed": false,
    "scrolled": true
   },
   "outputs": [],
   "source": [
    "df.groupby('user_id')"
   ]
  },
  {
   "cell_type": "code",
   "execution_count": null,
   "metadata": {
    "collapsed": false,
    "scrolled": true
   },
   "outputs": [],
   "source": [
    "x = df.groupby('user_id')\n",
    "type(x)\n",
    "\n",
    "df.groupby('').size().plot(kind='bar')"
   ]
  },
  {
   "cell_type": "code",
   "execution_count": null,
   "metadata": {
    "collapsed": false,
    "scrolled": true
   },
   "outputs": [],
   "source": [
    "for user in meetings.user_id:\n",
    "    #print(user)\n",
    "    meetings.num_meetings[meetings.user_id == user]=len(df[df['user_id'] == user])\n",
    "    \n",
    "#print(time.time()-starttime)\n",
    "#meetings.head"
   ]
  },
  {
   "cell_type": "code",
   "execution_count": null,
   "metadata": {
    "collapsed": false,
    "scrolled": true
   },
   "outputs": [],
   "source": [
    "plt.figure(figsize=(20,10))\n",
    "#plt.legend('Number of attendees at each meeting (people that signed up in the past 1 day)', fontsize=25)\n",
    "\n",
    "meetings.groupby('num_meetings').size().plot(kind='bar')\n",
    "plt.savefig('NumberOfMeetingsInPastWeekAllUsers.png')"
   ]
  },
  {
   "cell_type": "code",
   "execution_count": null,
   "metadata": {
    "collapsed": false,
    "scrolled": false
   },
   "outputs": [],
   "source": [
    "# All calendar events for users registering in past 7 days\n",
    "# (This takes a few minutes to run)\n",
    "\n",
    "sql_query=\"\"\"\n",
    "select u.primary_email, c.user_id, c.source_id, c.type, c.active, c.title, \n",
    "json_array_length(e.attendees) attendee_count, e.time_range, e.title\n",
    "from users u\n",
    "join     \n",
    "    calendars c\n",
    "on     \n",
    "    u.id = c.user_id\n",
    "left outer join \n",
    "    events e \n",
    "on \n",
    "    e.calendar_id = c.id\n",
    "    and lower(e.time_range) between (current_date - INTERVAL '7 days') and current_date\n",
    "where u.id = c.user_id\n",
    "and u.created_at > current_date - INTERVAL '7 days'\n",
    "and json_array_length(e.attendees) > 0\n",
    "\"\"\"\n",
    "\n",
    "query_result = pd.read_sql_query(sql_query,conT)"
   ]
  },
  {
   "cell_type": "code",
   "execution_count": null,
   "metadata": {
    "collapsed": false,
    "scrolled": true
   },
   "outputs": [],
   "source": [
    "df=query_result.iloc[:]"
   ]
  },
  {
   "cell_type": "code",
   "execution_count": null,
   "metadata": {
    "collapsed": false,
    "scrolled": true
   },
   "outputs": [],
   "source": [
    "df.columns"
   ]
  },
  {
   "cell_type": "code",
   "execution_count": null,
   "metadata": {
    "collapsed": false,
    "scrolled": true
   },
   "outputs": [],
   "source": [
    "plt.figure(figsize=(20,10))\n",
    "#plt.legend('Number of attendees at each meeting (people that signed up in the past 1 day)', fontsize=25)\n",
    "\n",
    "df.groupby('attendee_count').size().plot(kind='bar')"
   ]
  },
  {
   "cell_type": "code",
   "execution_count": null,
   "metadata": {
    "collapsed": false,
    "scrolled": true
   },
   "outputs": [],
   "source": [
    "for time_range in query_result.iloc[1:5]['user_id']:\n",
    "    print(time_range)"
   ]
  },
  {
   "cell_type": "code",
   "execution_count": null,
   "metadata": {
    "collapsed": true,
    "scrolled": true
   },
   "outputs": [],
   "source": [
    "# People from companies viewing a meeting details page by week\n",
    "# event data\n",
    "\n",
    "# Select 4 columns of data (company, date, number of users, and number of events)\n",
    "# from the table which holds data from events where people viewed the meeting_details\n",
    "# page.  Then group the data by week and company name\n",
    "sql_query=\"\"\"\n",
    "select \n",
    "    u_company_name as company,\n",
    "    date_trunc('week', event_time)::date as week,\n",
    "    count(distinct user_id) as users, \n",
    "    count(*) as events\n",
    "from app131567.viewed_meeting_details_page\n",
    "group by date_trunc('week', event_time)::date, u_company_name\n",
    "order by company, week asc\n",
    "\"\"\"\n",
    "\n",
    "\n",
    "query_result = pd.read_sql_query(sql_query,conE)"
   ]
  },
  {
   "cell_type": "code",
   "execution_count": null,
   "metadata": {
    "collapsed": true,
    "scrolled": true
   },
   "outputs": [],
   "source": [
    "#plt.scatter(df.users[df.company=='15five.com'],df.events[df.company=='15five.com'] )\n"
   ]
  },
  {
   "cell_type": "code",
   "execution_count": null,
   "metadata": {
    "collapsed": true
   },
   "outputs": [],
   "source": [
    "# People from companies viewing a meeting details page by week\n",
    "# event data\n",
    "\n",
    "# Select 2 columns of data (date, number of unique users)\n",
    "# from the table which holds data from events where people viewed the meeting_details\n",
    "# page.  Then group the data by week.\n",
    "\n",
    "sql_query=\"\"\"\n",
    "select \n",
    "    date_trunc('week', event_time)::date as week,\n",
    "    count(distinct user_id) as users\n",
    "from app131567.viewed_meeting_details_page\n",
    "group by date_trunc('week', event_time)::date\n",
    "order by week asc\n",
    "\"\"\"\n",
    "\n",
    "query_result = pd.read_sql_query(sql_query,conE)\n",
    "\n",
    "df = query_result.iloc[:]"
   ]
  },
  {
   "cell_type": "code",
   "execution_count": null,
   "metadata": {
    "collapsed": true
   },
   "outputs": [],
   "source": [
    "date_cutoff = datetime.strptime('2015-08-02', '%Y-%m-%d').date()\n",
    "\n",
    "xlabel='Week'\n",
    "ylabel='Number of Users logged in (at least once)'\n",
    "plt.figure(figsize=(20,10))\n",
    "plt.xlabel(xlabel, fontsize=25)\n",
    "plt.ylabel(ylabel, fontsize=25)\n",
    "\n",
    "# histogram of count of weeks\n",
    "#df.groupby('week').size().plot(kind='bar')\n",
    "\n",
    "plt.plot(df.week[df.week > date_cutoff], df.users[df.week > date_cutoff])\n",
    "plt.plot(df.week, df.users)\n",
    "#plt.scatter(query_result.iloc[:]['users'], query_result.iloc[:]['events'], color=\"red\")\n",
    "#plt.scatter(df.users[df.users < 500], df.events[df.users < 500], color=\"red\")\n",
    "#plt.scatter(df.users[df.users < 100], df.events[df.users < 100], color=\"red\")\n",
    "#plt.scatter(df.users[df.users > 1500], df.events[df.users > 1500], color=\"red\")\n",
    "#plt.scatter(df.users, df.events, color=\"red\")\n",
    "\n",
    "plt.savefig(path+xlabel+'BY'+ylabel+'.png')\n"
   ]
  },
  {
   "cell_type": "code",
   "execution_count": null,
   "metadata": {
    "collapsed": true
   },
   "outputs": [],
   "source": [
    "# Trailing 7 day calendar events for a specific user id\n",
    "\n",
    "# sql_query=\"\"\"\n",
    "# select c.user_id, c.source_id, c.type, c.active, c.title, e.* \n",
    "# from calendars c, events e\n",
    "# where c.id = e.calendar_id\n",
    "# and c.user_id = '54d14f9453832673fdd7c29c'\n",
    "# and lower(time_range) between (current_date - INTERVAL '7 days') and current_date\n",
    "# \"\"\"\n",
    "\n",
    "# calendars variables:\n",
    "# id, type, source_id, active, raw, created_at, updated_at, sync, legacy, last_event_sync_at, last_calendar_sync_at,\n",
    "# deleted_at, user_id, needs_sync, integration_id, title\n",
    "\n",
    "# event variables:\n",
    "# id, type, source_id, calendar_id, raw, created_at, updated_at, time_range, legacy, ignored, title, location, \n",
    "# source_url, attendees, global_id, recurring_event_id\n",
    "\n",
    "sql_query=\"\"\"\n",
    "select e.*\n",
    "from calendars c, events e\n",
    "where c.id = e.calendar_id\n",
    "and c.user_id = '54d14f9453832673fdd7c29c'\n",
    "and lower(time_range) between (current_date - INTERVAL '7 days') and current_date\n",
    "\"\"\"\n",
    "\n",
    "query_result = pd.read_sql_query(sql_query,conT)"
   ]
  }
 ],
 "metadata": {
  "kernelspec": {
   "display_name": "Python 2",
   "language": "python",
   "name": "python2"
  },
  "language_info": {
   "codemirror_mode": {
    "name": "ipython",
    "version": 2
   },
   "file_extension": ".py",
   "mimetype": "text/x-python",
   "name": "python",
   "nbconvert_exporter": "python",
   "pygments_lexer": "ipython2",
   "version": "2.7.11"
  }
 },
 "nbformat": 4,
 "nbformat_minor": 0
}
